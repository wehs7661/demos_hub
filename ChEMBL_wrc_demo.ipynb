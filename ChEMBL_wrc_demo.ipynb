{
 "cells": [
  {
   "cell_type": "markdown",
   "metadata": {},
   "source": [
    "# A demonstration of ChEMBL webresource client"
   ]
  },
  {
   "cell_type": "markdown",
   "metadata": {},
   "source": [
    "ChEMBL webresource client is the official Python cliet library that helps access ChEMBL data. It provides a simple interface to the ChEMBL web services and allows to query the ChEMBL database and retrieve data in a programmatic way. Adapted from the official [demo](http://beta.mybinder.org/v2/gh/chembl/chembl_webresource_client/master?filepath=demo_wrc.ipynb) included in the repo of [`chembl_webresource_client`](https://github.com/chembl/chembl_webresource_client), this jupyter notebook presents some more detailed examples of how to use the client library to access ChEMBL data."
   ]
  },
  {
   "cell_type": "markdown",
   "metadata": {},
   "source": [
    "## Available filters\n",
    "ChEMBL webresource client provides a number of lookups for flexible quering of the database, making it filter and retrieve specific data. Here are some notes about each lookup type supported by ChEMBL:\n",
    "  - `exact`: Matches an exact value, e.g., `name__exact='Aspirin'` would match if the name is exactly `'Aspirin'`.\n",
    "  - `iexact`: Case-insensitive exact value, e.g., `name__iexact='aspirin'` would match if the name is `'aspirin'`, `'ASPIRIN'`, etc.\n",
    "  - `contains`: Checks if a value contains the specified substring, e.g., `description__contains='pain'` would match if the description contains the substring `'pain'`.\n",
    "  - `icontains`: Case-insensitive contains, e.g., `description__icontains='Pain'` would match if the description contains `'pain'`, `'Pain'`, etc.\n",
    "  - `in`: Matches if the value is within a specified list, e.g., `id__in=[1, 2, 3]` would match if the id is 1, 2, or 3.\n",
    "  - `gt`/`gte/lt/lte`: Greater than/greater than or equal to/less than/less than or equal to, e.g., `value__gt=10` would match if the value is greater than 10.\n",
    "  - `startswith/endswith`: Matches if a value starts/ends with the specified substring, e.g., `name__startswith='Asp'` would match if the name starts with `'Asp'`.\n",
    "  - `istartswith/iendswith`: Case-insensitive starts/ends with, e.g., `name__istartswith='asp'` would match if the name starts with `'asp'`, `'Asp'`, etc.\n",
    "  - `range`: Matches if a value is within a specified range, e.g., `value__range=(1, 10)` would atch if the value is between 1 and 10 inclusive. \n",
    "  - `isnull`: Matches if a value is null, e.g., `date_isnull=True` would match if the date is null.\n",
    "  - `regex`: Matches if a value matches the specified regular expression, e.g.,  `name__regex=r'^[A-Z]'` would match if the name starts with an uppercase letter.\n",
    "  - `iregex`: Case-insensitive regular expression match, e.g., `name__iregex=r'^[a-z]'` would match if the name starts with a letter, regardless of case.\n",
    "  - `search`: Full-text search, supported in som backends like PostgresSQL, e.g., `description__search='pain relief'` would match if the description matches the full-text search term `'pain relief'`.\n"
   ]
  },
  {
   "cell_type": "markdown",
   "metadata": {},
   "source": [
    "## The `only` operator\n",
    "### Introduction\n",
    "The `only` method in the ChEMBL webresrouce client is used to limit the results of a query to a specific set of fields. The `only` method takes a single argument, which is a list of fields that one wants to include in the result. When one uses the `only` method to specify a subset of fields, the API will return only those fields, rather than the entire dataset. This reduces the amount of data being transmitted over the network, thus saving bandwidth and making the API call/query faster."
   ]
  },
  {
   "cell_type": "markdown",
   "metadata": {},
   "source": [
    "### Example"
   ]
  },
  {
   "cell_type": "code",
   "execution_count": 2,
   "metadata": {},
   "outputs": [],
   "source": [
    "from chembl_webresource_client.new_client import new_client\n",
    "\n",
    "# Create a client for molecules\n",
    "molecule = new_client.molecule\n",
    "\n",
    "mol_1 = molecule.get('CHEMBL25')\n",
    "mol_2 = molecule.filter(chembl_id='CHEMBL25').only(['chembl_id', 'molecule_properties', 'molecule_structures'])\n",
    "mol_3 = molecule.filter(chembl_id='CHEMBL25')"
   ]
  },
  {
   "cell_type": "markdown",
   "metadata": {},
   "source": [
    "- As can be checked, `mol_1` is a dictionary containing 36 keys relevant to the compound aspirin, including `'atc_classifications'`, `'availability_type'`, ... `'molecule_properties'`, `'molecule_structures'`, ... etc."
   ]
  },
  {
   "cell_type": "code",
   "execution_count": 3,
   "metadata": {},
   "outputs": [
    {
     "data": {
      "text/plain": [
       "dict_keys(['atc_classifications', 'availability_type', 'biotherapeutic', 'black_box_warning', 'chebi_par_id', 'chemical_probe', 'chirality', 'cross_references', 'dosed_ingredient', 'first_approval', 'first_in_class', 'helm_notation', 'indication_class', 'inorganic_flag', 'max_phase', 'molecule_chembl_id', 'molecule_hierarchy', 'molecule_properties', 'molecule_structures', 'molecule_synonyms', 'molecule_type', 'natural_product', 'oral', 'orphan', 'parenteral', 'polymer_flag', 'pref_name', 'prodrug', 'structure_type', 'therapeutic_flag', 'topical', 'usan_stem', 'usan_stem_definition', 'usan_substem', 'usan_year', 'withdrawn_flag'])"
      ]
     },
     "execution_count": 3,
     "metadata": {},
     "output_type": "execute_result"
    }
   ],
   "source": [
    "mol_1.keys()"
   ]
  },
  {
   "cell_type": "markdown",
   "metadata": {},
   "source": [
    "- On the other hand, `mol_2` is an object of `chembl_webresource_client.query_set.QuerySet`. It can be indexed and has only one element in this case. Specifically, `mol_2[0]` is a dictionary containing only two keys (`'molecule_properties'` and `'molecule_structures'` for the same compound aspirin.)"
   ]
  },
  {
   "cell_type": "code",
   "execution_count": 4,
   "metadata": {},
   "outputs": [
    {
     "data": {
      "text/plain": [
       "chembl_webresource_client.query_set.QuerySet"
      ]
     },
     "execution_count": 4,
     "metadata": {},
     "output_type": "execute_result"
    }
   ],
   "source": [
    "type(mol_2)"
   ]
  },
  {
   "cell_type": "code",
   "execution_count": 5,
   "metadata": {},
   "outputs": [
    {
     "data": {
      "text/plain": [
       "{'molecule_properties': {'alogp': '1.31',\n",
       "  'aromatic_rings': 1,\n",
       "  'cx_logd': '-2.16',\n",
       "  'cx_logp': '1.24',\n",
       "  'cx_most_apka': '3.41',\n",
       "  'cx_most_bpka': None,\n",
       "  'full_molformula': 'C9H8O4',\n",
       "  'full_mwt': '180.16',\n",
       "  'hba': 3,\n",
       "  'hba_lipinski': 4,\n",
       "  'hbd': 1,\n",
       "  'hbd_lipinski': 1,\n",
       "  'heavy_atoms': 13,\n",
       "  'molecular_species': 'ACID',\n",
       "  'mw_freebase': '180.16',\n",
       "  'mw_monoisotopic': '180.0423',\n",
       "  'np_likeness_score': '0.12',\n",
       "  'num_lipinski_ro5_violations': 0,\n",
       "  'num_ro5_violations': 0,\n",
       "  'psa': '63.60',\n",
       "  'qed_weighted': '0.55',\n",
       "  'ro3_pass': 'N',\n",
       "  'rtb': 2},\n",
       " 'molecule_structures': {'canonical_smiles': 'CC(=O)Oc1ccccc1C(=O)O',\n",
       "  'molfile': '\\n     RDKit          2D\\n\\n 13 13  0  0  0  0  0  0  0  0999 V2000\\n   19.8052   -4.2758    0.0000 C   0  0  0  0  0  0  0  0  0  0  0  0\\n   19.8040   -5.0953    0.0000 C   0  0  0  0  0  0  0  0  0  0  0  0\\n   20.5121   -5.5043    0.0000 C   0  0  0  0  0  0  0  0  0  0  0  0\\n   21.2217   -5.0948    0.0000 C   0  0  0  0  0  0  0  0  0  0  0  0\\n   21.2189   -4.2722    0.0000 C   0  0  0  0  0  0  0  0  0  0  0  0\\n   20.5103   -3.8669    0.0000 C   0  0  0  0  0  0  0  0  0  0  0  0\\n   20.5078   -3.0497    0.0000 C   0  0  0  0  0  0  0  0  0  0  0  0\\n   21.2143   -2.6390    0.0000 O   0  0  0  0  0  0  0  0  0  0  0  0\\n   19.7989   -2.6432    0.0000 O   0  0  0  0  0  0  0  0  0  0  0  0\\n   21.9250   -3.8609    0.0000 O   0  0  0  0  0  0  0  0  0  0  0  0\\n   22.6343   -4.2668    0.0000 C   0  0  0  0  0  0  0  0  0  0  0  0\\n   23.3405   -3.8556    0.0000 C   0  0  0  0  0  0  0  0  0  0  0  0\\n   22.6374   -5.0840    0.0000 O   0  0  0  0  0  0  0  0  0  0  0  0\\n  1  2  2  0\\n  2  3  1  0\\n  3  4  2  0\\n  4  5  1  0\\n  5  6  2  0\\n  6  1  1  0\\n  6  7  1  0\\n  7  8  1  0\\n  7  9  2  0\\n  5 10  1  0\\n 10 11  1  0\\n 11 12  1  0\\n 11 13  2  0\\nM  END\\n> <chembl_id>\\nNone\\n\\n> <chembl_pref_name>\\nundefined',\n",
       "  'standard_inchi': 'InChI=1S/C9H8O4/c1-6(10)13-8-5-3-2-4-7(8)9(11)12/h2-5H,1H3,(H,11,12)',\n",
       "  'standard_inchi_key': 'BSYNRYMUTXBXSQ-UHFFFAOYSA-N'}}"
      ]
     },
     "execution_count": 5,
     "metadata": {},
     "output_type": "execute_result"
    }
   ],
   "source": [
    "mol_2[0]"
   ]
  },
  {
   "cell_type": "markdown",
   "metadata": {},
   "source": [
    "- `mol_3` is also an object of `chembl_webresource_client.query_set.QuerySet` and also has only one element, which is a dictionary for the compound aspirin. However, since the `only` method was not used. `mol_3[0]` is equivalent to `mol_1`."
   ]
  },
  {
   "cell_type": "code",
   "execution_count": 6,
   "metadata": {},
   "outputs": [
    {
     "data": {
      "text/plain": [
       "True"
      ]
     },
     "execution_count": 6,
     "metadata": {},
     "output_type": "execute_result"
    }
   ],
   "source": [
    "mol_3[0] == mol_1"
   ]
  },
  {
   "cell_type": "markdown",
   "metadata": {},
   "source": [
    "- So for `mol_1` and `mol_3`, the query retrieved all information about the molecule with ChEMBL ID `CHEMBL25`, which can include a lot of data. On the other hand, for `mol_2`, the query was limited to only return the `chembl_id`, `molecule_properties`, and `molecule_structures` fields for the molecule with ChEMBL ID `CHEMBL25`. This reduces the amount of data returned and can speed up the query."
   ]
  },
  {
   "cell_type": "code",
   "execution_count": 30,
   "metadata": {},
   "outputs": [
    {
     "name": "stdout",
     "output_type": "stream",
     "text": [
      "keys of A: dict_keys(['molecule_properties', 'molecule_structures'])\n",
      "keys of B: dict_keys(['molecule_properties', 'molecule_structures'])\n",
      "Keys of A and B are the same:  True\n",
      "Values of A and B are the same:  True\n",
      "False\n"
     ]
    }
   ],
   "source": [
    "A = molecule.filter(chembl_id='CHEMBL25').only(['chembl_id' 'molecule_properties', 'molecule_structures'])\n",
    "B = molecule.filter(chembl_id='CHEMBL25').only([ 'molecule_properties', 'molecule_structures'])\n",
    "\n",
    "print(f'keys of A: {A[0].keys()}\\nkeys of B: {B[0].keys()}')\n",
    "print('Keys of A and B are the same: ', A[0].keys() == B[0].keys())\n",
    "print('Values of A and B are the same: ', A[0] == B[0])\n",
    "print(A == B)"
   ]
  },
  {
   "cell_type": "markdown",
   "metadata": {},
   "source": [
    "- As shown above, `A` and `B` are essentially the same in terms of their keys and values, though `A==B` still returned `False`. This is because they are indeed different queries. In fact, even `a==b` below returns `False`."
   ]
  },
  {
   "cell_type": "code",
   "execution_count": 34,
   "metadata": {},
   "outputs": [
    {
     "data": {
      "text/plain": [
       "False"
      ]
     },
     "execution_count": 34,
     "metadata": {},
     "output_type": "execute_result"
    }
   ],
   "source": [
    "a = molecule.filter(chembl_id='CHEMBL25').only(['molecule_properties', 'molecule_structures'])\n",
    "b = molecule.filter(chembl_id='CHEMBL25').only(['molecule_properties', 'molecule_structures'])\n",
    "a == b"
   ]
  },
  {
   "cell_type": "markdown",
   "metadata": {},
   "source": [
    "- Note that specified fields have to exist in the endpoint against which only is executed.\n",
    "  - An API endpoint is a specific URL or address at which a service can be accessed by applications to perform operations such as fetching data or sending data. Think of it as a specific function or resource you can interact with through a URL. In simpler terms, an API endpoint is like a door through which you can request specific information from a database or service.\n",
    "  - The molecule endpoint might be something like https://www.ebi.ac.uk/chembl/api/data/molecule. Each endpoint corresponds to a particular type of data or functionality provided by the API.\n",
    "  - The example above used the method `molecule` to create a client. There are a lot of other methods one can use, which can be checked by the following code:"
   ]
  },
  {
   "cell_type": "code",
   "execution_count": 35,
   "metadata": {},
   "outputs": [
    {
     "name": "stdout",
     "output_type": "stream",
     "text": [
      "['activity', 'activity_supplementary_data_by_activity', 'assay', 'assay_class', 'atc_class', 'binding_site', 'biotherapeutic', 'cell_line', 'chembl_id_lookup', 'chembl_release', 'compound_record', 'compound_structural_alert', 'description', 'document', 'document_similarity', 'drug', 'drug_indication', 'drug_warning', 'go_slim', 'image', 'mechanism', 'metabolism', 'molecule', 'molecule_form', 'official', 'organism', 'protein_classification', 'similarity', 'source', 'substructure', 'target', 'target_component', 'target_relation', 'tissue', 'xref_source']\n"
     ]
    }
   ],
   "source": [
    "available_resources = [resource for resource in dir(new_client) if not resource.startswith('_')]\n",
    "print(available_resources)"
   ]
  },
  {
   "cell_type": "markdown",
   "metadata": {},
   "source": [
    "For example, one can create a client using `activity`:"
   ]
  },
  {
   "cell_type": "code",
   "execution_count": 37,
   "metadata": {},
   "outputs": [
    {
     "name": "stdout",
     "output_type": "stream",
     "text": [
      "[{'activity_id': 42173, 'assay_chembl_id': 'CHEMBL702885', 'standard_type': \"Log K'\", 'standard_units': None, 'standard_value': '1.39', 'type': \"Log K'\", 'units': None, 'value': '1.39'}, {'activity_id': 81965, 'assay_chembl_id': 'CHEMBL771355', 'standard_type': 'Activity', 'standard_units': '%', 'standard_value': '100.0', 'type': 'Activity', 'units': '%', 'value': '100.0'}, {'activity_id': 81966, 'assay_chembl_id': 'CHEMBL780106', 'standard_type': 'ED25', 'standard_units': 'uM kg-1', 'standard_value': '402.0', 'type': 'ED25', 'units': 'uM kg-1', 'value': '402.0'}, {'activity_id': 88326, 'assay_chembl_id': 'CHEMBL762032', 'standard_type': 'IC50', 'standard_units': 'nM', 'standard_value': '34600.0', 'type': 'IC50', 'units': 'uM', 'value': '34.6'}, '...(remaining elements truncated)...']\n"
     ]
    }
   ],
   "source": [
    "activity = new_client.activity\n",
    "activities = activity.filter(molecule_chembl_id='CHEMBL25').only(['activity_id', 'assay_chembl_id', 'standard_value', 'standard_units', 'standard_type'])\n",
    "print(activities)"
   ]
  },
  {
   "cell_type": "markdown",
   "metadata": {},
   "source": [
    "or using `target`:"
   ]
  },
  {
   "cell_type": "code",
   "execution_count": 38,
   "metadata": {},
   "outputs": [
    {
     "name": "stdout",
     "output_type": "stream",
     "text": [
      "[{'organism': 'Rattus norvegicus', 'pref_name': 'Glutamate receptor ionotropic, AMPA', 'species_group_flag': False, 'target_chembl_id': 'CHEMBL2093871', 'target_type': 'PROTEIN COMPLEX GROUP'}]\n"
     ]
    }
   ],
   "source": [
    "target = new_client.target\n",
    "target_info = target.filter(target_chembl_id='CHEMBL2093871').only(['target_chembl_id', 'pref_name', 'organism', 'target_type', 'species_group_flag'])\n",
    "print(target_info)"
   ]
  },
  {
   "cell_type": "code",
   "execution_count": 15,
   "metadata": {},
   "outputs": [
    {
     "name": "stdout",
     "output_type": "stream",
     "text": [
      "True\n",
      "False\n"
     ]
    }
   ],
   "source": [
    "A = {'one': 1, 'two': 2, 'three': 3}\n",
    "B = {'three': 3, 'two': 2, 'one': 1}\n",
    "\n",
    "# A == B is True\n",
    "print(A == B)  # True\n",
    "\n",
    "# A.values() == B.values() is False because the order of values is different\n",
    "print(A.values() == B.values())  # False\n"
   ]
  },
  {
   "cell_type": "markdown",
   "metadata": {},
   "source": [
    "### Limitations\n",
    "- **Nested fields**: Specifying nested fields won't work as intended, as the `only` method ignores nested fields. The parent field will be returned instead. For instance `only(['molecule_proper__alogp'])` is treated as `only(['molecule_properties'])`.\n",
    "- **Many-to-many relationship**: For many-to-many relationship, `only` won't optimize SQL joins. This means it won't reduce the complexity of retrieving related data in such relationships.  \n",
    "\n",
    "### Benefits\n",
    "By using `only`, you can significantly reduce the payload size and improve the performance of your API calls, esepcially when you only need a few fields from a potentially large dataset. This is particularly useful in scenarios where bandwidth and response time are critical. (Behind the scene, the API logic will also check if any SQL joins are necessary to return the specified field and exclude unnecessary joins with critically improves performance.)\n",
    "\n",
    "### Complementary notes\n",
    "#### What are SQL joins?\n",
    "(Notes taken from the response by ChatGPT-4o.)\n",
    "- SQL is a standard language used to communicate with databases. It allows you to create, read, update, and delete data in a database. In SQL, a join is a way to combine rows from two or more tables based on a related column between them. \n",
    "- Types of SQL Joins:\n",
    "  - `INNER JOIN`: Returns only the rows that have matching values in both tables.\n",
    "  - `LEFT JOIN` (or `LEFT OUTER JOIN`): Returns all rows from the left table, and the matched rows from the right table. If no match, NULL values are returned for columns from the right table.\n",
    "  - `RIGHT JOIN` (or `RIGHT OUTER JOIN`): Returns all rows from the right table, and the matched rows from the left table. If no match, NULL values are returned for columns from the left table.\n",
    "  - `FULL JOIN` (or `FULL OUTER JOIN`): Returns all rows when there is a match in either left or right table. Rows that do not have a match in either table are also included, with NULLs in the columns of the non-matching table.\n",
    "- Example\n",
    "  - Imagine you have two tables in a database.\n",
    "    - Table 1: Molecules \n",
    "      | chembl_id | name | \n",
    "      | :--------: | :--------: |\n",
    "      | CHEMBL25 | Aspirin     | \n",
    "      | CHEMBL26 | Paracetamol     | \n",
    "    - Table 2: Molecule Properties\n",
    "      | chembl_id |   property_name  | property_value |\n",
    "      |:---------:|:----------------:|:--------------:|\n",
    "      |  CHEMBL25 |       logP       |       1.2      |\n",
    "      |  CHEMBL25 | molecular_weight |     180.16     |\n",
    "      |  CHEMBL26 |       logP       |       0.5      |\n",
    "      | CHEMBL26  | molecular_weight | 151.17         |\n",
    "  - Join example\n",
    "    - You want to retrieve the molecule name and its logP value.\n",
    "    - The common column between the two tables is `chembl_id`. \n",
    "  - SQL query\n",
    "    ```sql\n",
    "    SELECT molecule.name, molecule_properties.property_value AS logP\n",
    "    FROM molecule\n",
    "    INNER JOIN molecule_properties\n",
    "    ON molecule.chembl_id = molecule_properties.chembl_id\n",
    "    WHERE molecule_properties.property_name = 'logP';\n",
    "    ```\n",
    "  - Result\n",
    "    |     name    | logP |\n",
    "    |:-----------:|:----:|\n",
    "    |   Aspirin   |  1.2 |\n",
    "    | Paracetamol |  0.5 |\n",
    "  - In this query:\n",
    "    - `INNER JOIN` is used to combine rows from the molecule table and molecule_properties table where the `chembl_id` matches.\n",
    "    - The `WHERE` clause filters the properties to only get the logP values.\n",
    "  - When the API needs to fetch data that resides in multiple related tables, it may perform joins behind the scenes to combine the necessary data into a single response. By using the only method, you help the API understand which specific fields you need, allowing it to exclude unnecessary joins and optimize the query.\n",
    "\n",
    "#### What are many-to-many relationships?\n",
    "Many-to-many relationships are a common concept in database design where a record in one table can be associated with multiple records in another table, and vice versa. To manage many-to-many relationships, a third table, often called a \"junction table\" or \"join table,\" is used to link the two related tables.\n",
    "- Example scenario\n",
    "  - Consider a database where we have three tables: \"Compounds\", \"Assays\" and \"Targets\". As shown below, the columns of the table create a many-to-many relationship between tables. Specifically\n",
    "    - Compounds:\n",
    "      | chembl_id | molecule_name |\n",
    "      |:---------:|:-------------:|\n",
    "      |  CHEMBL25 |    Aspirin    |\n",
    "      |  CHEMBL26 |  Paracetamol  |\n",
    "    - Assays:\n",
    "      | assay_id |    assay_description   |\n",
    "      |:--------:|:----------------------:|\n",
    "      |    A1    | Inhibition of enzyme X |\n",
    "      |    A2    |  Binding to receptor Y |\n",
    "    - Targets:\n",
    "      | target_id | target_name |\n",
    "      |:---------:|:-----------:|\n",
    "      |     T1    |   Enzyme X  |\n",
    "      |     T2    |  Receptor Y |\n",
    "  - Junction tables\n",
    "    - The junction table for the compound-assay relationship\n",
    "      | chembl_id | assay_id |\n",
    "      |:---------:|:--------:|\n",
    "      |  CHEMBL25 |    A1    |\n",
    "      |  CHEMBL25 |    A2    |\n",
    "      |  CHEMBL26 |    A1    |\n",
    "    - The junction table for the assay-target relationship\n",
    "      | assay_id | target_id |\n",
    "      |:--------:|:---------:|\n",
    "      |    A1    |     T1    |\n",
    "      |    A2    |     T2    |\n",
    "    - SQL joins for many-to-many relationships \n",
    "      To retrieve the list of compounds, their assays, and the associated targets, one can use SQL joins so that the following table is generated.\n",
    "      | molecule_name |    assay_description   | target_name |\n",
    "      |:-------------:|:----------------------:|:-----------:|\n",
    "      |    Aspirin    | Inhibition of enzyme X |   Enzyme X  |\n",
    "      |    Aspirin    |  Binding to receptor Y |  Receptor Y |\n",
    "      |  Paracetamol  | Inhibition of enzyme X |   Enzyme X  |\n"
   ]
  },
  {
   "cell_type": "markdown",
   "metadata": {},
   "source": []
  }
 ],
 "metadata": {
  "kernelspec": {
   "display_name": "base",
   "language": "python",
   "name": "python3"
  },
  "language_info": {
   "codemirror_mode": {
    "name": "ipython",
    "version": 3
   },
   "file_extension": ".py",
   "mimetype": "text/x-python",
   "name": "python",
   "nbconvert_exporter": "python",
   "pygments_lexer": "ipython3",
   "version": "3.8.12"
  }
 },
 "nbformat": 4,
 "nbformat_minor": 2
}
