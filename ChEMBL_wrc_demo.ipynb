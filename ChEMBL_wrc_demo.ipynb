{
 "cells": [
  {
   "cell_type": "markdown",
   "metadata": {},
   "source": [
    "# A demonstration of ChEMBL webresource client"
   ]
  },
  {
   "cell_type": "markdown",
   "metadata": {},
   "source": [
    "ChEMBL webresource client is the official Python cliet library that helps access ChEMBL data. It provides a simple interface to the ChEMBL web services and allows to query the ChEMBL database and retrieve data in a programmatic way. Adapted from the official [demo](http://beta.mybinder.org/v2/gh/chembl/chembl_webresource_client/master?filepath=demo_wrc.ipynb) included in the repo of [`chembl_webresource_client`](https://github.com/chembl/chembl_webresource_client), this jupyter notebook presents some more detailed examples of how to use the client library to access ChEMBL data."
   ]
  },
  {
   "cell_type": "markdown",
   "metadata": {},
   "source": [
    "## Available filters\n",
    "ChEMBL webresource client provides a number of lookups for flexible quering of the database, making it filter and retrieve specific data. Here are some notes about each lookup type supported by ChEMBL:\n",
    "  - `exact`: Matches an exact value, e.g., `name__exact='Aspirin'` would match if the name is exactly `'Aspirin'`.\n",
    "  - `iexact`: Case-insensitive exact value, e.g., `name__iexact='aspirin'` would match if the name is `'aspirin'`, `'ASPIRIN'`, etc.\n",
    "  - `contains`: Checks if a value contains the specified substring, e.g., `description__contains='pain'` would match if the description contains the substring `'pain'`.\n",
    "  - `icontains`: Case-insensitive contains, e.g., `description__icontains='Pain'` would match if the description contains `'pain'`, `'Pain'`, etc.\n",
    "  - `in`: Matches if the value is within a specified list, e.g., `id__in=[1, 2, 3]` would match if the id is 1, 2, or 3.\n",
    "  - `gt`/`gte/lt/lte`: Greater than/greater than or equal to/less than/less than or equal to, e.g., `value__gt=10` would match if the value is greater than 10.\n",
    "  - `startswith/endswith`: Matches if a value starts/ends with the specified substring, e.g., `name__startswith='Asp'` would match if the name starts with `'Asp'`.\n",
    "  - `istartswith/iendswith`: Case-insensitive starts/ends with, e.g., `name__istartswith='asp'` would match if the name starts with `'asp'`, `'Asp'`, etc.\n",
    "  - `range`: Matches if a value is within a specified range, e.g., `value__range=(1, 10)` would atch if the value is between 1 and 10 inclusive. \n",
    "  - `isnull`: Matches if a value is null, e.g., `date_isnull=True` would match if the date is null.\n",
    "  - `regex`: Matches if a value matches the specified regular expression, e.g.,  `name__regex=r'^[A-Z]'` would match if the name starts with an uppercase letter.\n",
    "  - `iregex`: Case-insensitive regular expression match, e.g., `name__iregex=r'^[a-z]'` would match if the name starts with a letter, regardless of case.\n",
    "  - `search`: Full-text search, supported in som backends like PostgresSQL, e.g., `description__search='pain relief'` would match if the description matches the full-text search term `'pain relief'`.\n"
   ]
  },
  {
   "cell_type": "markdown",
   "metadata": {},
   "source": [
    "## The `only` operator\n",
    "### Introduction\n",
    "The `only` method in the ChEMBL webresrouce client is used to limit the results of a query to a specific set of fields. The `only` method takes a single argument, which is a list of fields that one wants to include in the result. When one uses the `only` method to specify a subset of fields, the API will return only those fields, rather than the entire dataset. This reduces the amount of data being transmitted over the network, thus saving bandwidth and making the API call/query faster."
   ]
  },
  {
   "cell_type": "markdown",
   "metadata": {},
   "source": [
    "### Example"
   ]
  },
  {
   "cell_type": "code",
   "execution_count": 2,
   "metadata": {},
   "outputs": [],
   "source": [
    "from chembl_webresource_client.new_client import new_client\n",
    "\n",
    "# Create a client for molecules\n",
    "molecule = new_client.molecule\n",
    "\n",
    "mol_1 = molecule.get('CHEMBL25')\n",
    "mol_2 = molecule.filter(chembl_id='CHEMBL25').only(['chembl_id', 'molecule_properties', 'molecule_structures'])\n",
    "mol_3 = molecule.filter(chembl_id='CHEMBL25')"
   ]
  },
  {
   "cell_type": "markdown",
   "metadata": {},
   "source": [
    "As can be checked, `mol_1` is a dictionary containing 36 keys relevant to the compound aspirin, including `'atc_classifications'`, `'availability_type'`, ... `'molecule_properties'`, `'molecule_structures'`, ... etc."
   ]
  },
  {
   "cell_type": "code",
   "execution_count": 6,
   "metadata": {},
   "outputs": [
    {
     "data": {
      "text/plain": [
       "dict_keys(['atc_classifications', 'availability_type', 'biotherapeutic', 'black_box_warning', 'chebi_par_id', 'chemical_probe', 'chirality', 'cross_references', 'dosed_ingredient', 'first_approval', 'first_in_class', 'helm_notation', 'indication_class', 'inorganic_flag', 'max_phase', 'molecule_chembl_id', 'molecule_hierarchy', 'molecule_properties', 'molecule_structures', 'molecule_synonyms', 'molecule_type', 'natural_product', 'oral', 'orphan', 'parenteral', 'polymer_flag', 'pref_name', 'prodrug', 'structure_type', 'therapeutic_flag', 'topical', 'usan_stem', 'usan_stem_definition', 'usan_substem', 'usan_year', 'withdrawn_flag'])"
      ]
     },
     "execution_count": 6,
     "metadata": {},
     "output_type": "execute_result"
    }
   ],
   "source": [
    "mol_1.keys()"
   ]
  },
  {
   "cell_type": "markdown",
   "metadata": {},
   "source": [
    "On the other hand, `mol_2` is an object of `chembl_webresource_client.query_set.QuerySet`. It can be indexed and has only one element in this case. Specifically, `mol_2[0]` is a dictionary containing only two keys (`'molecule_properties'` and `'molecule_structures'` for the same compound aspirin.)"
   ]
  },
  {
   "cell_type": "code",
   "execution_count": 7,
   "metadata": {},
   "outputs": [
    {
     "data": {
      "text/plain": [
       "chembl_webresource_client.query_set.QuerySet"
      ]
     },
     "execution_count": 7,
     "metadata": {},
     "output_type": "execute_result"
    }
   ],
   "source": [
    "type(mol_2)"
   ]
  },
  {
   "cell_type": "code",
   "execution_count": 8,
   "metadata": {},
   "outputs": [
    {
     "data": {
      "text/plain": [
       "{'molecule_properties': {'alogp': '1.31',\n",
       "  'aromatic_rings': 1,\n",
       "  'cx_logd': '-2.16',\n",
       "  'cx_logp': '1.24',\n",
       "  'cx_most_apka': '3.41',\n",
       "  'cx_most_bpka': None,\n",
       "  'full_molformula': 'C9H8O4',\n",
       "  'full_mwt': '180.16',\n",
       "  'hba': 3,\n",
       "  'hba_lipinski': 4,\n",
       "  'hbd': 1,\n",
       "  'hbd_lipinski': 1,\n",
       "  'heavy_atoms': 13,\n",
       "  'molecular_species': 'ACID',\n",
       "  'mw_freebase': '180.16',\n",
       "  'mw_monoisotopic': '180.0423',\n",
       "  'np_likeness_score': '0.12',\n",
       "  'num_lipinski_ro5_violations': 0,\n",
       "  'num_ro5_violations': 0,\n",
       "  'psa': '63.60',\n",
       "  'qed_weighted': '0.55',\n",
       "  'ro3_pass': 'N',\n",
       "  'rtb': 2},\n",
       " 'molecule_structures': {'canonical_smiles': 'CC(=O)Oc1ccccc1C(=O)O',\n",
       "  'molfile': '\\n     RDKit          2D\\n\\n 13 13  0  0  0  0  0  0  0  0999 V2000\\n   19.8052   -4.2758    0.0000 C   0  0  0  0  0  0  0  0  0  0  0  0\\n   19.8040   -5.0953    0.0000 C   0  0  0  0  0  0  0  0  0  0  0  0\\n   20.5121   -5.5043    0.0000 C   0  0  0  0  0  0  0  0  0  0  0  0\\n   21.2217   -5.0948    0.0000 C   0  0  0  0  0  0  0  0  0  0  0  0\\n   21.2189   -4.2722    0.0000 C   0  0  0  0  0  0  0  0  0  0  0  0\\n   20.5103   -3.8669    0.0000 C   0  0  0  0  0  0  0  0  0  0  0  0\\n   20.5078   -3.0497    0.0000 C   0  0  0  0  0  0  0  0  0  0  0  0\\n   21.2143   -2.6390    0.0000 O   0  0  0  0  0  0  0  0  0  0  0  0\\n   19.7989   -2.6432    0.0000 O   0  0  0  0  0  0  0  0  0  0  0  0\\n   21.9250   -3.8609    0.0000 O   0  0  0  0  0  0  0  0  0  0  0  0\\n   22.6343   -4.2668    0.0000 C   0  0  0  0  0  0  0  0  0  0  0  0\\n   23.3405   -3.8556    0.0000 C   0  0  0  0  0  0  0  0  0  0  0  0\\n   22.6374   -5.0840    0.0000 O   0  0  0  0  0  0  0  0  0  0  0  0\\n  1  2  2  0\\n  2  3  1  0\\n  3  4  2  0\\n  4  5  1  0\\n  5  6  2  0\\n  6  1  1  0\\n  6  7  1  0\\n  7  8  1  0\\n  7  9  2  0\\n  5 10  1  0\\n 10 11  1  0\\n 11 12  1  0\\n 11 13  2  0\\nM  END\\n> <chembl_id>\\nNone\\n\\n> <chembl_pref_name>\\nundefined',\n",
       "  'standard_inchi': 'InChI=1S/C9H8O4/c1-6(10)13-8-5-3-2-4-7(8)9(11)12/h2-5H,1H3,(H,11,12)',\n",
       "  'standard_inchi_key': 'BSYNRYMUTXBXSQ-UHFFFAOYSA-N'}}"
      ]
     },
     "execution_count": 8,
     "metadata": {},
     "output_type": "execute_result"
    }
   ],
   "source": [
    "mol_2[0]"
   ]
  },
  {
   "cell_type": "markdown",
   "metadata": {},
   "source": [
    "`mol_3` is also an object of `chembl_webresource_client.query_set.QuerySet` and also has only one element, which is a dictionary for the compound aspirin. However, since the `only` method was not used. `mol_3[0]` is equivalent to `mol_1`."
   ]
  },
  {
   "cell_type": "code",
   "execution_count": 9,
   "metadata": {},
   "outputs": [
    {
     "data": {
      "text/plain": [
       "True"
      ]
     },
     "execution_count": 9,
     "metadata": {},
     "output_type": "execute_result"
    }
   ],
   "source": [
    "mol_3[0] == mol_1"
   ]
  },
  {
   "cell_type": "markdown",
   "metadata": {},
   "source": [
    "So for `mol_1` and `mol_3`, the query retrieved all information about the molecule with ChEMBL ID `CHEMBL25`, which can include a lot of data. On the other hand, for `mol_2`, the query was limited to only return the `chembl_id`, `molecule_properties`, and `molecule_structures` fields for the molecule with ChEMBL ID `CHEMBL25`. This reduces the amount of data returned and can speed up the query."
   ]
  },
  {
   "cell_type": "markdown",
   "metadata": {},
   "source": []
  }
 ],
 "metadata": {
  "kernelspec": {
   "display_name": "base",
   "language": "python",
   "name": "python3"
  },
  "language_info": {
   "codemirror_mode": {
    "name": "ipython",
    "version": 3
   },
   "file_extension": ".py",
   "mimetype": "text/x-python",
   "name": "python",
   "nbconvert_exporter": "python",
   "pygments_lexer": "ipython3",
   "version": "3.8.12"
  }
 },
 "nbformat": 4,
 "nbformat_minor": 2
}
