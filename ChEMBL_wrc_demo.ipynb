{
 "cells": [
  {
   "cell_type": "markdown",
   "metadata": {},
   "source": [
    "# A demonstration of ChEMBL webresource client"
   ]
  },
  {
   "cell_type": "markdown",
   "metadata": {},
   "source": [
    "ChEMBL webresource client is the official Python cliet library that helps access ChEMBL data. It provides a simple interface to the ChEMBL web services and allows to query the ChEMBL database and retrieve data in a programmatic way. Adapted from the official [demo](http://beta.mybinder.org/v2/gh/chembl/chembl_webresource_client/master?filepath=demo_wrc.ipynb) included in the repo of [`chembl_webresource_client`](https://github.com/chembl/chembl_webresource_client), this jupyter notebook presents some more detailed examples of how to use the client library to access ChEMBL data. Additionally, here is the ChEMBL interface documentation: https://chembl.gitbook.io/chembl-interface-documentation"
   ]
  },
  {
   "cell_type": "markdown",
   "metadata": {},
   "source": [
    "## 1. Available filters\n",
    "ChEMBL webresource client provides a number of lookups for flexible quering of the database, making it filter and retrieve specific data. Here are some notes about each lookup type supported by ChEMBL:\n",
    "  - `exact`: Matches an exact value, e.g., `name__exact='Aspirin'` would match if the name is exactly `'Aspirin'`.\n",
    "  - `iexact`: Case-insensitive exact value, e.g., `name__iexact='aspirin'` would match if the name is `'aspirin'`, `'ASPIRIN'`, etc.\n",
    "  - `contains`: Checks if a value contains the specified substring, e.g., `description__contains='pain'` would match if the description contains the substring `'pain'`.\n",
    "  - `icontains`: Case-insensitive contains, e.g., `description__icontains='Pain'` would match if the description contains `'pain'`, `'Pain'`, etc.\n",
    "  - `in`: Matches if the value is within a specified list, e.g., `id__in=[1, 2, 3]` would match if the id is 1, 2, or 3.\n",
    "  - `gt`/`gte/lt/lte`: Greater than/greater than or equal to/less than/less than or equal to, e.g., `value__gt=10` would match if the value is greater than 10.\n",
    "  - `startswith/endswith`: Matches if a value starts/ends with the specified substring, e.g., `name__startswith='Asp'` would match if the name starts with `'Asp'`.\n",
    "  - `istartswith/iendswith`: Case-insensitive starts/ends with, e.g., `name__istartswith='asp'` would match if the name starts with `'asp'`, `'Asp'`, etc.\n",
    "  - `range`: Matches if a value is within a specified range, e.g., `value__range=(1, 10)` would atch if the value is between 1 and 10 inclusive. \n",
    "  - `isnull`: Matches if a value is null, e.g., `date_isnull=True` would match if the date is null.\n",
    "  - `regex`: Matches if a value matches the specified regular expression, e.g.,  `name__regex=r'^[A-Z]'` would match if the name starts with an uppercase letter.\n",
    "  - `iregex`: Case-insensitive regular expression match, e.g., `name__iregex=r'^[a-z]'` would match if the name starts with a letter, regardless of case.\n",
    "  - `search`: Full-text search, supported in som backends like PostgresSQL, e.g., `description__search='pain relief'` would match if the description matches the full-text search term `'pain relief'`.\n"
   ]
  },
  {
   "cell_type": "markdown",
   "metadata": {},
   "source": [
    "## 2. The `only` operator\n",
    "### 2.1. Introduction\n",
    "The `only` method in the ChEMBL webresrouce client is used to limit the results of a query to a specific set of fields. The `only` method takes a single argument, which is a list of fields that one wants to include in the result. When one uses the `only` method to specify a subset of fields, the API will return only those fields, rather than the entire dataset. This reduces the amount of data being transmitted over the network, thus saving bandwidth and making the API call/query faster."
   ]
  },
  {
   "cell_type": "markdown",
   "metadata": {},
   "source": [
    "### 2.2. Example"
   ]
  },
  {
   "cell_type": "code",
   "execution_count": 1,
   "metadata": {},
   "outputs": [],
   "source": [
    "from chembl_webresource_client.new_client import new_client\n",
    "\n",
    "# Create a client for molecules\n",
    "molecule = new_client.molecule\n",
    "\n",
    "mol_1 = molecule.get('CHEMBL25')\n",
    "mol_2 = molecule.filter(chembl_id='CHEMBL25').only(['chembl_id', 'molecule_properties', 'molecule_structures'])\n",
    "mol_3 = molecule.filter(chembl_id='CHEMBL25')"
   ]
  },
  {
   "cell_type": "markdown",
   "metadata": {},
   "source": [
    "- As can be checked, `mol_1` is a dictionary containing 36 keys relevant to the compound aspirin, including `'atc_classifications'`, `'availability_type'`, ... `'molecule_properties'`, `'molecule_structures'`, ... etc."
   ]
  },
  {
   "cell_type": "code",
   "execution_count": 2,
   "metadata": {},
   "outputs": [
    {
     "data": {
      "text/plain": [
       "dict_keys(['atc_classifications', 'availability_type', 'biotherapeutic', 'black_box_warning', 'chebi_par_id', 'chemical_probe', 'chirality', 'cross_references', 'dosed_ingredient', 'first_approval', 'first_in_class', 'helm_notation', 'indication_class', 'inorganic_flag', 'max_phase', 'molecule_chembl_id', 'molecule_hierarchy', 'molecule_properties', 'molecule_structures', 'molecule_synonyms', 'molecule_type', 'natural_product', 'oral', 'orphan', 'parenteral', 'polymer_flag', 'pref_name', 'prodrug', 'structure_type', 'therapeutic_flag', 'topical', 'usan_stem', 'usan_stem_definition', 'usan_substem', 'usan_year', 'withdrawn_flag'])"
      ]
     },
     "execution_count": 2,
     "metadata": {},
     "output_type": "execute_result"
    }
   ],
   "source": [
    "mol_1.keys()"
   ]
  },
  {
   "cell_type": "markdown",
   "metadata": {},
   "source": [
    "- On the other hand, `mol_2` is an object of `chembl_webresource_client.query_set.QuerySet`. It can be indexed and has only one element in this case. Specifically, `mol_2[0]` is a dictionary containing only two keys (`'molecule_properties'` and `'molecule_structures'` for the same compound aspirin.)"
   ]
  },
  {
   "cell_type": "code",
   "execution_count": 3,
   "metadata": {},
   "outputs": [
    {
     "data": {
      "text/plain": [
       "chembl_webresource_client.query_set.QuerySet"
      ]
     },
     "execution_count": 3,
     "metadata": {},
     "output_type": "execute_result"
    }
   ],
   "source": [
    "type(mol_2)"
   ]
  },
  {
   "cell_type": "code",
   "execution_count": 4,
   "metadata": {},
   "outputs": [
    {
     "data": {
      "text/plain": [
       "{'molecule_properties': {'alogp': '1.31',\n",
       "  'aromatic_rings': 1,\n",
       "  'cx_logd': '-2.16',\n",
       "  'cx_logp': '1.24',\n",
       "  'cx_most_apka': '3.41',\n",
       "  'cx_most_bpka': None,\n",
       "  'full_molformula': 'C9H8O4',\n",
       "  'full_mwt': '180.16',\n",
       "  'hba': 3,\n",
       "  'hba_lipinski': 4,\n",
       "  'hbd': 1,\n",
       "  'hbd_lipinski': 1,\n",
       "  'heavy_atoms': 13,\n",
       "  'molecular_species': 'ACID',\n",
       "  'mw_freebase': '180.16',\n",
       "  'mw_monoisotopic': '180.0423',\n",
       "  'np_likeness_score': '0.12',\n",
       "  'num_lipinski_ro5_violations': 0,\n",
       "  'num_ro5_violations': 0,\n",
       "  'psa': '63.60',\n",
       "  'qed_weighted': '0.55',\n",
       "  'ro3_pass': 'N',\n",
       "  'rtb': 2},\n",
       " 'molecule_structures': {'canonical_smiles': 'CC(=O)Oc1ccccc1C(=O)O',\n",
       "  'molfile': '\\n     RDKit          2D\\n\\n 13 13  0  0  0  0  0  0  0  0999 V2000\\n   19.8052   -4.2758    0.0000 C   0  0  0  0  0  0  0  0  0  0  0  0\\n   19.8040   -5.0953    0.0000 C   0  0  0  0  0  0  0  0  0  0  0  0\\n   20.5121   -5.5043    0.0000 C   0  0  0  0  0  0  0  0  0  0  0  0\\n   21.2217   -5.0948    0.0000 C   0  0  0  0  0  0  0  0  0  0  0  0\\n   21.2189   -4.2722    0.0000 C   0  0  0  0  0  0  0  0  0  0  0  0\\n   20.5103   -3.8669    0.0000 C   0  0  0  0  0  0  0  0  0  0  0  0\\n   20.5078   -3.0497    0.0000 C   0  0  0  0  0  0  0  0  0  0  0  0\\n   21.2143   -2.6390    0.0000 O   0  0  0  0  0  0  0  0  0  0  0  0\\n   19.7989   -2.6432    0.0000 O   0  0  0  0  0  0  0  0  0  0  0  0\\n   21.9250   -3.8609    0.0000 O   0  0  0  0  0  0  0  0  0  0  0  0\\n   22.6343   -4.2668    0.0000 C   0  0  0  0  0  0  0  0  0  0  0  0\\n   23.3405   -3.8556    0.0000 C   0  0  0  0  0  0  0  0  0  0  0  0\\n   22.6374   -5.0840    0.0000 O   0  0  0  0  0  0  0  0  0  0  0  0\\n  1  2  2  0\\n  2  3  1  0\\n  3  4  2  0\\n  4  5  1  0\\n  5  6  2  0\\n  6  1  1  0\\n  6  7  1  0\\n  7  8  1  0\\n  7  9  2  0\\n  5 10  1  0\\n 10 11  1  0\\n 11 12  1  0\\n 11 13  2  0\\nM  END\\n> <chembl_id>\\nNone\\n\\n> <chembl_pref_name>\\nundefined',\n",
       "  'standard_inchi': 'InChI=1S/C9H8O4/c1-6(10)13-8-5-3-2-4-7(8)9(11)12/h2-5H,1H3,(H,11,12)',\n",
       "  'standard_inchi_key': 'BSYNRYMUTXBXSQ-UHFFFAOYSA-N'}}"
      ]
     },
     "execution_count": 4,
     "metadata": {},
     "output_type": "execute_result"
    }
   ],
   "source": [
    "mol_2[0]"
   ]
  },
  {
   "cell_type": "markdown",
   "metadata": {},
   "source": [
    "- `mol_3` is also an object of `chembl_webresource_client.query_set.QuerySet` and also has only one element, which is a dictionary for the compound aspirin. However, since the `only` method was not used. `mol_3[0]` is equivalent to `mol_1`."
   ]
  },
  {
   "cell_type": "code",
   "execution_count": 5,
   "metadata": {},
   "outputs": [
    {
     "data": {
      "text/plain": [
       "True"
      ]
     },
     "execution_count": 5,
     "metadata": {},
     "output_type": "execute_result"
    }
   ],
   "source": [
    "mol_3[0] == mol_1"
   ]
  },
  {
   "cell_type": "markdown",
   "metadata": {},
   "source": [
    "- So for `mol_1` and `mol_3`, the query retrieved all information about the molecule with ChEMBL ID `CHEMBL25`, which can include a lot of data. On the other hand, for `mol_2`, the query was limited to only return the `chembl_id`, `molecule_properties`, and `molecule_structures` fields for the molecule with ChEMBL ID `CHEMBL25`. This reduces the amount of data returned and can speed up the query."
   ]
  },
  {
   "cell_type": "code",
   "execution_count": 6,
   "metadata": {},
   "outputs": [
    {
     "name": "stdout",
     "output_type": "stream",
     "text": [
      "keys of A: dict_keys(['molecule_properties', 'molecule_structures'])\n",
      "keys of B: dict_keys(['molecule_properties', 'molecule_structures'])\n",
      "Keys of A and B are the same:  True\n",
      "Values of A and B are the same:  True\n",
      "False\n"
     ]
    }
   ],
   "source": [
    "A = molecule.filter(chembl_id='CHEMBL25').only(['chembl_id' 'molecule_properties', 'molecule_structures'])\n",
    "B = molecule.filter(chembl_id='CHEMBL25').only([ 'molecule_properties', 'molecule_structures'])\n",
    "\n",
    "print(f'keys of A: {A[0].keys()}\\nkeys of B: {B[0].keys()}')\n",
    "print('Keys of A and B are the same: ', A[0].keys() == B[0].keys())\n",
    "print('Values of A and B are the same: ', A[0] == B[0])\n",
    "print(A == B)"
   ]
  },
  {
   "cell_type": "markdown",
   "metadata": {},
   "source": [
    "- As shown above, `A` and `B` are essentially the same in terms of their keys and values, though `A==B` still returned `False`. This is because they are indeed different queries. In fact, even `a==b` below returns `False`."
   ]
  },
  {
   "cell_type": "code",
   "execution_count": 7,
   "metadata": {},
   "outputs": [
    {
     "data": {
      "text/plain": [
       "False"
      ]
     },
     "execution_count": 7,
     "metadata": {},
     "output_type": "execute_result"
    }
   ],
   "source": [
    "a = molecule.filter(chembl_id='CHEMBL25').only(['molecule_properties', 'molecule_structures'])\n",
    "b = molecule.filter(chembl_id='CHEMBL25').only(['molecule_properties', 'molecule_structures'])\n",
    "a == b"
   ]
  },
  {
   "cell_type": "markdown",
   "metadata": {},
   "source": [
    "- Note that specified fields have to exist in the endpoint against which only is executed.\n",
    "  - An API endpoint is a specific URL or address at which a service can be accessed by applications to perform operations such as fetching data or sending data. Think of it as a specific function or resource you can interact with through a URL. In simpler terms, an API endpoint is like a door through which you can request specific information from a database or service.\n",
    "  - The molecule endpoint might be something like https://www.ebi.ac.uk/chembl/api/data/molecule. Each endpoint corresponds to a particular type of data or functionality provided by the API.\n",
    "  - The example above used the method `molecule` to create a client. There are a lot of other methods one can use, which can be checked by the following code:"
   ]
  },
  {
   "cell_type": "code",
   "execution_count": 8,
   "metadata": {},
   "outputs": [
    {
     "name": "stdout",
     "output_type": "stream",
     "text": [
      "['activity', 'activity_supplementary_data_by_activity', 'assay', 'assay_class', 'atc_class', 'binding_site', 'biotherapeutic', 'cell_line', 'chembl_id_lookup', 'chembl_release', 'compound_record', 'compound_structural_alert', 'description', 'document', 'document_similarity', 'drug', 'drug_indication', 'drug_warning', 'go_slim', 'image', 'mechanism', 'metabolism', 'molecule', 'molecule_form', 'official', 'organism', 'protein_classification', 'similarity', 'source', 'substructure', 'target', 'target_component', 'target_relation', 'tissue', 'xref_source']\n"
     ]
    }
   ],
   "source": [
    "available_resources = [resource for resource in dir(new_client) if not resource.startswith('_')]\n",
    "print(available_resources)"
   ]
  },
  {
   "cell_type": "markdown",
   "metadata": {},
   "source": [
    "For example, one can create a client using `activity`:"
   ]
  },
  {
   "cell_type": "code",
   "execution_count": 9,
   "metadata": {},
   "outputs": [
    {
     "name": "stdout",
     "output_type": "stream",
     "text": [
      "[{'activity_id': 42173, 'assay_chembl_id': 'CHEMBL702885', 'standard_type': \"Log K'\", 'standard_units': None, 'standard_value': '1.39', 'type': \"Log K'\", 'units': None, 'value': '1.39'}, {'activity_id': 81965, 'assay_chembl_id': 'CHEMBL771355', 'standard_type': 'Activity', 'standard_units': '%', 'standard_value': '100.0', 'type': 'Activity', 'units': '%', 'value': '100.0'}, {'activity_id': 81966, 'assay_chembl_id': 'CHEMBL780106', 'standard_type': 'ED25', 'standard_units': 'uM kg-1', 'standard_value': '402.0', 'type': 'ED25', 'units': 'uM kg-1', 'value': '402.0'}, {'activity_id': 88326, 'assay_chembl_id': 'CHEMBL762032', 'standard_type': 'IC50', 'standard_units': 'nM', 'standard_value': '34600.0', 'type': 'IC50', 'units': 'uM', 'value': '34.6'}, '...(remaining elements truncated)...']\n"
     ]
    }
   ],
   "source": [
    "activity = new_client.activity\n",
    "activities = activity.filter(molecule_chembl_id='CHEMBL25').only(['activity_id', 'assay_chembl_id', 'standard_value', 'standard_units', 'standard_type'])\n",
    "print(activities)"
   ]
  },
  {
   "cell_type": "markdown",
   "metadata": {},
   "source": [
    "or using `target`:"
   ]
  },
  {
   "cell_type": "code",
   "execution_count": 10,
   "metadata": {},
   "outputs": [
    {
     "name": "stdout",
     "output_type": "stream",
     "text": [
      "[{'organism': 'Rattus norvegicus', 'pref_name': 'Glutamate receptor ionotropic, AMPA', 'species_group_flag': False, 'target_chembl_id': 'CHEMBL2093871', 'target_type': 'PROTEIN COMPLEX GROUP'}]\n"
     ]
    }
   ],
   "source": [
    "target = new_client.target\n",
    "target_info = target.filter(target_chembl_id='CHEMBL2093871').only(['target_chembl_id', 'pref_name', 'organism', 'target_type', 'species_group_flag'])\n",
    "print(target_info)"
   ]
  },
  {
   "cell_type": "code",
   "execution_count": 11,
   "metadata": {},
   "outputs": [
    {
     "name": "stdout",
     "output_type": "stream",
     "text": [
      "True\n",
      "False\n"
     ]
    }
   ],
   "source": [
    "A = {'one': 1, 'two': 2, 'three': 3}\n",
    "B = {'three': 3, 'two': 2, 'one': 1}\n",
    "\n",
    "# A == B is True\n",
    "print(A == B)  # True\n",
    "\n",
    "# A.values() == B.values() is False because the order of values is different\n",
    "print(A.values() == B.values())  # False\n"
   ]
  },
  {
   "cell_type": "markdown",
   "metadata": {},
   "source": [
    "### 2.3. Limitations\n",
    "- **Nested fields**: Specifying nested fields won't work as intended, as the `only` method ignores nested fields. The parent field will be returned instead. For instance `only(['molecule_proper__alogp'])` is treated as `only(['molecule_properties'])`.\n",
    "- **Many-to-many relationship**: For many-to-many relationship, `only` won't optimize SQL joins. This means it won't reduce the complexity of retrieving related data in such relationships.  \n",
    "\n",
    "### 2.4. Benefits\n",
    "By using `only`, you can significantly reduce the payload size and improve the performance of your API calls, esepcially when you only need a few fields from a potentially large dataset. This is particularly useful in scenarios where bandwidth and response time are critical. (Behind the scene, the API logic will also check if any SQL joins are necessary to return the specified field and exclude unnecessary joins with critically improves performance.)\n",
    "\n",
    "### 2.5. Complementary notes\n",
    "#### 2.5.1. What are SQL joins?\n",
    "(Notes taken from the response by ChatGPT-4o.)\n",
    "- SQL is a standard language used to communicate with databases. It allows you to create, read, update, and delete data in a database. In SQL, a join is a way to combine rows from two or more tables based on a related column between them. \n",
    "- Types of SQL Joins:\n",
    "  - `INNER JOIN`: Returns only the rows that have matching values in both tables.\n",
    "  - `LEFT JOIN` (or `LEFT OUTER JOIN`): Returns all rows from the left table, and the matched rows from the right table. If no match, NULL values are returned for columns from the right table.\n",
    "  - `RIGHT JOIN` (or `RIGHT OUTER JOIN`): Returns all rows from the right table, and the matched rows from the left table. If no match, NULL values are returned for columns from the left table.\n",
    "  - `FULL JOIN` (or `FULL OUTER JOIN`): Returns all rows when there is a match in either left or right table. Rows that do not have a match in either table are also included, with NULLs in the columns of the non-matching table.\n",
    "- Example\n",
    "  - Imagine you have two tables in a database.\n",
    "    - Table 1: Molecules \n",
    "\n",
    "      | chembl_id | name | \n",
    "      | :--------: | :--------: |\n",
    "      | CHEMBL25 | Aspirin     | \n",
    "      | CHEMBL26 | Paracetamol     | \n",
    "    - Table 2: Molecule Properties\n",
    "  \n",
    "      | chembl_id |   property_name  | property_value |\n",
    "      |:---------:|:----------------:|:--------------:|\n",
    "      |  CHEMBL25 |       logP       |       1.2      |\n",
    "      |  CHEMBL25 | molecular_weight |     180.16     |\n",
    "      |  CHEMBL26 |       logP       |       0.5      |\n",
    "      | CHEMBL26  | molecular_weight | 151.17         |\n",
    "  - Join example\n",
    "    - You want to retrieve the molecule name and its logP value.\n",
    "    - The common column between the two tables is `chembl_id`. \n",
    "  - SQL query\n",
    "    ```sql\n",
    "    SELECT molecule.name, molecule_properties.property_value AS logP\n",
    "    FROM molecule\n",
    "    INNER JOIN molecule_properties\n",
    "    ON molecule.chembl_id = molecule_properties.chembl_id\n",
    "    WHERE molecule_properties.property_name = 'logP';\n",
    "    ```\n",
    "  - Result\n",
    "\n",
    "    |     name    | logP |\n",
    "    |:-----------:|:----:|\n",
    "    |   Aspirin   |  1.2 |\n",
    "    | Paracetamol |  0.5 |\n",
    "  - In this query:\n",
    "    - `INNER JOIN` is used to combine rows from the molecule table and molecule_properties table where the `chembl_id` matches.\n",
    "    - The `WHERE` clause filters the properties to only get the logP values.\n",
    "  - When the API needs to fetch data that resides in multiple related tables, it may perform joins behind the scenes to combine the necessary data into a single response. By using the only method, you help the API understand which specific fields you need, allowing it to exclude unnecessary joins and optimize the query.\n",
    "\n",
    "#### 2.5.2. What are many-to-many relationships?\n",
    "Many-to-many relationships are a common concept in database design where a record in one table can be associated with multiple records in another table, and vice versa. To manage many-to-many relationships, a third table, often called a \"junction table\" or \"join table,\" is used to link the two related tables. Below is an example scenario.\n",
    "  - Consider a database where we have three tables: \"Compounds\", \"Assays\" and \"Targets\". As shown below, the columns of the table create a many-to-many relationship between tables. Specifically\n",
    "    - Compounds:\n",
    "\n",
    "      | chembl_id | molecule_name |\n",
    "      |:---------:|:-------------:|\n",
    "      |  CHEMBL25 |    Aspirin    |\n",
    "      |  CHEMBL26 |  Paracetamol  |\n",
    "    - Assays:\n",
    "\n",
    "      | assay_id |    assay_description   |\n",
    "      |:--------:|:----------------------:|\n",
    "      |    A1    | Inhibition of enzyme X |\n",
    "      |    A2    |  Binding to receptor Y |\n",
    "    - Targets:\n",
    "\n",
    "      | target_id | target_name |\n",
    "      |:---------:|:-----------:|\n",
    "      |     T1    |   Enzyme X  |\n",
    "      |     T2    |  Receptor Y |\n",
    "  - Junction tables\n",
    "    - The junction table for the compound-assay relationship\n",
    "\n",
    "      | chembl_id | assay_id |\n",
    "      |:---------:|:--------:|\n",
    "      |  CHEMBL25 |    A1    |\n",
    "      |  CHEMBL25 |    A2    |\n",
    "      |  CHEMBL26 |    A1    |\n",
    "    - The junction table for the assay-target relationship\n",
    "\n",
    "      | assay_id | target_id |\n",
    "      |:--------:|:---------:|\n",
    "      |    A1    |     T1    |\n",
    "      |    A2    |     T2    |\n",
    "    - SQL joins for many-to-many relationships \n",
    "      To retrieve the list of compounds, their assays, and the associated targets, one can use SQL joins so that the following table is generated.\n",
    "      \n",
    "      | molecule_name |    assay_description   | target_name |\n",
    "      |:-------------:|:----------------------:|:-----------:|\n",
    "      |    Aspirin    | Inhibition of enzyme X |   Enzyme X  |\n",
    "      |    Aspirin    |  Binding to receptor Y |  Receptor Y |\n",
    "      |  Paracetamol  | Inhibition of enzyme X |   Enzyme X  |\n"
   ]
  },
  {
   "cell_type": "markdown",
   "metadata": {},
   "source": [
    "## 3. Various examples of retriving data"
   ]
  },
  {
   "cell_type": "markdown",
   "metadata": {},
   "source": [
    "### 3.1. Retriving molecule and drug data"
   ]
  },
  {
   "cell_type": "code",
   "execution_count": 13,
   "metadata": {},
   "outputs": [
    {
     "name": "stdout",
     "output_type": "stream",
     "text": [
      "CC(=O)Oc1ccccc1C(=O)O\n"
     ]
    }
   ],
   "source": [
    "# Get smiles string of CHEMBL25\n",
    "molecule = new_client.molecule\n",
    "mol = molecule.get('CHEMBL25')\n",
    "print(mol['molecule_structures']['canonical_smiles'])"
   ]
  },
  {
   "cell_type": "markdown",
   "metadata": {},
   "source": [
    "Note that in most examples below, we only print the ChEMBL ID of the compound to save space. Here are some notes about the examples below:\n",
    "- In Example 2, `molecule_synonyms__molecule_synonym__iexact` was used because `molecule_synonyms` is a list of dictionaries, each containing a key `'molecule_synonym'` which is the name of the compound. The `iexact` lookup is used to perform a case-insensitive exact match on the value of the key `'molecule_synonym'`.\n",
    "- In Example 5, the value of `molecule_structures` is a dictionary containing keys including `'canonical_smiles'`, `'molfile'`, `'standard_inchi'`, `'standard_inchi_key'`, etc. \n",
    "- The output of Example 7 should be the same as Example 6 since `CC(=O)Oc1ccccc1C(=O)O` used in Example 6 is the canonical SMILES of aspirin.\n",
    "- In Example 9, `max_phase` refers to the maximum phase of development for the compound across all indications. (For more information, please refer to this [page](https://chembl.gitbook.io/chembl-interface-documentation/frequently-asked-questions/drug-and-compound-questions#what-is-max-phase)). Phase 4 means \"approved\". Also, `mw_freebase` refers to the molecular weight of the compound in its freebase form, i.e., without any counterions or salts. On the other hand, the filed `full_mwt` in `molecule_properties` is the molecular weight of the compound including any counterions or salts.\n",
    "- In Example 10, `efo_term__icontains` means that the value of the key `'efo_term'` in the `efo_info` dictionary should contain a certain substring in a case-insensitive manner. The `efo_info` field is a dictionary containing information about the Experimental Factor Ontology (EFO) term associated with the compound. For more information about EFO, please visit this [page](https://www.ebi.ac.uk/efo/faq.html#queryingefo).\n",
    "- In Example 11, `usan_stem` is the United States Adopted Name (USAN) stem of the compound. The USAN is a unique name assigned to a compound by the United States Adopted Names Council. The USAN stem is the common part of the USAN name shared by a group of related compounds.\n",
    "- In Example 14:, `num_ro5_violations` is the number of Lipinski's Rule of Five violations for the compound. Lipinski's Rule of Five is a rule of thumb used to evaluate the drug-likeness of a compound based on its physicochemical properties. A compound is considered more likely to be orally bioavailable if it has fewer than two violations of Lipinski's Rule of Five. The rule states that a compound is more likely to be orally bioavailable if it satisfies the following criteria. Note that all numbers are multiples of five, which is the origin of the rule's name.\n",
    "  - A molecular mass less than 500 daltons\n",
    "  - A calculated octanol-water partition coefficient (Clog P) that does not exceed 5\n",
    "  - No more than 5 hydrogen bond donors (the total number of nitrogen–hydrogen and oxygen–hydrogen bonds)\n",
    "  - No more than 10 hydrogen bond acceptors (all nitrogen or oxygen atoms)"
   ]
  },
  {
   "cell_type": "code",
   "execution_count": 22,
   "metadata": {},
   "outputs": [
    {
     "name": "stdout",
     "output_type": "stream",
     "text": [
      "Example 1: Get a molecule by pref_name\n",
      "[{'molecule_chembl_id': 'CHEMBL25'}]\n",
      "\n",
      "Example 2: Get a molecule by its synonyms\n",
      "[{'molecule_chembl_id': 'CHEMBL192'}, {'molecule_chembl_id': 'CHEMBL1737'}]\n",
      "\n",
      "Example 3: Get a single molecule by ChEMBL ID\n",
      "[{'molecule_chembl_id': 'CHEMBL25', 'pref_name': 'ASPIRIN'}]\n",
      "\n",
      "Example 4: Get a few molecules by their ChEMBL IDs\n",
      "[{'molecule_chembl_id': 'CHEMBL25', 'pref_name': 'ASPIRIN'}, {'molecule_chembl_id': 'CHEMBL27', 'pref_name': 'PROPRANOLOL'}, {'molecule_chembl_id': 'CHEMBL192', 'pref_name': 'SILDENAFIL'}]\n",
      "\n",
      "Example 5: Get a single molecule by standard InChI Key\n",
      "[{'molecule_chembl_id': 'CHEMBL25', 'pref_name': 'ASPIRIN'}]\n",
      "\n",
      "Example 6: Find compounds similar to a given SMILES query with similarity > 70%\n",
      "  molecule_chembl_id            pref_name                 similarity\n",
      "0      CHEMBL2296002                 None                        100\n",
      "1      CHEMBL1697753    ASPIRIN DL-LYSINE                        100\n",
      "2           CHEMBL25              ASPIRIN                        100\n",
      "3      CHEMBL3833404          CARBASPIRIN  88.8888895511627197265625\n",
      "4      CHEMBL3833325  CARBASPIRIN CALCIUM  88.8888895511627197265625\n",
      "5       CHEMBL350343       DIPLOSALSALATE  85.7142865657806396484375\n",
      "6      CHEMBL5282669                 None  74.0740716457366943359375\n",
      "7      CHEMBL4515737                 None  70.3703701496124267578125\n",
      "8      CHEMBL1451173          DIPYROCETYL  69.9999988079071044921875\n",
      "\n",
      "Example 7: Find compounds similar to aspirin (CHEMBL25) with similarity > 70%\n",
      "  molecule_chembl_id            pref_name                 similarity\n",
      "0      CHEMBL2296002                 None                        100\n",
      "1      CHEMBL1697753    ASPIRIN DL-LYSINE                        100\n",
      "2      CHEMBL3833404          CARBASPIRIN  88.8888895511627197265625\n",
      "3      CHEMBL3833325  CARBASPIRIN CALCIUM  88.8888895511627197265625\n",
      "4       CHEMBL350343       DIPLOSALSALATE  85.7142865657806396484375\n",
      "5      CHEMBL5282669                 None  74.0740716457366943359375\n",
      "6      CHEMBL4515737                 None  70.3703701496124267578125\n",
      "7      CHEMBL1451173          DIPYROCETYL  69.9999988079071044921875\n",
      "\n",
      "Example 8: Find compounds with the same connectivity\n",
      "  molecule_chembl_id                pref_name\n",
      "0         CHEMBL1431                METFORMIN\n",
      "1         CHEMBL1703  METFORMIN HYDROCHLORIDE\n",
      "2      CHEMBL3094198                     None\n",
      "\n",
      "Example 9: Get all approved drugs with molecular weight < 300 Da\n",
      "[{'molecule_chembl_id': 'CHEMBL1796997', 'pref_name': 'HELIUM'}, {'molecule_chembl_id': 'CHEMBL1201189', 'pref_name': 'AMMONIA N 13'}, {'molecule_chembl_id': 'CHEMBL1160819', 'pref_name': 'AMMONIA SOLUTION, STRONG'}, {'molecule_chembl_id': 'CHEMBL1098659', 'pref_name': 'WATER'}, '...(remaining elements truncated)...']\n",
      "\n",
      "Example 10: Get approved drugs for lung cancer\n",
      "Result: There are 760 drugs for lung cancer.\n",
      "\n",
      "Example 11: Filter drugs by approval year and name\n",
      "Result: There are 2 drugs approved after 1980 with the USAN stem \"-azosin\".\n",
      "\n",
      "Example 12: Get all biotherapeutic molecules\n",
      "Result: There are 23734 biotherapeutic molecules.\n",
      "\n",
      "Example 13: Get molecules with molecular weight <= 300 AND pref_name ending with nib\n",
      "  molecule_chembl_id     pref_name\n",
      "0       CHEMBL276711     SEMAXANIB\n",
      "1      CHEMBL4085457  RITLECITINIB\n",
      "2      CHEMBL4594348  ELSUBRUTINIB\n",
      "\n",
      "Example 14: Get all molecules in ChEMBL with no Rule-of-Five violations\n",
      "1679690\n",
      "\n"
     ]
    }
   ],
   "source": [
    "import pandas as pd\n",
    "\n",
    "print('Example 1: Get a molecule by pref_name')\n",
    "print(molecule.filter(pref_name__iexact='aspirin').only('molecule_chembl_id'))\n",
    "print()\n",
    "\n",
    "print('Example 2: Get a molecule by its synonyms')\n",
    "print(molecule.filter(molecule_synonyms__molecule_synonym__iexact='viagra').only('molecule_chembl_id'))\n",
    "print()\n",
    "\n",
    "print('Example 3: Get a single molecule by ChEMBL ID')\n",
    "print(molecule.filter(chembl_id='CHEMBL25').only(['molecule_chembl_id', 'pref_name', 'full_molformula']))  # Or molecule.get('CHEMBL25') to print all fields\n",
    "print()\n",
    "\n",
    "print('Example 4: Get a few molecules by their ChEMBL IDs')\n",
    "print(molecule.filter(molecule_chembl_id__in=['CHEMBL25', 'CHEMBL192', 'CHEMBL27']).only(['molecule_chembl_id', 'pref_name', 'full_molformula']))\n",
    "print()\n",
    "\n",
    "print('Example 5: Get a single molecule by standard InChI Key')\n",
    "print(molecule.filter(molecule_structures__standard_inchi_key='BSYNRYMUTXBXSQ-UHFFFAOYSA-N').only(['molecule_chembl_id', 'pref_name']))\n",
    "print()\n",
    "\n",
    "print('Example 6: Find compounds similar to a given SMILES query with similarity > 70%')\n",
    "similarity = new_client.similarity\n",
    "mols = similarity.filter(smiles=\"CC(=O)Oc1ccccc1C(=O)O\", similarity=70).only(['molecule_chembl_id', 'pref_name', 'similarity'])\n",
    "print(pd.DataFrame(mols))\n",
    "print()\n",
    "\n",
    "print('Example 7: Find compounds similar to aspirin (CHEMBL25) with similarity > 70%')\n",
    "# The output should be the same as Example 6 since CC(=O)Oc1ccccc1C(=O)O used in Example 6 is the canonical SMILES of aspirin\n",
    "similarity = new_client.similarity\n",
    "mols = similarity.filter(chembl_id='CHEMBL25', similarity=70).only(['molecule_chembl_id', 'pref_name', 'similarity'])\n",
    "print(pd.DataFrame(mols))\n",
    "print()\n",
    "\n",
    "print('Example 8: Find compounds with the same connectivity')\n",
    "molecule = new_client.molecule\n",
    "mols = molecule.filter(molecule_structures__canonical_smiles__connectivity='CN(C)C(=N)N=C(N)N').only(['molecule_chembl_id', 'pref_name'])\n",
    "print(pd.DataFrame(mols))\n",
    "print()\n",
    "\n",
    "print('Example 9: Get all approved drugs with molecular weight < 300 Da')\n",
    "molecule = new_client.molecule\n",
    "mols = molecule.filter(max_phase=4).filter(molecule_properties__mw_freebase__lte=300).order_by('molecule_properties__full_mwt').only(['molecule_chembl_id', 'pref_name', 'full_mwt'])\n",
    "print(mols)\n",
    "print()\n",
    "\n",
    "print('Example 10: Get approved drugs for lung cancer')\n",
    "drug_indication = new_client.drug_indication\n",
    "molecules = new_client.molecule\n",
    "\n",
    "lung_cancer_ind = drug_indication.filter(efo_term__icontains=\"LUNG CARCINOMA\")\n",
    "lung_cancer_mols = molecules.filter(molecule_chembl_id__in=[x['molecule_chembl_id'] for x in lung_cancer_ind])\n",
    "print(f'Result: There are {len(lung_cancer_mols)} drugs for lung cancer.')\n",
    "print()\n",
    "\n",
    "print('Example 11: Filter drugs by approval year and name')  \n",
    "drug = new_client.drug\n",
    "drugs = drug.filter(first_approval__gte=1980).filter(usan_stem=\"-azosin\")\n",
    "print(f'Result: There are {len(drugs)} drugs approved after 1980 with the USAN stem \"-azosin\".')\n",
    "print()\n",
    "\n",
    "print('Example 12: Get all biotherapeutic molecules')\n",
    "molecule = new_client.molecule\n",
    "biotherapeutics = molecule.filter(biotherapeutic__isnull=False)\n",
    "print(f'Result: There are {len(biotherapeutics)} biotherapeutic molecules.')\n",
    "print()\n",
    "\n",
    "print('Example 13: Get molecules with molecular weight <= 300 AND pref_name ending with nib')\n",
    "molecule = new_client.molecule\n",
    "light_nib_molecules = molecule.filter(molecule_properties__mw_freebase__lte=300, pref_name__iendswith=\"nib\").only(['molecule_chembl_id', 'pref_name'])\n",
    "print(pd.DataFrame(light_nib_molecules))\n",
    "print()\n",
    "\n",
    "print('Example 14: Get all molecules in ChEMBL with no Rule-of-Five violations')\n",
    "no_violations = molecule.filter(molecule_properties__num_ro5_violations=0)\n",
    "print(len(no_violations))\n",
    "print()\n"
   ]
  },
  {
   "cell_type": "markdown",
   "metadata": {},
   "source": [
    "Interestingly, one can also show the structure of a molecule:"
   ]
  },
  {
   "cell_type": "code",
   "execution_count": 48,
   "metadata": {},
   "outputs": [
    {
     "data": {
      "image/svg+xml": [
       "<svg xmlns=\"http://www.w3.org/2000/svg\" xmlns:rdkit=\"http://www.rdkit.org/xml\" xmlns:xlink=\"http://www.w3.org/1999/xlink\" version=\"1.1\" baseProfile=\"full\" xml:space=\"preserve\" width=\"500px\" height=\"500px\" viewBox=\"0 0 500 500\">\n",
       "<!-- END OF HEADER -->\n",
       "<path class=\"bond-0 atom-0 atom-1\" d=\"M 41.9,282.0 L 41.7,381.7\" style=\"fill:none;fill-rule:evenodd;stroke:#000000;stroke-width:2.0px;stroke-linecap:butt;stroke-linejoin:miter;stroke-opacity:1\"/>\n",
       "<path class=\"bond-0 atom-0 atom-1\" d=\"M 56.8,290.6 L 56.6,373.1\" style=\"fill:none;fill-rule:evenodd;stroke:#000000;stroke-width:2.0px;stroke-linecap:butt;stroke-linejoin:miter;stroke-opacity:1\"/>\n",
       "<path class=\"bond-1 atom-1 atom-2\" d=\"M 41.7,381.7 L 127.8,431.4\" style=\"fill:none;fill-rule:evenodd;stroke:#000000;stroke-width:2.0px;stroke-linecap:butt;stroke-linejoin:miter;stroke-opacity:1\"/>\n",
       "<path class=\"bond-2 atom-2 atom-3\" d=\"M 127.8,431.4 L 214.2,381.6\" style=\"fill:none;fill-rule:evenodd;stroke:#000000;stroke-width:2.0px;stroke-linecap:butt;stroke-linejoin:miter;stroke-opacity:1\"/>\n",
       "<path class=\"bond-2 atom-2 atom-3\" d=\"M 127.8,414.2 L 199.2,373.0\" style=\"fill:none;fill-rule:evenodd;stroke:#000000;stroke-width:2.0px;stroke-linecap:butt;stroke-linejoin:miter;stroke-opacity:1\"/>\n",
       "<path class=\"bond-3 atom-3 atom-4\" d=\"M 214.2,381.6 L 213.8,281.6\" style=\"fill:none;fill-rule:evenodd;stroke:#000000;stroke-width:2.0px;stroke-linecap:butt;stroke-linejoin:miter;stroke-opacity:1\"/>\n",
       "<path class=\"bond-4 atom-4 atom-5\" d=\"M 213.8,281.6 L 127.6,232.3\" style=\"fill:none;fill-rule:evenodd;stroke:#000000;stroke-width:2.0px;stroke-linecap:butt;stroke-linejoin:miter;stroke-opacity:1\"/>\n",
       "<path class=\"bond-4 atom-4 atom-5\" d=\"M 198.9,290.2 L 127.7,249.5\" style=\"fill:none;fill-rule:evenodd;stroke:#000000;stroke-width:2.0px;stroke-linecap:butt;stroke-linejoin:miter;stroke-opacity:1\"/>\n",
       "<path class=\"bond-5 atom-5 atom-0\" d=\"M 127.6,232.3 L 41.9,282.0\" style=\"fill:none;fill-rule:evenodd;stroke:#000000;stroke-width:2.0px;stroke-linecap:butt;stroke-linejoin:miter;stroke-opacity:1\"/>\n",
       "<path class=\"bond-6 atom-5 atom-6\" d=\"M 127.6,232.3 L 127.3,132.8\" style=\"fill:none;fill-rule:evenodd;stroke:#000000;stroke-width:2.0px;stroke-linecap:butt;stroke-linejoin:miter;stroke-opacity:1\"/>\n",
       "<path class=\"bond-7 atom-6 atom-7\" d=\"M 127.3,132.8 L 162.2,112.6\" style=\"fill:none;fill-rule:evenodd;stroke:#000000;stroke-width:2.0px;stroke-linecap:butt;stroke-linejoin:miter;stroke-opacity:1\"/>\n",
       "<path class=\"bond-7 atom-6 atom-7\" d=\"M 162.2,112.6 L 197.0,92.3\" style=\"fill:none;fill-rule:evenodd;stroke:#FF0000;stroke-width:2.0px;stroke-linecap:butt;stroke-linejoin:miter;stroke-opacity:1\"/>\n",
       "<path class=\"bond-8 atom-6 atom-8\" d=\"M 134.8,128.5 L 97.9,107.4\" style=\"fill:none;fill-rule:evenodd;stroke:#000000;stroke-width:2.0px;stroke-linecap:butt;stroke-linejoin:miter;stroke-opacity:1\"/>\n",
       "<path class=\"bond-8 atom-6 atom-8\" d=\"M 97.9,107.4 L 61.1,86.3\" style=\"fill:none;fill-rule:evenodd;stroke:#FF0000;stroke-width:2.0px;stroke-linecap:butt;stroke-linejoin:miter;stroke-opacity:1\"/>\n",
       "<path class=\"bond-8 atom-6 atom-8\" d=\"M 127.3,141.5 L 90.5,120.3\" style=\"fill:none;fill-rule:evenodd;stroke:#000000;stroke-width:2.0px;stroke-linecap:butt;stroke-linejoin:miter;stroke-opacity:1\"/>\n",
       "<path class=\"bond-8 atom-6 atom-8\" d=\"M 90.5,120.3 L 53.7,99.2\" style=\"fill:none;fill-rule:evenodd;stroke:#FF0000;stroke-width:2.0px;stroke-linecap:butt;stroke-linejoin:miter;stroke-opacity:1\"/>\n",
       "<path class=\"bond-9 atom-4 atom-9\" d=\"M 213.8,281.6 L 248.6,261.3\" style=\"fill:none;fill-rule:evenodd;stroke:#000000;stroke-width:2.0px;stroke-linecap:butt;stroke-linejoin:miter;stroke-opacity:1\"/>\n",
       "<path class=\"bond-9 atom-4 atom-9\" d=\"M 248.6,261.3 L 283.4,241.0\" style=\"fill:none;fill-rule:evenodd;stroke:#FF0000;stroke-width:2.0px;stroke-linecap:butt;stroke-linejoin:miter;stroke-opacity:1\"/>\n",
       "<path class=\"bond-10 atom-9 atom-10\" d=\"M 316.0,240.8 L 351.0,260.9\" style=\"fill:none;fill-rule:evenodd;stroke:#FF0000;stroke-width:2.0px;stroke-linecap:butt;stroke-linejoin:miter;stroke-opacity:1\"/>\n",
       "<path class=\"bond-10 atom-9 atom-10\" d=\"M 351.0,260.9 L 386.0,280.9\" style=\"fill:none;fill-rule:evenodd;stroke:#000000;stroke-width:2.0px;stroke-linecap:butt;stroke-linejoin:miter;stroke-opacity:1\"/>\n",
       "<path class=\"bond-11 atom-10 atom-11\" d=\"M 386.0,280.9 L 471.9,230.9\" style=\"fill:none;fill-rule:evenodd;stroke:#000000;stroke-width:2.0px;stroke-linecap:butt;stroke-linejoin:miter;stroke-opacity:1\"/>\n",
       "<path class=\"bond-12 atom-10 atom-12\" d=\"M 378.5,276.6 L 378.7,319.7\" style=\"fill:none;fill-rule:evenodd;stroke:#000000;stroke-width:2.0px;stroke-linecap:butt;stroke-linejoin:miter;stroke-opacity:1\"/>\n",
       "<path class=\"bond-12 atom-10 atom-12\" d=\"M 378.7,319.7 L 378.9,362.7\" style=\"fill:none;fill-rule:evenodd;stroke:#FF0000;stroke-width:2.0px;stroke-linecap:butt;stroke-linejoin:miter;stroke-opacity:1\"/>\n",
       "<path class=\"bond-12 atom-10 atom-12\" d=\"M 393.4,276.6 L 393.6,319.6\" style=\"fill:none;fill-rule:evenodd;stroke:#000000;stroke-width:2.0px;stroke-linecap:butt;stroke-linejoin:miter;stroke-opacity:1\"/>\n",
       "<path class=\"bond-12 atom-10 atom-12\" d=\"M 393.6,319.6 L 393.8,362.7\" style=\"fill:none;fill-rule:evenodd;stroke:#FF0000;stroke-width:2.0px;stroke-linecap:butt;stroke-linejoin:miter;stroke-opacity:1\"/>\n",
       "<path d=\"M 41.8,287.0 L 41.9,282.0 L 46.1,279.5\" style=\"fill:none;stroke:#000000;stroke-width:2.0px;stroke-linecap:butt;stroke-linejoin:miter;stroke-opacity:1;\"/>\n",
       "<path d=\"M 41.7,376.7 L 41.7,381.7 L 46.0,384.2\" style=\"fill:none;stroke:#000000;stroke-width:2.0px;stroke-linecap:butt;stroke-linejoin:miter;stroke-opacity:1;\"/>\n",
       "<path d=\"M 123.5,428.9 L 127.8,431.4 L 132.2,428.9\" style=\"fill:none;stroke:#000000;stroke-width:2.0px;stroke-linecap:butt;stroke-linejoin:miter;stroke-opacity:1;\"/>\n",
       "<path d=\"M 209.9,384.1 L 214.2,381.6 L 214.1,376.6\" style=\"fill:none;stroke:#000000;stroke-width:2.0px;stroke-linecap:butt;stroke-linejoin:miter;stroke-opacity:1;\"/>\n",
       "<path d=\"M 127.3,137.8 L 127.3,132.8 L 129.1,131.8\" style=\"fill:none;stroke:#000000;stroke-width:2.0px;stroke-linecap:butt;stroke-linejoin:miter;stroke-opacity:1;\"/>\n",
       "<path d=\"M 384.3,279.9 L 386.0,280.9 L 390.3,278.4\" style=\"fill:none;stroke:#000000;stroke-width:2.0px;stroke-linecap:butt;stroke-linejoin:miter;stroke-opacity:1;\"/>\n",
       "<path class=\"atom-7\" d=\"M 200.3 83.0 Q 200.3 76.2, 203.6 72.4 Q 207.0 68.6, 213.3 68.6 Q 219.5 68.6, 222.9 72.4 Q 226.3 76.2, 226.3 83.0 Q 226.3 89.8, 222.9 93.8 Q 219.5 97.6, 213.3 97.6 Q 207.0 97.6, 203.6 93.8 Q 200.3 89.9, 200.3 83.0 M 213.3 94.4 Q 217.6 94.4, 219.9 91.6 Q 222.3 88.6, 222.3 83.0 Q 222.3 77.4, 219.9 74.6 Q 217.6 71.8, 213.3 71.8 Q 208.9 71.8, 206.6 74.6 Q 204.3 77.4, 204.3 83.0 Q 204.3 88.7, 206.6 91.6 Q 208.9 94.4, 213.3 94.4 \" fill=\"#FF0000\"/>\n",
       "<path class=\"atom-7\" d=\"M 230.7 68.9 L 234.5 68.9 L 234.5 80.9 L 249.0 80.9 L 249.0 68.9 L 252.8 68.9 L 252.8 97.2 L 249.0 97.2 L 249.0 84.1 L 234.5 84.1 L 234.5 97.2 L 230.7 97.2 L 230.7 68.9 \" fill=\"#FF0000\"/>\n",
       "<path class=\"atom-8\" d=\"M 28.1 83.5 Q 28.1 76.7, 31.4 72.9 Q 34.8 69.1, 41.1 69.1 Q 47.4 69.1, 50.7 72.9 Q 54.1 76.7, 54.1 83.5 Q 54.1 90.4, 50.7 94.3 Q 47.3 98.2, 41.1 98.2 Q 34.8 98.2, 31.4 94.3 Q 28.1 90.4, 28.1 83.5 M 41.1 95.0 Q 45.4 95.0, 47.7 92.1 Q 50.1 89.2, 50.1 83.5 Q 50.1 77.9, 47.7 75.1 Q 45.4 72.3, 41.1 72.3 Q 36.8 72.3, 34.4 75.1 Q 32.1 77.9, 32.1 83.5 Q 32.1 89.2, 34.4 92.1 Q 36.8 95.0, 41.1 95.0 \" fill=\"#FF0000\"/>\n",
       "<path class=\"atom-9\" d=\"M 286.7 231.6 Q 286.7 224.8, 290.1 221.0 Q 293.4 217.2, 299.7 217.2 Q 306.0 217.2, 309.4 221.0 Q 312.7 224.8, 312.7 231.6 Q 312.7 238.5, 309.3 242.4 Q 305.9 246.3, 299.7 246.3 Q 293.5 246.3, 290.1 242.4 Q 286.7 238.5, 286.7 231.6 M 299.7 243.1 Q 304.0 243.1, 306.4 240.2 Q 308.7 237.3, 308.7 231.6 Q 308.7 226.0, 306.4 223.2 Q 304.0 220.4, 299.7 220.4 Q 295.4 220.4, 293.0 223.2 Q 290.7 226.0, 290.7 231.6 Q 290.7 237.3, 293.0 240.2 Q 295.4 243.1, 299.7 243.1 \" fill=\"#FF0000\"/>\n",
       "<path class=\"atom-12\" d=\"M 373.4 380.4 Q 373.4 373.6, 376.7 369.8 Q 380.1 366.0, 386.4 366.0 Q 392.7 366.0, 396.0 369.8 Q 399.4 373.6, 399.4 380.4 Q 399.4 387.3, 396.0 391.2 Q 392.6 395.1, 386.4 395.1 Q 380.1 395.1, 376.7 391.2 Q 373.4 387.3, 373.4 380.4 M 386.4 391.9 Q 390.7 391.9, 393.0 389.0 Q 395.4 386.1, 395.4 380.4 Q 395.4 374.8, 393.0 372.0 Q 390.7 369.2, 386.4 369.2 Q 382.1 369.2, 379.7 372.0 Q 377.4 374.8, 377.4 380.4 Q 377.4 386.1, 379.7 389.0 Q 382.1 391.9, 386.4 391.9 \" fill=\"#FF0000\"/>\n",
       "</svg>"
      ],
      "text/plain": [
       "<IPython.core.display.SVG object>"
      ]
     },
     "execution_count": 48,
     "metadata": {},
     "output_type": "execute_result"
    }
   ],
   "source": [
    "from IPython.display import SVG\n",
    "\n",
    "image = new_client.image\n",
    "image.set_format('svg')\n",
    "SVG(image.get('CHEMBL25'))"
   ]
  },
  {
   "cell_type": "markdown",
   "metadata": {},
   "source": [
    "### 3.2. Retriving activity data"
   ]
  },
  {
   "cell_type": "markdown",
   "metadata": {},
   "source": []
  },
  {
   "cell_type": "markdown",
   "metadata": {},
   "source": [
    "### 3.3. Retriving tissue data"
   ]
  },
  {
   "cell_type": "markdown",
   "metadata": {},
   "source": []
  },
  {
   "cell_type": "markdown",
   "metadata": {},
   "source": [
    "### 3.4 Retriving cell data"
   ]
  },
  {
   "cell_type": "markdown",
   "metadata": {},
   "source": []
  },
  {
   "cell_type": "markdown",
   "metadata": {},
   "source": [
    "### 3.5. Retriving target data"
   ]
  },
  {
   "cell_type": "code",
   "execution_count": null,
   "metadata": {},
   "outputs": [],
   "source": []
  },
  {
   "cell_type": "markdown",
   "metadata": {},
   "source": [
    "### 3.6. Retriving references and sources"
   ]
  },
  {
   "cell_type": "markdown",
   "metadata": {},
   "source": [
    "### 3.7. Some other utilities"
   ]
  },
  {
   "cell_type": "markdown",
   "metadata": {},
   "source": []
  }
 ],
 "metadata": {
  "kernelspec": {
   "display_name": "base",
   "language": "python",
   "name": "python3"
  },
  "language_info": {
   "codemirror_mode": {
    "name": "ipython",
    "version": 3
   },
   "file_extension": ".py",
   "mimetype": "text/x-python",
   "name": "python",
   "nbconvert_exporter": "python",
   "pygments_lexer": "ipython3",
   "version": "3.8.12"
  }
 },
 "nbformat": 4,
 "nbformat_minor": 2
}
