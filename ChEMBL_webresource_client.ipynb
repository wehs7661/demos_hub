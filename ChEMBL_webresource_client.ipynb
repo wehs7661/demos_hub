{
 "cells": [
  {
   "cell_type": "markdown",
   "metadata": {},
   "source": [
    "# A demonstration of ChEMBL webresource client"
   ]
  },
  {
   "cell_type": "markdown",
   "metadata": {},
   "source": [
    "ChEMBL webresource client is the official Python cliet library that helps access ChEMBL data. It provides a simple interface to the ChEMBL web services and allows to query the ChEMBL database and retrieve data in a programmatic way. Adapted from the official [demo](http://beta.mybinder.org/v2/gh/chembl/chembl_webresource_client/master?filepath=demo_wrc.ipynb) included in the repo of [`chembl_webresource_client`](https://github.com/chembl/chembl_webresource_client) (and its [later version](https://github.com/chembl/notebooks/blob/main/ChEMBL_webresource_client_examples.ipynb)), this jupyter notebook presents some more detailed examples of how to use the client library to access ChEMBL data. Additionally, here is the ChEMBL interface documentation: https://chembl.gitbook.io/chembl-interface-documentation"
   ]
  },
  {
   "cell_type": "markdown",
   "metadata": {},
   "source": [
    "## 1. Available filters\n",
    "ChEMBL webresource client provides a number of lookups for flexible quering of the database, making it filter and retrieve specific data. Here are some notes about each lookup type supported by ChEMBL:\n",
    "  - `exact`: Matches an exact value, e.g., `name__exact='Aspirin'` would match if the name is exactly `'Aspirin'`.\n",
    "  - `iexact`: Case-insensitive exact value, e.g., `name__iexact='aspirin'` would match if the name is `'aspirin'`, `'ASPIRIN'`, etc.\n",
    "  - `contains`: Checks if a value contains the specified substring, e.g., `description__contains='pain'` would match if the description contains the substring `'pain'`.\n",
    "  - `icontains`: Case-insensitive contains, e.g., `description__icontains='Pain'` would match if the description contains `'pain'`, `'Pain'`, etc.\n",
    "  - `in`: Matches if the value is within a specified list, e.g., `id__in=[1, 2, 3]` would match if the id is 1, 2, or 3.\n",
    "  - `gt`/`gte/lt/lte`: Greater than/greater than or equal to/less than/less than or equal to, e.g., `value__gt=10` would match if the value is greater than 10.\n",
    "  - `startswith/endswith`: Matches if a value starts/ends with the specified substring, e.g., `name__startswith='Asp'` would match if the name starts with `'Asp'`.\n",
    "  - `istartswith/iendswith`: Case-insensitive starts/ends with, e.g., `name__istartswith='asp'` would match if the name starts with `'asp'`, `'Asp'`, etc.\n",
    "  - `range`: Matches if a value is within a specified range, e.g., `value__range=(1, 10)` would atch if the value is between 1 and 10 inclusive. \n",
    "  - `isnull`: Matches if a value is null, e.g., `date_isnull=True` would match if the date is null.\n",
    "  - `regex`: Matches if a value matches the specified regular expression, e.g.,  `name__regex=r'^[A-Z]'` would match if the name starts with an uppercase letter.\n",
    "  - `iregex`: Case-insensitive regular expression match, e.g., `name__iregex=r'^[a-z]'` would match if the name starts with a letter, regardless of case.\n",
    "  - `search`: Full-text search, supported in som backends like PostgresSQL, e.g., `description__search='pain relief'` would match if the description matches the full-text search term `'pain relief'`.\n"
   ]
  },
  {
   "cell_type": "markdown",
   "metadata": {},
   "source": [
    "## 2. The `only` operator\n",
    "### 2.1. Introduction\n",
    "The `only` method in the ChEMBL webresrouce client is used to limit the results of a query to a specific set of fields. The `only` method takes a single argument, which is a list of fields that one wants to include in the result. When one uses the `only` method to specify a subset of fields, the API will return only those fields, rather than the entire dataset. This reduces the amount of data being transmitted over the network, thus saving bandwidth and making the API call/query faster."
   ]
  },
  {
   "cell_type": "markdown",
   "metadata": {},
   "source": [
    "### 2.2. Example"
   ]
  },
  {
   "cell_type": "code",
   "execution_count": 1,
   "metadata": {},
   "outputs": [],
   "source": [
    "from chembl_webresource_client.new_client import new_client\n",
    "\n",
    "# Create a client for molecules\n",
    "molecule = new_client.molecule\n",
    "\n",
    "mol_1 = molecule.get('CHEMBL25')\n",
    "mol_2 = molecule.filter(chembl_id='CHEMBL25').only(['chembl_id', 'molecule_properties', 'molecule_structures'])\n",
    "mol_3 = molecule.filter(chembl_id='CHEMBL25')"
   ]
  },
  {
   "cell_type": "markdown",
   "metadata": {},
   "source": [
    "- As can be checked, `mol_1` is a dictionary containing 36 keys relevant to the compound aspirin, including `'atc_classifications'`, `'availability_type'`, ... `'molecule_properties'`, `'molecule_structures'`, ... etc."
   ]
  },
  {
   "cell_type": "code",
   "execution_count": 2,
   "metadata": {},
   "outputs": [
    {
     "data": {
      "text/plain": [
       "dict_keys(['atc_classifications', 'availability_type', 'biotherapeutic', 'black_box_warning', 'chebi_par_id', 'chemical_probe', 'chirality', 'cross_references', 'dosed_ingredient', 'first_approval', 'first_in_class', 'helm_notation', 'indication_class', 'inorganic_flag', 'max_phase', 'molecule_chembl_id', 'molecule_hierarchy', 'molecule_properties', 'molecule_structures', 'molecule_synonyms', 'molecule_type', 'natural_product', 'oral', 'orphan', 'parenteral', 'polymer_flag', 'pref_name', 'prodrug', 'structure_type', 'therapeutic_flag', 'topical', 'usan_stem', 'usan_stem_definition', 'usan_substem', 'usan_year', 'withdrawn_flag'])"
      ]
     },
     "execution_count": 2,
     "metadata": {},
     "output_type": "execute_result"
    }
   ],
   "source": [
    "mol_1.keys()"
   ]
  },
  {
   "cell_type": "markdown",
   "metadata": {},
   "source": [
    "- On the other hand, `mol_2` is an object of `chembl_webresource_client.query_set.QuerySet`. It can be indexed and has only one element in this case. Specifically, `mol_2[0]` is a dictionary containing only two keys (`'molecule_properties'` and `'molecule_structures'` for the same compound aspirin.)"
   ]
  },
  {
   "cell_type": "code",
   "execution_count": 3,
   "metadata": {},
   "outputs": [
    {
     "data": {
      "text/plain": [
       "chembl_webresource_client.query_set.QuerySet"
      ]
     },
     "execution_count": 3,
     "metadata": {},
     "output_type": "execute_result"
    }
   ],
   "source": [
    "type(mol_2)"
   ]
  },
  {
   "cell_type": "code",
   "execution_count": 4,
   "metadata": {},
   "outputs": [
    {
     "data": {
      "text/plain": [
       "{'molecule_properties': {'alogp': '1.31',\n",
       "  'aromatic_rings': 1,\n",
       "  'cx_logd': '-2.16',\n",
       "  'cx_logp': '1.24',\n",
       "  'cx_most_apka': '3.41',\n",
       "  'cx_most_bpka': None,\n",
       "  'full_molformula': 'C9H8O4',\n",
       "  'full_mwt': '180.16',\n",
       "  'hba': 3,\n",
       "  'hba_lipinski': 4,\n",
       "  'hbd': 1,\n",
       "  'hbd_lipinski': 1,\n",
       "  'heavy_atoms': 13,\n",
       "  'molecular_species': 'ACID',\n",
       "  'mw_freebase': '180.16',\n",
       "  'mw_monoisotopic': '180.0423',\n",
       "  'np_likeness_score': '0.12',\n",
       "  'num_lipinski_ro5_violations': 0,\n",
       "  'num_ro5_violations': 0,\n",
       "  'psa': '63.60',\n",
       "  'qed_weighted': '0.55',\n",
       "  'ro3_pass': 'N',\n",
       "  'rtb': 2},\n",
       " 'molecule_structures': {'canonical_smiles': 'CC(=O)Oc1ccccc1C(=O)O',\n",
       "  'molfile': '\\n     RDKit          2D\\n\\n 13 13  0  0  0  0  0  0  0  0999 V2000\\n   19.8052   -4.2758    0.0000 C   0  0  0  0  0  0  0  0  0  0  0  0\\n   19.8040   -5.0953    0.0000 C   0  0  0  0  0  0  0  0  0  0  0  0\\n   20.5121   -5.5043    0.0000 C   0  0  0  0  0  0  0  0  0  0  0  0\\n   21.2217   -5.0948    0.0000 C   0  0  0  0  0  0  0  0  0  0  0  0\\n   21.2189   -4.2722    0.0000 C   0  0  0  0  0  0  0  0  0  0  0  0\\n   20.5103   -3.8669    0.0000 C   0  0  0  0  0  0  0  0  0  0  0  0\\n   20.5078   -3.0497    0.0000 C   0  0  0  0  0  0  0  0  0  0  0  0\\n   21.2143   -2.6390    0.0000 O   0  0  0  0  0  0  0  0  0  0  0  0\\n   19.7989   -2.6432    0.0000 O   0  0  0  0  0  0  0  0  0  0  0  0\\n   21.9250   -3.8609    0.0000 O   0  0  0  0  0  0  0  0  0  0  0  0\\n   22.6343   -4.2668    0.0000 C   0  0  0  0  0  0  0  0  0  0  0  0\\n   23.3405   -3.8556    0.0000 C   0  0  0  0  0  0  0  0  0  0  0  0\\n   22.6374   -5.0840    0.0000 O   0  0  0  0  0  0  0  0  0  0  0  0\\n  1  2  2  0\\n  2  3  1  0\\n  3  4  2  0\\n  4  5  1  0\\n  5  6  2  0\\n  6  1  1  0\\n  6  7  1  0\\n  7  8  1  0\\n  7  9  2  0\\n  5 10  1  0\\n 10 11  1  0\\n 11 12  1  0\\n 11 13  2  0\\nM  END\\n> <chembl_id>\\nNone\\n\\n> <chembl_pref_name>\\nundefined',\n",
       "  'standard_inchi': 'InChI=1S/C9H8O4/c1-6(10)13-8-5-3-2-4-7(8)9(11)12/h2-5H,1H3,(H,11,12)',\n",
       "  'standard_inchi_key': 'BSYNRYMUTXBXSQ-UHFFFAOYSA-N'}}"
      ]
     },
     "execution_count": 4,
     "metadata": {},
     "output_type": "execute_result"
    }
   ],
   "source": [
    "mol_2[0]"
   ]
  },
  {
   "cell_type": "markdown",
   "metadata": {},
   "source": [
    "- `mol_3` is also an object of `chembl_webresource_client.query_set.QuerySet` and also has only one element, which is a dictionary for the compound aspirin. However, since the `only` method was not used. `mol_3[0]` is equivalent to `mol_1`."
   ]
  },
  {
   "cell_type": "code",
   "execution_count": 5,
   "metadata": {},
   "outputs": [
    {
     "data": {
      "text/plain": [
       "True"
      ]
     },
     "execution_count": 5,
     "metadata": {},
     "output_type": "execute_result"
    }
   ],
   "source": [
    "mol_3[0] == mol_1"
   ]
  },
  {
   "cell_type": "markdown",
   "metadata": {},
   "source": [
    "- So for `mol_1` and `mol_3`, the query retrieved all information about the molecule with ChEMBL ID `CHEMBL25`, which can include a lot of data. On the other hand, for `mol_2`, the query was limited to only return the `chembl_id`, `molecule_properties`, and `molecule_structures` fields for the molecule with ChEMBL ID `CHEMBL25`. This reduces the amount of data returned and can speed up the query."
   ]
  },
  {
   "cell_type": "code",
   "execution_count": 6,
   "metadata": {},
   "outputs": [
    {
     "name": "stdout",
     "output_type": "stream",
     "text": [
      "keys of A: dict_keys(['molecule_properties', 'molecule_structures'])\n",
      "keys of B: dict_keys(['molecule_properties', 'molecule_structures'])\n",
      "Keys of A and B are the same:  True\n",
      "Values of A and B are the same:  True\n",
      "False\n"
     ]
    }
   ],
   "source": [
    "A = molecule.filter(chembl_id='CHEMBL25').only(['chembl_id' 'molecule_properties', 'molecule_structures'])\n",
    "B = molecule.filter(chembl_id='CHEMBL25').only([ 'molecule_properties', 'molecule_structures'])\n",
    "\n",
    "print(f'keys of A: {A[0].keys()}\\nkeys of B: {B[0].keys()}')\n",
    "print('Keys of A and B are the same: ', A[0].keys() == B[0].keys())\n",
    "print('Values of A and B are the same: ', A[0] == B[0])\n",
    "print(A == B)"
   ]
  },
  {
   "cell_type": "markdown",
   "metadata": {},
   "source": [
    "- As shown above, `A` and `B` are essentially the same in terms of their keys and values, though `A==B` still returned `False`. This is because they are indeed different queries. In fact, even `a==b` below returns `False`."
   ]
  },
  {
   "cell_type": "code",
   "execution_count": 7,
   "metadata": {},
   "outputs": [
    {
     "data": {
      "text/plain": [
       "False"
      ]
     },
     "execution_count": 7,
     "metadata": {},
     "output_type": "execute_result"
    }
   ],
   "source": [
    "a = molecule.filter(chembl_id='CHEMBL25').only(['molecule_properties', 'molecule_structures'])\n",
    "b = molecule.filter(chembl_id='CHEMBL25').only(['molecule_properties', 'molecule_structures'])\n",
    "a == b"
   ]
  },
  {
   "cell_type": "markdown",
   "metadata": {},
   "source": [
    "- Note that specified fields have to exist in the endpoint against which only is executed.\n",
    "  - An API endpoint is a specific URL or address at which a service can be accessed by applications to perform operations such as fetching data or sending data. Think of it as a specific function or resource you can interact with through a URL. In simpler terms, an API endpoint is like a door through which you can request specific information from a database or service.\n",
    "  - The molecule endpoint might be something like https://www.ebi.ac.uk/chembl/api/data/molecule. Each endpoint corresponds to a particular type of data or functionality provided by the API.\n",
    "  - The example above used the method `molecule` to create a client. There are a lot of other methods one can use, which can be checked by the following code:"
   ]
  },
  {
   "cell_type": "code",
   "execution_count": 8,
   "metadata": {},
   "outputs": [
    {
     "name": "stdout",
     "output_type": "stream",
     "text": [
      "['activity', 'activity_supplementary_data_by_activity', 'assay', 'assay_class', 'atc_class', 'binding_site', 'biotherapeutic', 'cell_line', 'chembl_id_lookup', 'chembl_release', 'compound_record', 'compound_structural_alert', 'description', 'document', 'document_similarity', 'drug', 'drug_indication', 'drug_warning', 'go_slim', 'image', 'mechanism', 'metabolism', 'molecule', 'molecule_form', 'official', 'organism', 'protein_classification', 'similarity', 'source', 'substructure', 'target', 'target_component', 'target_relation', 'tissue', 'xref_source']\n"
     ]
    }
   ],
   "source": [
    "available_resources = [resource for resource in dir(new_client) if not resource.startswith('_')]\n",
    "print(available_resources)"
   ]
  },
  {
   "cell_type": "markdown",
   "metadata": {},
   "source": [
    "For example, one can create a client using `activity`:"
   ]
  },
  {
   "cell_type": "code",
   "execution_count": 9,
   "metadata": {},
   "outputs": [
    {
     "name": "stdout",
     "output_type": "stream",
     "text": [
      "[{'activity_id': 42173, 'assay_chembl_id': 'CHEMBL702885', 'standard_type': \"Log K'\", 'standard_units': None, 'standard_value': '1.39', 'type': \"Log K'\", 'units': None, 'value': '1.39'}, {'activity_id': 81965, 'assay_chembl_id': 'CHEMBL771355', 'standard_type': 'Activity', 'standard_units': '%', 'standard_value': '100.0', 'type': 'Activity', 'units': '%', 'value': '100.0'}, {'activity_id': 81966, 'assay_chembl_id': 'CHEMBL780106', 'standard_type': 'ED25', 'standard_units': 'uM kg-1', 'standard_value': '402.0', 'type': 'ED25', 'units': 'uM kg-1', 'value': '402.0'}, {'activity_id': 88326, 'assay_chembl_id': 'CHEMBL762032', 'standard_type': 'IC50', 'standard_units': 'nM', 'standard_value': '34600.0', 'type': 'IC50', 'units': 'uM', 'value': '34.6'}, '...(remaining elements truncated)...']\n"
     ]
    }
   ],
   "source": [
    "activity = new_client.activity\n",
    "activities = activity.filter(molecule_chembl_id='CHEMBL25').only(['activity_id', 'assay_chembl_id', 'standard_value', 'standard_units', 'standard_type'])\n",
    "print(activities)"
   ]
  },
  {
   "cell_type": "markdown",
   "metadata": {},
   "source": [
    "or using `target`:"
   ]
  },
  {
   "cell_type": "code",
   "execution_count": 10,
   "metadata": {},
   "outputs": [
    {
     "name": "stdout",
     "output_type": "stream",
     "text": [
      "[{'organism': 'Rattus norvegicus', 'pref_name': 'Glutamate receptor ionotropic, AMPA', 'species_group_flag': False, 'target_chembl_id': 'CHEMBL2093871', 'target_type': 'PROTEIN COMPLEX GROUP'}]\n"
     ]
    }
   ],
   "source": [
    "target = new_client.target\n",
    "target_info = target.filter(target_chembl_id='CHEMBL2093871').only(['target_chembl_id', 'pref_name', 'organism', 'target_type', 'species_group_flag'])\n",
    "print(target_info)"
   ]
  },
  {
   "cell_type": "markdown",
   "metadata": {},
   "source": [
    "For more examples, please refer to the next section."
   ]
  },
  {
   "cell_type": "markdown",
   "metadata": {},
   "source": [
    "### 2.3. Limitations\n",
    "- **Nested fields**: Specifying nested fields won't work as intended, as the `only` method ignores nested fields. The parent field will be returned instead. For instance `only(['molecule_proper__alogp'])` is treated as `only(['molecule_properties'])`.\n",
    "- **Many-to-many relationship**: For many-to-many relationship, `only` won't optimize SQL joins. This means it won't reduce the complexity of retrieving related data in such relationships.  \n",
    "\n",
    "### 2.4. Benefits\n",
    "By using `only`, you can significantly reduce the payload size and improve the performance of your API calls, esepcially when you only need a few fields from a potentially large dataset. This is particularly useful in scenarios where bandwidth and response time are critical. (Behind the scene, the API logic will also check if any SQL joins are necessary to return the specified field and exclude unnecessary joins with critically improves performance.)\n",
    "\n",
    "### 2.5. Complementary notes\n",
    "#### 2.5.1. What are SQL joins?\n",
    "(Notes taken from the response by ChatGPT-4o.)\n",
    "- SQL is a standard language used to communicate with databases. It allows you to create, read, update, and delete data in a database. In SQL, a join is a way to combine rows from two or more tables based on a related column between them. \n",
    "- Types of SQL Joins:\n",
    "  - `INNER JOIN`: Returns only the rows that have matching values in both tables.\n",
    "  - `LEFT JOIN` (or `LEFT OUTER JOIN`): Returns all rows from the left table, and the matched rows from the right table. If no match, NULL values are returned for columns from the right table.\n",
    "  - `RIGHT JOIN` (or `RIGHT OUTER JOIN`): Returns all rows from the right table, and the matched rows from the left table. If no match, NULL values are returned for columns from the left table.\n",
    "  - `FULL JOIN` (or `FULL OUTER JOIN`): Returns all rows when there is a match in either left or right table. Rows that do not have a match in either table are also included, with NULLs in the columns of the non-matching table.\n",
    "- Example\n",
    "  - Imagine you have two tables in a database.\n",
    "    - Table 1: Molecules \n",
    "\n",
    "      | chembl_id | name | \n",
    "      | :--------: | :--------: |\n",
    "      | CHEMBL25 | Aspirin     | \n",
    "      | CHEMBL26 | Paracetamol     | \n",
    "    - Table 2: Molecule Properties\n",
    "  \n",
    "      | chembl_id |   property_name  | property_value |\n",
    "      |:---------:|:----------------:|:--------------:|\n",
    "      |  CHEMBL25 |       logP       |       1.2      |\n",
    "      |  CHEMBL25 | molecular_weight |     180.16     |\n",
    "      |  CHEMBL26 |       logP       |       0.5      |\n",
    "      | CHEMBL26  | molecular_weight | 151.17         |\n",
    "  - Join example\n",
    "    - You want to retrieve the molecule name and its logP value.\n",
    "    - The common column between the two tables is `chembl_id`. \n",
    "  - SQL query\n",
    "    ```sql\n",
    "    SELECT molecule.name, molecule_properties.property_value AS logP\n",
    "    FROM molecule\n",
    "    INNER JOIN molecule_properties\n",
    "    ON molecule.chembl_id = molecule_properties.chembl_id\n",
    "    WHERE molecule_properties.property_name = 'logP';\n",
    "    ```\n",
    "  - Result\n",
    "\n",
    "    |     name    | logP |\n",
    "    |:-----------:|:----:|\n",
    "    |   Aspirin   |  1.2 |\n",
    "    | Paracetamol |  0.5 |\n",
    "  - In this query:\n",
    "    - `INNER JOIN` is used to combine rows from the molecule table and molecule_properties table where the `chembl_id` matches.\n",
    "    - The `WHERE` clause filters the properties to only get the logP values.\n",
    "  - When the API needs to fetch data that resides in multiple related tables, it may perform joins behind the scenes to combine the necessary data into a single response. By using the only method, you help the API understand which specific fields you need, allowing it to exclude unnecessary joins and optimize the query.\n",
    "\n",
    "#### 2.5.2. What are many-to-many relationships?\n",
    "Many-to-many relationships are a common concept in database design where a record in one table can be associated with multiple records in another table, and vice versa. To manage many-to-many relationships, a third table, often called a \"junction table\" or \"join table,\" is used to link the two related tables. Below is an example scenario.\n",
    "  - Consider a database where we have three tables: \"Compounds\", \"Assays\" and \"Targets\". As shown below, the columns of the table create a many-to-many relationship between tables. Specifically\n",
    "    - Compounds:\n",
    "\n",
    "      | chembl_id | molecule_name |\n",
    "      |:---------:|:-------------:|\n",
    "      |  CHEMBL25 |    Aspirin    |\n",
    "      |  CHEMBL26 |  Paracetamol  |\n",
    "    - Assays:\n",
    "\n",
    "      | assay_id |    assay_description   |\n",
    "      |:--------:|:----------------------:|\n",
    "      |    A1    | Inhibition of enzyme X |\n",
    "      |    A2    |  Binding to receptor Y |\n",
    "    - Targets:\n",
    "\n",
    "      | target_id | target_name |\n",
    "      |:---------:|:-----------:|\n",
    "      |     T1    |   Enzyme X  |\n",
    "      |     T2    |  Receptor Y |\n",
    "  - Junction tables\n",
    "    - The junction table for the compound-assay relationship\n",
    "\n",
    "      | chembl_id | assay_id |\n",
    "      |:---------:|:--------:|\n",
    "      |  CHEMBL25 |    A1    |\n",
    "      |  CHEMBL25 |    A2    |\n",
    "      |  CHEMBL26 |    A1    |\n",
    "    - The junction table for the assay-target relationship\n",
    "\n",
    "      | assay_id | target_id |\n",
    "      |:--------:|:---------:|\n",
    "      |    A1    |     T1    |\n",
    "      |    A2    |     T2    |\n",
    "    - SQL joins for many-to-many relationships \n",
    "      To retrieve the list of compounds, their assays, and the associated targets, one can use SQL joins so that the following table is generated.\n",
    "      \n",
    "      | molecule_name |    assay_description   | target_name |\n",
    "      |:-------------:|:----------------------:|:-----------:|\n",
    "      |    Aspirin    | Inhibition of enzyme X |   Enzyme X  |\n",
    "      |    Aspirin    |  Binding to receptor Y |  Receptor Y |\n",
    "      |  Paracetamol  | Inhibition of enzyme X |   Enzyme X  |\n"
   ]
  },
  {
   "cell_type": "markdown",
   "metadata": {},
   "source": [
    "## 3. Examples of retriving data from ChEMBL"
   ]
  },
  {
   "cell_type": "markdown",
   "metadata": {},
   "source": [
    "### 3.1. Compounds\n",
    "Compounds in ChEMBL usually have associated bioactivity data. For example, the activity of a compound may have been measured in an experiment against a particular target and results in a certain IC50 value that has been published in the scientific literature. Compounds records may be retrieved in a number of ways, such as a lookup of an individual compound using various identifiers (with the `'molecule'` endpoint) or by seraching for compounds via the `'similarity'` endpoint. Below we present various examples."
   ]
  },
  {
   "cell_type": "markdown",
   "metadata": {},
   "source": [
    "#### 3.1.1. Get a molecule by its preferred name (`pref_name`)"
   ]
  },
  {
   "cell_type": "code",
   "execution_count": 11,
   "metadata": {},
   "outputs": [
    {
     "data": {
      "text/plain": [
       "[{'molecule_chembl_id': 'CHEMBL25'}]"
      ]
     },
     "execution_count": 11,
     "metadata": {},
     "output_type": "execute_result"
    }
   ],
   "source": [
    "molecule.filter(pref_name__iexact='aspirin').only('molecule_chembl_id')"
   ]
  },
  {
   "cell_type": "markdown",
   "metadata": {},
   "source": [
    "#### 3.1.2. Get a molecule by its synonyms\n",
    "Note that the `'molecule_synonym'` field is nested within the `'molecule_synonyms'` field, hence the first double underscore. (That is, `'molecule_synonyms'` corresponds to a list of dictionaries, each containing a key `'molecule_synonym'`.)"
   ]
  },
  {
   "cell_type": "code",
   "execution_count": 12,
   "metadata": {},
   "outputs": [
    {
     "data": {
      "text/plain": [
       "[{'molecule_chembl_id': 'CHEMBL192'}, {'molecule_chembl_id': 'CHEMBL1737'}]"
      ]
     },
     "execution_count": 12,
     "metadata": {},
     "output_type": "execute_result"
    }
   ],
   "source": [
    "molecule.filter(molecule_synonyms__molecule_synonym__iexact='viagra').only('molecule_chembl_id')"
   ]
  },
  {
   "cell_type": "markdown",
   "metadata": {},
   "source": [
    "#### 3.1.3. Get a single molecule by ChEMBL ID\n",
    "Note that one can use `molecule.get('CHEMBL25')` to print all fields."
   ]
  },
  {
   "cell_type": "code",
   "execution_count": 13,
   "metadata": {},
   "outputs": [
    {
     "data": {
      "text/plain": [
       "[{'molecule_chembl_id': 'CHEMBL25', 'pref_name': 'ASPIRIN'}]"
      ]
     },
     "execution_count": 13,
     "metadata": {},
     "output_type": "execute_result"
    }
   ],
   "source": [
    "molecule.filter(chembl_id='CHEMBL25').only(['molecule_chembl_id', 'pref_name', 'full_molformula'])"
   ]
  },
  {
   "cell_type": "markdown",
   "metadata": {},
   "source": [
    "#### 3.1.4. Get a few molecules by their ChEMBL IDs\n",
    "Here we use the double underscore followed by the `in` keyword to find a list of `'molecule_chembl_id'`'s."
   ]
  },
  {
   "cell_type": "code",
   "execution_count": 14,
   "metadata": {},
   "outputs": [
    {
     "data": {
      "text/plain": [
       "[{'molecule_chembl_id': 'CHEMBL25', 'pref_name': 'ASPIRIN'}, {'molecule_chembl_id': 'CHEMBL27', 'pref_name': 'PROPRANOLOL'}, {'molecule_chembl_id': 'CHEMBL192', 'pref_name': 'SILDENAFIL'}]"
      ]
     },
     "execution_count": 14,
     "metadata": {},
     "output_type": "execute_result"
    }
   ],
   "source": [
    "molecule.filter(molecule_chembl_id__in=['CHEMBL25', 'CHEMBL192', 'CHEMBL27']).only(['molecule_chembl_id', 'pref_name', 'full_molformula'])"
   ]
  },
  {
   "cell_type": "markdown",
   "metadata": {},
   "source": [
    "#### 3.1.5. Get a single molecule by standard InChI Key\n",
    "In the example below, ehe value of `molecule_structures` is a dictionary containing keys including `'canonical_smiles'`, `'molfile'`, `'standard_inchi'`, `'standard_inchi_key'`, etc. "
   ]
  },
  {
   "cell_type": "code",
   "execution_count": 15,
   "metadata": {},
   "outputs": [
    {
     "data": {
      "text/plain": [
       "[{'molecule_chembl_id': 'CHEMBL25', 'pref_name': 'ASPIRIN'}]"
      ]
     },
     "execution_count": 15,
     "metadata": {},
     "output_type": "execute_result"
    }
   ],
   "source": [
    "molecule.filter(molecule_structures__standard_inchi_key='BSYNRYMUTXBXSQ-UHFFFAOYSA-N').only(['molecule_chembl_id', 'pref_name'])"
   ]
  },
  {
   "cell_type": "markdown",
   "metadata": {},
   "source": [
    "#### 3.1.6. Find compounds similar to a given SMILES query with similarity > 70%"
   ]
  },
  {
   "cell_type": "code",
   "execution_count": 16,
   "metadata": {},
   "outputs": [
    {
     "data": {
      "text/html": [
       "<div>\n",
       "<style scoped>\n",
       "    .dataframe tbody tr th:only-of-type {\n",
       "        vertical-align: middle;\n",
       "    }\n",
       "\n",
       "    .dataframe tbody tr th {\n",
       "        vertical-align: top;\n",
       "    }\n",
       "\n",
       "    .dataframe thead th {\n",
       "        text-align: right;\n",
       "    }\n",
       "</style>\n",
       "<table border=\"1\" class=\"dataframe\">\n",
       "  <thead>\n",
       "    <tr style=\"text-align: right;\">\n",
       "      <th></th>\n",
       "      <th>molecule_chembl_id</th>\n",
       "      <th>pref_name</th>\n",
       "      <th>similarity</th>\n",
       "    </tr>\n",
       "  </thead>\n",
       "  <tbody>\n",
       "    <tr>\n",
       "      <th>0</th>\n",
       "      <td>CHEMBL2296002</td>\n",
       "      <td>None</td>\n",
       "      <td>100</td>\n",
       "    </tr>\n",
       "    <tr>\n",
       "      <th>1</th>\n",
       "      <td>CHEMBL1697753</td>\n",
       "      <td>ASPIRIN DL-LYSINE</td>\n",
       "      <td>100</td>\n",
       "    </tr>\n",
       "    <tr>\n",
       "      <th>2</th>\n",
       "      <td>CHEMBL25</td>\n",
       "      <td>ASPIRIN</td>\n",
       "      <td>100</td>\n",
       "    </tr>\n",
       "    <tr>\n",
       "      <th>3</th>\n",
       "      <td>CHEMBL3833404</td>\n",
       "      <td>CARBASPIRIN</td>\n",
       "      <td>88.8888895511627197265625</td>\n",
       "    </tr>\n",
       "    <tr>\n",
       "      <th>4</th>\n",
       "      <td>CHEMBL3833325</td>\n",
       "      <td>CARBASPIRIN CALCIUM</td>\n",
       "      <td>88.8888895511627197265625</td>\n",
       "    </tr>\n",
       "    <tr>\n",
       "      <th>5</th>\n",
       "      <td>CHEMBL350343</td>\n",
       "      <td>DIPLOSALSALATE</td>\n",
       "      <td>85.7142865657806396484375</td>\n",
       "    </tr>\n",
       "    <tr>\n",
       "      <th>6</th>\n",
       "      <td>CHEMBL5282669</td>\n",
       "      <td>None</td>\n",
       "      <td>74.0740716457366943359375</td>\n",
       "    </tr>\n",
       "    <tr>\n",
       "      <th>7</th>\n",
       "      <td>CHEMBL4515737</td>\n",
       "      <td>None</td>\n",
       "      <td>70.3703701496124267578125</td>\n",
       "    </tr>\n",
       "    <tr>\n",
       "      <th>8</th>\n",
       "      <td>CHEMBL1451173</td>\n",
       "      <td>DIPYROCETYL</td>\n",
       "      <td>69.9999988079071044921875</td>\n",
       "    </tr>\n",
       "  </tbody>\n",
       "</table>\n",
       "</div>"
      ],
      "text/plain": [
       "  molecule_chembl_id            pref_name                 similarity\n",
       "0      CHEMBL2296002                 None                        100\n",
       "1      CHEMBL1697753    ASPIRIN DL-LYSINE                        100\n",
       "2           CHEMBL25              ASPIRIN                        100\n",
       "3      CHEMBL3833404          CARBASPIRIN  88.8888895511627197265625\n",
       "4      CHEMBL3833325  CARBASPIRIN CALCIUM  88.8888895511627197265625\n",
       "5       CHEMBL350343       DIPLOSALSALATE  85.7142865657806396484375\n",
       "6      CHEMBL5282669                 None  74.0740716457366943359375\n",
       "7      CHEMBL4515737                 None  70.3703701496124267578125\n",
       "8      CHEMBL1451173          DIPYROCETYL  69.9999988079071044921875"
      ]
     },
     "execution_count": 16,
     "metadata": {},
     "output_type": "execute_result"
    }
   ],
   "source": [
    "import pandas as pd\n",
    "similarity = new_client.similarity\n",
    "mols = similarity.filter(smiles=\"CC(=O)Oc1ccccc1C(=O)O\", similarity=70).only(['molecule_chembl_id', 'pref_name', 'similarity'])\n",
    "pd.DataFrame(mols)"
   ]
  },
  {
   "cell_type": "markdown",
   "metadata": {},
   "source": [
    "#### 3.1.7. Find compounds similar to aspirin (CHEMBL25) with similarity > 70%\n",
    "The output here should be the same as the one in section 3.1.6. since `CC(=O)Oc1ccccc1C(=O)O` used in section 3.1.6. is the canonical SMILES of aspirin."
   ]
  },
  {
   "cell_type": "code",
   "execution_count": 17,
   "metadata": {},
   "outputs": [
    {
     "data": {
      "text/html": [
       "<div>\n",
       "<style scoped>\n",
       "    .dataframe tbody tr th:only-of-type {\n",
       "        vertical-align: middle;\n",
       "    }\n",
       "\n",
       "    .dataframe tbody tr th {\n",
       "        vertical-align: top;\n",
       "    }\n",
       "\n",
       "    .dataframe thead th {\n",
       "        text-align: right;\n",
       "    }\n",
       "</style>\n",
       "<table border=\"1\" class=\"dataframe\">\n",
       "  <thead>\n",
       "    <tr style=\"text-align: right;\">\n",
       "      <th></th>\n",
       "      <th>molecule_chembl_id</th>\n",
       "      <th>pref_name</th>\n",
       "      <th>similarity</th>\n",
       "    </tr>\n",
       "  </thead>\n",
       "  <tbody>\n",
       "    <tr>\n",
       "      <th>0</th>\n",
       "      <td>CHEMBL2296002</td>\n",
       "      <td>None</td>\n",
       "      <td>100</td>\n",
       "    </tr>\n",
       "    <tr>\n",
       "      <th>1</th>\n",
       "      <td>CHEMBL1697753</td>\n",
       "      <td>ASPIRIN DL-LYSINE</td>\n",
       "      <td>100</td>\n",
       "    </tr>\n",
       "    <tr>\n",
       "      <th>2</th>\n",
       "      <td>CHEMBL3833404</td>\n",
       "      <td>CARBASPIRIN</td>\n",
       "      <td>88.8888895511627197265625</td>\n",
       "    </tr>\n",
       "    <tr>\n",
       "      <th>3</th>\n",
       "      <td>CHEMBL3833325</td>\n",
       "      <td>CARBASPIRIN CALCIUM</td>\n",
       "      <td>88.8888895511627197265625</td>\n",
       "    </tr>\n",
       "    <tr>\n",
       "      <th>4</th>\n",
       "      <td>CHEMBL350343</td>\n",
       "      <td>DIPLOSALSALATE</td>\n",
       "      <td>85.7142865657806396484375</td>\n",
       "    </tr>\n",
       "    <tr>\n",
       "      <th>5</th>\n",
       "      <td>CHEMBL5282669</td>\n",
       "      <td>None</td>\n",
       "      <td>74.0740716457366943359375</td>\n",
       "    </tr>\n",
       "    <tr>\n",
       "      <th>6</th>\n",
       "      <td>CHEMBL4515737</td>\n",
       "      <td>None</td>\n",
       "      <td>70.3703701496124267578125</td>\n",
       "    </tr>\n",
       "    <tr>\n",
       "      <th>7</th>\n",
       "      <td>CHEMBL1451173</td>\n",
       "      <td>DIPYROCETYL</td>\n",
       "      <td>69.9999988079071044921875</td>\n",
       "    </tr>\n",
       "  </tbody>\n",
       "</table>\n",
       "</div>"
      ],
      "text/plain": [
       "  molecule_chembl_id            pref_name                 similarity\n",
       "0      CHEMBL2296002                 None                        100\n",
       "1      CHEMBL1697753    ASPIRIN DL-LYSINE                        100\n",
       "2      CHEMBL3833404          CARBASPIRIN  88.8888895511627197265625\n",
       "3      CHEMBL3833325  CARBASPIRIN CALCIUM  88.8888895511627197265625\n",
       "4       CHEMBL350343       DIPLOSALSALATE  85.7142865657806396484375\n",
       "5      CHEMBL5282669                 None  74.0740716457366943359375\n",
       "6      CHEMBL4515737                 None  70.3703701496124267578125\n",
       "7      CHEMBL1451173          DIPYROCETYL  69.9999988079071044921875"
      ]
     },
     "execution_count": 17,
     "metadata": {},
     "output_type": "execute_result"
    }
   ],
   "source": [
    "similarity = new_client.similarity\n",
    "mols = similarity.filter(chembl_id='CHEMBL25', similarity=70).only(['molecule_chembl_id', 'pref_name', 'similarity'])\n",
    "pd.DataFrame(mols)"
   ]
  },
  {
   "cell_type": "markdown",
   "metadata": {},
   "source": [
    "#### 3.1.8. Find compounds with the same connectivity"
   ]
  },
  {
   "cell_type": "code",
   "execution_count": 18,
   "metadata": {},
   "outputs": [
    {
     "data": {
      "text/html": [
       "<div>\n",
       "<style scoped>\n",
       "    .dataframe tbody tr th:only-of-type {\n",
       "        vertical-align: middle;\n",
       "    }\n",
       "\n",
       "    .dataframe tbody tr th {\n",
       "        vertical-align: top;\n",
       "    }\n",
       "\n",
       "    .dataframe thead th {\n",
       "        text-align: right;\n",
       "    }\n",
       "</style>\n",
       "<table border=\"1\" class=\"dataframe\">\n",
       "  <thead>\n",
       "    <tr style=\"text-align: right;\">\n",
       "      <th></th>\n",
       "      <th>molecule_chembl_id</th>\n",
       "      <th>pref_name</th>\n",
       "    </tr>\n",
       "  </thead>\n",
       "  <tbody>\n",
       "    <tr>\n",
       "      <th>0</th>\n",
       "      <td>CHEMBL1431</td>\n",
       "      <td>METFORMIN</td>\n",
       "    </tr>\n",
       "    <tr>\n",
       "      <th>1</th>\n",
       "      <td>CHEMBL1703</td>\n",
       "      <td>METFORMIN HYDROCHLORIDE</td>\n",
       "    </tr>\n",
       "    <tr>\n",
       "      <th>2</th>\n",
       "      <td>CHEMBL3094198</td>\n",
       "      <td>None</td>\n",
       "    </tr>\n",
       "  </tbody>\n",
       "</table>\n",
       "</div>"
      ],
      "text/plain": [
       "  molecule_chembl_id                pref_name\n",
       "0         CHEMBL1431                METFORMIN\n",
       "1         CHEMBL1703  METFORMIN HYDROCHLORIDE\n",
       "2      CHEMBL3094198                     None"
      ]
     },
     "execution_count": 18,
     "metadata": {},
     "output_type": "execute_result"
    }
   ],
   "source": [
    "molecule = new_client.molecule\n",
    "mols = molecule.filter(molecule_structures__canonical_smiles__connectivity='CN(C)C(=N)N=C(N)N').only(['molecule_chembl_id', 'pref_name'])\n",
    "pd.DataFrame(mols)"
   ]
  },
  {
   "cell_type": "markdown",
   "metadata": {},
   "source": [
    "#### 3.1.9. Get all compounds with molecular weight < 300 Da\n",
    "- Note the double underscore to access the `mw_freebase` database field is nested within the field `molecule_properties`.\n",
    "- `mw_freebase` refers to the molecular weight of the compound in its freebase form, i.e., without any counterions or salts. On the other hand, the filed `full_mwt` is the molecular weight of the compound including any counterions or salts.\n",
    "- Here, we additionally used `order_by` to sort the results."
   ]
  },
  {
   "cell_type": "code",
   "execution_count": 19,
   "metadata": {},
   "outputs": [
    {
     "name": "stdout",
     "output_type": "stream",
     "text": [
      "Result: 427124 compounds have a molecular weight < 300 Da.\n"
     ]
    }
   ],
   "source": [
    "molecule = new_client.molecule\n",
    "mols = molecule.filter(molecule_properties__mw_freebase__lte=300).order_by('molecule_properties__full_mwt').only(['molecule_chembl_id', 'pref_name', 'full_mwt'])\n",
    "print(f'Result: {len(mols)} compounds have a molecular weight < 300 Da.')"
   ]
  },
  {
   "cell_type": "markdown",
   "metadata": {},
   "source": [
    "#### 3.1.10. Get all biotherapeutic molecules"
   ]
  },
  {
   "cell_type": "code",
   "execution_count": 20,
   "metadata": {},
   "outputs": [
    {
     "name": "stdout",
     "output_type": "stream",
     "text": [
      "Result: There are 23734 biotherapeutic molecules.\n"
     ]
    }
   ],
   "source": [
    "molecule = new_client.molecule\n",
    "biotherapeutics = molecule.filter(biotherapeutic__isnull=False)\n",
    "print(f'Result: There are {len(biotherapeutics)} biotherapeutic molecules.')"
   ]
  },
  {
   "cell_type": "markdown",
   "metadata": {},
   "source": [
    "#### 3.1.11. Get molecules with molecular weight <= 300 AND pref_name ending with nib"
   ]
  },
  {
   "cell_type": "markdown",
   "metadata": {},
   "source": [
    "Note that multiple `filter` conditions can be combined into a list separated by `,`. Equivalently, one can use the filter method multiple times, i.e., `light_molecules = molecule.filter(molecule_properties__mw_freebase__lte=300).filter(pref_name__iendswith=\"nib\") ...`."
   ]
  },
  {
   "cell_type": "code",
   "execution_count": 21,
   "metadata": {},
   "outputs": [
    {
     "data": {
      "text/html": [
       "<div>\n",
       "<style scoped>\n",
       "    .dataframe tbody tr th:only-of-type {\n",
       "        vertical-align: middle;\n",
       "    }\n",
       "\n",
       "    .dataframe tbody tr th {\n",
       "        vertical-align: top;\n",
       "    }\n",
       "\n",
       "    .dataframe thead th {\n",
       "        text-align: right;\n",
       "    }\n",
       "</style>\n",
       "<table border=\"1\" class=\"dataframe\">\n",
       "  <thead>\n",
       "    <tr style=\"text-align: right;\">\n",
       "      <th></th>\n",
       "      <th>molecule_chembl_id</th>\n",
       "      <th>pref_name</th>\n",
       "    </tr>\n",
       "  </thead>\n",
       "  <tbody>\n",
       "    <tr>\n",
       "      <th>0</th>\n",
       "      <td>CHEMBL276711</td>\n",
       "      <td>SEMAXANIB</td>\n",
       "    </tr>\n",
       "    <tr>\n",
       "      <th>1</th>\n",
       "      <td>CHEMBL4085457</td>\n",
       "      <td>RITLECITINIB</td>\n",
       "    </tr>\n",
       "    <tr>\n",
       "      <th>2</th>\n",
       "      <td>CHEMBL4594348</td>\n",
       "      <td>ELSUBRUTINIB</td>\n",
       "    </tr>\n",
       "  </tbody>\n",
       "</table>\n",
       "</div>"
      ],
      "text/plain": [
       "  molecule_chembl_id     pref_name\n",
       "0       CHEMBL276711     SEMAXANIB\n",
       "1      CHEMBL4085457  RITLECITINIB\n",
       "2      CHEMBL4594348  ELSUBRUTINIB"
      ]
     },
     "execution_count": 21,
     "metadata": {},
     "output_type": "execute_result"
    }
   ],
   "source": [
    "molecule = new_client.molecule\n",
    "light_nib_molecules = molecule.filter(molecule_properties__mw_freebase__lte=300, pref_name__iendswith=\"nib\").only(['molecule_chembl_id', 'pref_name'])\n",
    "pd.DataFrame(light_nib_molecules)"
   ]
  },
  {
   "cell_type": "markdown",
   "metadata": {},
   "source": [
    "#### 3.1.12. Get all molecules in ChEMBL with no Rule-of-Five violations\n",
    "`num_ro5_violations` is the number of Lipinski's Rule of Five violations for the compound. Lipinski's Rule of Five is a rule of thumb used to evaluate the drug-likeness of a compound based on its physicochemical properties. A compound is considered more likely to be orally bioavailable if it has fewer than two violations of Lipinski's Rule of Five. The rule states that a compound is more likely to be orally bioavailable if it satisfies the following criteria. Note that all numbers are multiples of five, which is the origin of the rule's name.\n",
    "  - A molecular mass less than 500 daltons\n",
    "  - A calculated octanol-water partition coefficient (Clog P) that does not exceed 5\n",
    "  - No more than 5 hydrogen bond donors (the total number of nitrogen–hydrogen and oxygen–hydrogen bonds)\n",
    "  - No more than 10 hydrogen bond acceptors (all nitrogen or oxygen atoms)"
   ]
  },
  {
   "cell_type": "code",
   "execution_count": 22,
   "metadata": {},
   "outputs": [
    {
     "name": "stdout",
     "output_type": "stream",
     "text": [
      "Result: There are {len(no_violations)} compounds that do not violate any Lipinski's Rule of Five\n"
     ]
    }
   ],
   "source": [
    "no_violations = molecule.filter(molecule_properties__num_ro5_violations=0)\n",
    "print(\"Result: There are {len(no_violations)} compounds that do not violate any Lipinski's Rule of Five\")"
   ]
  },
  {
   "cell_type": "markdown",
   "metadata": {},
   "source": [
    "#### 3.1.13. Showing the structure of a molecule using the `image` endpoint"
   ]
  },
  {
   "cell_type": "code",
   "execution_count": 23,
   "metadata": {},
   "outputs": [
    {
     "data": {
      "image/svg+xml": [
       "<svg xmlns=\"http://www.w3.org/2000/svg\" xmlns:rdkit=\"http://www.rdkit.org/xml\" xmlns:xlink=\"http://www.w3.org/1999/xlink\" version=\"1.1\" baseProfile=\"full\" xml:space=\"preserve\" width=\"500px\" height=\"500px\" viewBox=\"0 0 500 500\">\n",
       "<!-- END OF HEADER -->\n",
       "<path class=\"bond-0 atom-0 atom-1\" d=\"M 41.9,282.0 L 41.7,381.7\" style=\"fill:none;fill-rule:evenodd;stroke:#000000;stroke-width:2.0px;stroke-linecap:butt;stroke-linejoin:miter;stroke-opacity:1\"/>\n",
       "<path class=\"bond-0 atom-0 atom-1\" d=\"M 56.8,290.6 L 56.6,373.1\" style=\"fill:none;fill-rule:evenodd;stroke:#000000;stroke-width:2.0px;stroke-linecap:butt;stroke-linejoin:miter;stroke-opacity:1\"/>\n",
       "<path class=\"bond-1 atom-1 atom-2\" d=\"M 41.7,381.7 L 127.8,431.4\" style=\"fill:none;fill-rule:evenodd;stroke:#000000;stroke-width:2.0px;stroke-linecap:butt;stroke-linejoin:miter;stroke-opacity:1\"/>\n",
       "<path class=\"bond-2 atom-2 atom-3\" d=\"M 127.8,431.4 L 214.2,381.6\" style=\"fill:none;fill-rule:evenodd;stroke:#000000;stroke-width:2.0px;stroke-linecap:butt;stroke-linejoin:miter;stroke-opacity:1\"/>\n",
       "<path class=\"bond-2 atom-2 atom-3\" d=\"M 127.8,414.2 L 199.2,373.0\" style=\"fill:none;fill-rule:evenodd;stroke:#000000;stroke-width:2.0px;stroke-linecap:butt;stroke-linejoin:miter;stroke-opacity:1\"/>\n",
       "<path class=\"bond-3 atom-3 atom-4\" d=\"M 214.2,381.6 L 213.8,281.6\" style=\"fill:none;fill-rule:evenodd;stroke:#000000;stroke-width:2.0px;stroke-linecap:butt;stroke-linejoin:miter;stroke-opacity:1\"/>\n",
       "<path class=\"bond-4 atom-4 atom-5\" d=\"M 213.8,281.6 L 127.6,232.3\" style=\"fill:none;fill-rule:evenodd;stroke:#000000;stroke-width:2.0px;stroke-linecap:butt;stroke-linejoin:miter;stroke-opacity:1\"/>\n",
       "<path class=\"bond-4 atom-4 atom-5\" d=\"M 198.9,290.2 L 127.7,249.5\" style=\"fill:none;fill-rule:evenodd;stroke:#000000;stroke-width:2.0px;stroke-linecap:butt;stroke-linejoin:miter;stroke-opacity:1\"/>\n",
       "<path class=\"bond-5 atom-5 atom-0\" d=\"M 127.6,232.3 L 41.9,282.0\" style=\"fill:none;fill-rule:evenodd;stroke:#000000;stroke-width:2.0px;stroke-linecap:butt;stroke-linejoin:miter;stroke-opacity:1\"/>\n",
       "<path class=\"bond-6 atom-5 atom-6\" d=\"M 127.6,232.3 L 127.3,132.8\" style=\"fill:none;fill-rule:evenodd;stroke:#000000;stroke-width:2.0px;stroke-linecap:butt;stroke-linejoin:miter;stroke-opacity:1\"/>\n",
       "<path class=\"bond-7 atom-6 atom-7\" d=\"M 127.3,132.8 L 162.2,112.6\" style=\"fill:none;fill-rule:evenodd;stroke:#000000;stroke-width:2.0px;stroke-linecap:butt;stroke-linejoin:miter;stroke-opacity:1\"/>\n",
       "<path class=\"bond-7 atom-6 atom-7\" d=\"M 162.2,112.6 L 197.0,92.3\" style=\"fill:none;fill-rule:evenodd;stroke:#FF0000;stroke-width:2.0px;stroke-linecap:butt;stroke-linejoin:miter;stroke-opacity:1\"/>\n",
       "<path class=\"bond-8 atom-6 atom-8\" d=\"M 134.8,128.5 L 97.9,107.4\" style=\"fill:none;fill-rule:evenodd;stroke:#000000;stroke-width:2.0px;stroke-linecap:butt;stroke-linejoin:miter;stroke-opacity:1\"/>\n",
       "<path class=\"bond-8 atom-6 atom-8\" d=\"M 97.9,107.4 L 61.1,86.3\" style=\"fill:none;fill-rule:evenodd;stroke:#FF0000;stroke-width:2.0px;stroke-linecap:butt;stroke-linejoin:miter;stroke-opacity:1\"/>\n",
       "<path class=\"bond-8 atom-6 atom-8\" d=\"M 127.3,141.5 L 90.5,120.3\" style=\"fill:none;fill-rule:evenodd;stroke:#000000;stroke-width:2.0px;stroke-linecap:butt;stroke-linejoin:miter;stroke-opacity:1\"/>\n",
       "<path class=\"bond-8 atom-6 atom-8\" d=\"M 90.5,120.3 L 53.7,99.2\" style=\"fill:none;fill-rule:evenodd;stroke:#FF0000;stroke-width:2.0px;stroke-linecap:butt;stroke-linejoin:miter;stroke-opacity:1\"/>\n",
       "<path class=\"bond-9 atom-4 atom-9\" d=\"M 213.8,281.6 L 248.6,261.3\" style=\"fill:none;fill-rule:evenodd;stroke:#000000;stroke-width:2.0px;stroke-linecap:butt;stroke-linejoin:miter;stroke-opacity:1\"/>\n",
       "<path class=\"bond-9 atom-4 atom-9\" d=\"M 248.6,261.3 L 283.4,241.0\" style=\"fill:none;fill-rule:evenodd;stroke:#FF0000;stroke-width:2.0px;stroke-linecap:butt;stroke-linejoin:miter;stroke-opacity:1\"/>\n",
       "<path class=\"bond-10 atom-9 atom-10\" d=\"M 316.0,240.8 L 351.0,260.9\" style=\"fill:none;fill-rule:evenodd;stroke:#FF0000;stroke-width:2.0px;stroke-linecap:butt;stroke-linejoin:miter;stroke-opacity:1\"/>\n",
       "<path class=\"bond-10 atom-9 atom-10\" d=\"M 351.0,260.9 L 386.0,280.9\" style=\"fill:none;fill-rule:evenodd;stroke:#000000;stroke-width:2.0px;stroke-linecap:butt;stroke-linejoin:miter;stroke-opacity:1\"/>\n",
       "<path class=\"bond-11 atom-10 atom-11\" d=\"M 386.0,280.9 L 471.9,230.9\" style=\"fill:none;fill-rule:evenodd;stroke:#000000;stroke-width:2.0px;stroke-linecap:butt;stroke-linejoin:miter;stroke-opacity:1\"/>\n",
       "<path class=\"bond-12 atom-10 atom-12\" d=\"M 378.5,276.6 L 378.7,319.7\" style=\"fill:none;fill-rule:evenodd;stroke:#000000;stroke-width:2.0px;stroke-linecap:butt;stroke-linejoin:miter;stroke-opacity:1\"/>\n",
       "<path class=\"bond-12 atom-10 atom-12\" d=\"M 378.7,319.7 L 378.9,362.7\" style=\"fill:none;fill-rule:evenodd;stroke:#FF0000;stroke-width:2.0px;stroke-linecap:butt;stroke-linejoin:miter;stroke-opacity:1\"/>\n",
       "<path class=\"bond-12 atom-10 atom-12\" d=\"M 393.4,276.6 L 393.6,319.6\" style=\"fill:none;fill-rule:evenodd;stroke:#000000;stroke-width:2.0px;stroke-linecap:butt;stroke-linejoin:miter;stroke-opacity:1\"/>\n",
       "<path class=\"bond-12 atom-10 atom-12\" d=\"M 393.6,319.6 L 393.8,362.7\" style=\"fill:none;fill-rule:evenodd;stroke:#FF0000;stroke-width:2.0px;stroke-linecap:butt;stroke-linejoin:miter;stroke-opacity:1\"/>\n",
       "<path d=\"M 41.8,287.0 L 41.9,282.0 L 46.1,279.5\" style=\"fill:none;stroke:#000000;stroke-width:2.0px;stroke-linecap:butt;stroke-linejoin:miter;stroke-opacity:1;\"/>\n",
       "<path d=\"M 41.7,376.7 L 41.7,381.7 L 46.0,384.2\" style=\"fill:none;stroke:#000000;stroke-width:2.0px;stroke-linecap:butt;stroke-linejoin:miter;stroke-opacity:1;\"/>\n",
       "<path d=\"M 123.5,428.9 L 127.8,431.4 L 132.2,428.9\" style=\"fill:none;stroke:#000000;stroke-width:2.0px;stroke-linecap:butt;stroke-linejoin:miter;stroke-opacity:1;\"/>\n",
       "<path d=\"M 209.9,384.1 L 214.2,381.6 L 214.1,376.6\" style=\"fill:none;stroke:#000000;stroke-width:2.0px;stroke-linecap:butt;stroke-linejoin:miter;stroke-opacity:1;\"/>\n",
       "<path d=\"M 127.3,137.8 L 127.3,132.8 L 129.1,131.8\" style=\"fill:none;stroke:#000000;stroke-width:2.0px;stroke-linecap:butt;stroke-linejoin:miter;stroke-opacity:1;\"/>\n",
       "<path d=\"M 384.3,279.9 L 386.0,280.9 L 390.3,278.4\" style=\"fill:none;stroke:#000000;stroke-width:2.0px;stroke-linecap:butt;stroke-linejoin:miter;stroke-opacity:1;\"/>\n",
       "<path class=\"atom-7\" d=\"M 200.3 83.0 Q 200.3 76.2, 203.6 72.4 Q 207.0 68.6, 213.3 68.6 Q 219.5 68.6, 222.9 72.4 Q 226.3 76.2, 226.3 83.0 Q 226.3 89.8, 222.9 93.8 Q 219.5 97.6, 213.3 97.6 Q 207.0 97.6, 203.6 93.8 Q 200.3 89.9, 200.3 83.0 M 213.3 94.4 Q 217.6 94.4, 219.9 91.6 Q 222.3 88.6, 222.3 83.0 Q 222.3 77.4, 219.9 74.6 Q 217.6 71.8, 213.3 71.8 Q 208.9 71.8, 206.6 74.6 Q 204.3 77.4, 204.3 83.0 Q 204.3 88.7, 206.6 91.6 Q 208.9 94.4, 213.3 94.4 \" fill=\"#FF0000\"/>\n",
       "<path class=\"atom-7\" d=\"M 230.7 68.9 L 234.5 68.9 L 234.5 80.9 L 249.0 80.9 L 249.0 68.9 L 252.8 68.9 L 252.8 97.2 L 249.0 97.2 L 249.0 84.1 L 234.5 84.1 L 234.5 97.2 L 230.7 97.2 L 230.7 68.9 \" fill=\"#FF0000\"/>\n",
       "<path class=\"atom-8\" d=\"M 28.1 83.5 Q 28.1 76.7, 31.4 72.9 Q 34.8 69.1, 41.1 69.1 Q 47.4 69.1, 50.7 72.9 Q 54.1 76.7, 54.1 83.5 Q 54.1 90.4, 50.7 94.3 Q 47.3 98.2, 41.1 98.2 Q 34.8 98.2, 31.4 94.3 Q 28.1 90.4, 28.1 83.5 M 41.1 95.0 Q 45.4 95.0, 47.7 92.1 Q 50.1 89.2, 50.1 83.5 Q 50.1 77.9, 47.7 75.1 Q 45.4 72.3, 41.1 72.3 Q 36.8 72.3, 34.4 75.1 Q 32.1 77.9, 32.1 83.5 Q 32.1 89.2, 34.4 92.1 Q 36.8 95.0, 41.1 95.0 \" fill=\"#FF0000\"/>\n",
       "<path class=\"atom-9\" d=\"M 286.7 231.6 Q 286.7 224.8, 290.1 221.0 Q 293.4 217.2, 299.7 217.2 Q 306.0 217.2, 309.4 221.0 Q 312.7 224.8, 312.7 231.6 Q 312.7 238.5, 309.3 242.4 Q 305.9 246.3, 299.7 246.3 Q 293.5 246.3, 290.1 242.4 Q 286.7 238.5, 286.7 231.6 M 299.7 243.1 Q 304.0 243.1, 306.4 240.2 Q 308.7 237.3, 308.7 231.6 Q 308.7 226.0, 306.4 223.2 Q 304.0 220.4, 299.7 220.4 Q 295.4 220.4, 293.0 223.2 Q 290.7 226.0, 290.7 231.6 Q 290.7 237.3, 293.0 240.2 Q 295.4 243.1, 299.7 243.1 \" fill=\"#FF0000\"/>\n",
       "<path class=\"atom-12\" d=\"M 373.4 380.4 Q 373.4 373.6, 376.7 369.8 Q 380.1 366.0, 386.4 366.0 Q 392.7 366.0, 396.0 369.8 Q 399.4 373.6, 399.4 380.4 Q 399.4 387.3, 396.0 391.2 Q 392.6 395.1, 386.4 395.1 Q 380.1 395.1, 376.7 391.2 Q 373.4 387.3, 373.4 380.4 M 386.4 391.9 Q 390.7 391.9, 393.0 389.0 Q 395.4 386.1, 395.4 380.4 Q 395.4 374.8, 393.0 372.0 Q 390.7 369.2, 386.4 369.2 Q 382.1 369.2, 379.7 372.0 Q 377.4 374.8, 377.4 380.4 Q 377.4 386.1, 379.7 389.0 Q 382.1 391.9, 386.4 391.9 \" fill=\"#FF0000\"/>\n",
       "</svg>"
      ],
      "text/plain": [
       "<IPython.core.display.SVG object>"
      ]
     },
     "execution_count": 23,
     "metadata": {},
     "output_type": "execute_result"
    }
   ],
   "source": [
    "from IPython.display import SVG\n",
    "image = new_client.image\n",
    "image.set_format('svg')\n",
    "SVG(image.get('CHEMBL25'))"
   ]
  },
  {
   "cell_type": "markdown",
   "metadata": {},
   "source": [
    "### 3.2. Drugs\n",
    "- By contrast to compounds, marketed drugs and clinical candidates in ChEMBL normally have curated information for their synonyms, disease indication, mechanism of action, safety warnings etc, and do not necessarily have to have associated measured bioactivity data.\n",
    "- Clinical candidates are drugs that are progressing through Phases 1, 2 and 3 of the drug discovery pipeline, while approved drugs are considered to be Phase 4 (i.e., `max_phase=4`). Check [this page](https://chembl.gitbook.io/chembl-interface-documentation/frequently-asked-questions/drug-and-compound-questions#what-is-max-phase) for more information.\n",
    "- Note that the data in the drugs API endpoint is aggregated onto the parent drug form within each compound family."
   ]
  },
  {
   "cell_type": "markdown",
   "metadata": {},
   "source": [
    "#### 3.2.1. Filter drugs by approval year and name\n",
    "`usan_stem` is the United States Adopted Name (USAN) stem of the compound. The USAN is a unique name assigned to a compound by the United States Adopted Names Council. The USAN stem is the common part of the USAN name shared by a group of related compounds."
   ]
  },
  {
   "cell_type": "code",
   "execution_count": 24,
   "metadata": {},
   "outputs": [
    {
     "data": {
      "text/html": [
       "<div>\n",
       "<style scoped>\n",
       "    .dataframe tbody tr th:only-of-type {\n",
       "        vertical-align: middle;\n",
       "    }\n",
       "\n",
       "    .dataframe tbody tr th {\n",
       "        vertical-align: top;\n",
       "    }\n",
       "\n",
       "    .dataframe thead th {\n",
       "        text-align: right;\n",
       "    }\n",
       "</style>\n",
       "<table border=\"1\" class=\"dataframe\">\n",
       "  <thead>\n",
       "    <tr style=\"text-align: right;\">\n",
       "      <th></th>\n",
       "      <th>applicants</th>\n",
       "      <th>atc_code_description</th>\n",
       "      <th>molecule_chembl_id</th>\n",
       "      <th>research_codes</th>\n",
       "      <th>synonyms</th>\n",
       "      <th>usan_stem</th>\n",
       "      <th>usan_stem_definition</th>\n",
       "    </tr>\n",
       "  </thead>\n",
       "  <tbody>\n",
       "    <tr>\n",
       "      <th>0</th>\n",
       "      <td>None</td>\n",
       "      <td>None</td>\n",
       "      <td>CHEMBL611</td>\n",
       "      <td>None</td>\n",
       "      <td>None</td>\n",
       "      <td>-azosin</td>\n",
       "      <td>antihypertensives (prazosin type)</td>\n",
       "    </tr>\n",
       "    <tr>\n",
       "      <th>1</th>\n",
       "      <td>None</td>\n",
       "      <td>None</td>\n",
       "      <td>CHEMBL707</td>\n",
       "      <td>None</td>\n",
       "      <td>None</td>\n",
       "      <td>-azosin</td>\n",
       "      <td>antihypertensives (prazosin type)</td>\n",
       "    </tr>\n",
       "  </tbody>\n",
       "</table>\n",
       "</div>"
      ],
      "text/plain": [
       "  applicants atc_code_description molecule_chembl_id research_codes synonyms  \\\n",
       "0       None                 None          CHEMBL611           None     None   \n",
       "1       None                 None          CHEMBL707           None     None   \n",
       "\n",
       "  usan_stem               usan_stem_definition  \n",
       "0   -azosin  antihypertensives (prazosin type)  \n",
       "1   -azosin  antihypertensives (prazosin type)  "
      ]
     },
     "execution_count": 24,
     "metadata": {},
     "output_type": "execute_result"
    }
   ],
   "source": [
    "drug = new_client.drug\n",
    "drugs = drug.filter(first_approval__gte=1980).filter(usan_stem=\"-azosin\").only(['development_phase', 'molecule_chembl_id', 'usan_stem_definition'])\n",
    "pd.DataFrame(drugs)"
   ]
  },
  {
   "cell_type": "markdown",
   "metadata": {},
   "source": [
    "#### 3.2.2. Find compounds that have been recently approved as marketed drugs and are immunosupressants\n",
    "Here we use the `molecule` endpoint to find compounds (an alternative would be to use the `drugs` endpoint). The `atc_classifications__level2` field refers to the Anatomical Therapeutic Chemical (ATC) classification system, which is used for the classification of drugs. The ATC system divide drugs into different groups according to the organ or system on which they act and their therapeutic, pharmacological, and chemical properties. The ATC classification system is hierarchical and contains of five levels:\n",
    "  - Level 1: Indicates the anatomical main group (e.g., A for Alimentary tract and metabolism).\n",
    "  - Level 2: Indicates the therapeutic main group (e.g., L04 for Immunosuppressants).\n",
    "  - Level 3: Indicates the pharmacological subgroup.\n",
    "  - Level 4: Indicates the chemical subgroup.\n",
    "  - Level 5: Indicates the chemical substance."
   ]
  },
  {
   "cell_type": "code",
   "execution_count": 25,
   "metadata": {},
   "outputs": [
    {
     "data": {
      "text/html": [
       "<div>\n",
       "<style scoped>\n",
       "    .dataframe tbody tr th:only-of-type {\n",
       "        vertical-align: middle;\n",
       "    }\n",
       "\n",
       "    .dataframe tbody tr th {\n",
       "        vertical-align: top;\n",
       "    }\n",
       "\n",
       "    .dataframe thead th {\n",
       "        text-align: right;\n",
       "    }\n",
       "</style>\n",
       "<table border=\"1\" class=\"dataframe\">\n",
       "  <thead>\n",
       "    <tr style=\"text-align: right;\">\n",
       "      <th></th>\n",
       "      <th>atc_classifications</th>\n",
       "      <th>first_approval</th>\n",
       "      <th>molecule_chembl_id</th>\n",
       "      <th>molecule_type</th>\n",
       "      <th>pref_name</th>\n",
       "    </tr>\n",
       "  </thead>\n",
       "  <tbody>\n",
       "    <tr>\n",
       "      <th>0</th>\n",
       "      <td>[L04AA53]</td>\n",
       "      <td>2020</td>\n",
       "      <td>CHEMBL1743079</td>\n",
       "      <td>Antibody</td>\n",
       "      <td>TEPROTUMUMAB</td>\n",
       "    </tr>\n",
       "    <tr>\n",
       "      <th>1</th>\n",
       "      <td>[L04AA47]</td>\n",
       "      <td>2020</td>\n",
       "      <td>CHEMBL2109334</td>\n",
       "      <td>Antibody</td>\n",
       "      <td>INEBILIZUMAB</td>\n",
       "    </tr>\n",
       "    <tr>\n",
       "      <th>2</th>\n",
       "      <td>[L04AA45]</td>\n",
       "      <td>2020</td>\n",
       "      <td>CHEMBL3301607</td>\n",
       "      <td>Small molecule</td>\n",
       "      <td>FILGOTINIB</td>\n",
       "    </tr>\n",
       "    <tr>\n",
       "      <th>3</th>\n",
       "      <td>[L04AA38]</td>\n",
       "      <td>2020</td>\n",
       "      <td>CHEMBL3707247</td>\n",
       "      <td>Small molecule</td>\n",
       "      <td>OZANIMOD</td>\n",
       "    </tr>\n",
       "    <tr>\n",
       "      <th>4</th>\n",
       "      <td>[L04AC19]</td>\n",
       "      <td>2020</td>\n",
       "      <td>CHEMBL3833307</td>\n",
       "      <td>Antibody</td>\n",
       "      <td>SATRALIZUMAB</td>\n",
       "    </tr>\n",
       "    <tr>\n",
       "      <th>5</th>\n",
       "      <td>[L04AA41]</td>\n",
       "      <td>2020</td>\n",
       "      <td>CHEMBL4297981</td>\n",
       "      <td>Enzyme</td>\n",
       "      <td>IMLIFIDASE</td>\n",
       "    </tr>\n",
       "    <tr>\n",
       "      <th>6</th>\n",
       "      <td>[L04AA50]</td>\n",
       "      <td>2021</td>\n",
       "      <td>CHEMBL1096146</td>\n",
       "      <td>Small molecule</td>\n",
       "      <td>PONESIMOD</td>\n",
       "    </tr>\n",
       "    <tr>\n",
       "      <th>7</th>\n",
       "      <td>[L04AA48]</td>\n",
       "      <td>2021</td>\n",
       "      <td>CHEMBL2005186</td>\n",
       "      <td>Small molecule</td>\n",
       "      <td>BELUMOSUDIL</td>\n",
       "    </tr>\n",
       "    <tr>\n",
       "      <th>8</th>\n",
       "      <td>[L04AA51]</td>\n",
       "      <td>2021</td>\n",
       "      <td>CHEMBL2364653</td>\n",
       "      <td>Antibody</td>\n",
       "      <td>ANIFROLUMAB</td>\n",
       "    </tr>\n",
       "    <tr>\n",
       "      <th>9</th>\n",
       "      <td>[L04AA59]</td>\n",
       "      <td>2021</td>\n",
       "      <td>CHEMBL3989871</td>\n",
       "      <td>Small molecule</td>\n",
       "      <td>AVACOPAN</td>\n",
       "    </tr>\n",
       "    <tr>\n",
       "      <th>10</th>\n",
       "      <td>[L04AA58]</td>\n",
       "      <td>2021</td>\n",
       "      <td>CHEMBL4297551</td>\n",
       "      <td>Protein</td>\n",
       "      <td>EFGARTIGIMOD ALFA</td>\n",
       "    </tr>\n",
       "    <tr>\n",
       "      <th>11</th>\n",
       "      <td>[L04AC21]</td>\n",
       "      <td>2021</td>\n",
       "      <td>CHEMBL4297700</td>\n",
       "      <td>Antibody</td>\n",
       "      <td>BIMEKIZUMAB</td>\n",
       "    </tr>\n",
       "    <tr>\n",
       "      <th>12</th>\n",
       "      <td>[L04AA54]</td>\n",
       "      <td>2021</td>\n",
       "      <td>CHEMBL4298211</td>\n",
       "      <td>Protein</td>\n",
       "      <td>PEGCETACOPLAN</td>\n",
       "    </tr>\n",
       "    <tr>\n",
       "      <th>13</th>\n",
       "      <td>[L04AD03]</td>\n",
       "      <td>2021</td>\n",
       "      <td>CHEMBL5314379</td>\n",
       "      <td>Protein</td>\n",
       "      <td>VOCLOSPORIN</td>\n",
       "    </tr>\n",
       "    <tr>\n",
       "      <th>14</th>\n",
       "      <td>[L04AA57]</td>\n",
       "      <td>2022</td>\n",
       "      <td>CHEMBL2108354</td>\n",
       "      <td>Antibody</td>\n",
       "      <td>UBLITUXIMAB</td>\n",
       "    </tr>\n",
       "    <tr>\n",
       "      <th>15</th>\n",
       "      <td>[L04AA55]</td>\n",
       "      <td>2022</td>\n",
       "      <td>CHEMBL4297832</td>\n",
       "      <td>Antibody</td>\n",
       "      <td>SUTIMLIMAB</td>\n",
       "    </tr>\n",
       "    <tr>\n",
       "      <th>16</th>\n",
       "      <td>[L04AC22]</td>\n",
       "      <td>2022</td>\n",
       "      <td>CHEMBL4297911</td>\n",
       "      <td>Antibody</td>\n",
       "      <td>SPESOLIMAB</td>\n",
       "    </tr>\n",
       "    <tr>\n",
       "      <th>17</th>\n",
       "      <td>[L04AA56]</td>\n",
       "      <td>2022</td>\n",
       "      <td>CHEMBL4596392</td>\n",
       "      <td>Small molecule</td>\n",
       "      <td>CRAVACITINIB</td>\n",
       "    </tr>\n",
       "  </tbody>\n",
       "</table>\n",
       "</div>"
      ],
      "text/plain": [
       "   atc_classifications  first_approval molecule_chembl_id   molecule_type  \\\n",
       "0            [L04AA53]            2020      CHEMBL1743079        Antibody   \n",
       "1            [L04AA47]            2020      CHEMBL2109334        Antibody   \n",
       "2            [L04AA45]            2020      CHEMBL3301607  Small molecule   \n",
       "3            [L04AA38]            2020      CHEMBL3707247  Small molecule   \n",
       "4            [L04AC19]            2020      CHEMBL3833307        Antibody   \n",
       "5            [L04AA41]            2020      CHEMBL4297981          Enzyme   \n",
       "6            [L04AA50]            2021      CHEMBL1096146  Small molecule   \n",
       "7            [L04AA48]            2021      CHEMBL2005186  Small molecule   \n",
       "8            [L04AA51]            2021      CHEMBL2364653        Antibody   \n",
       "9            [L04AA59]            2021      CHEMBL3989871  Small molecule   \n",
       "10           [L04AA58]            2021      CHEMBL4297551         Protein   \n",
       "11           [L04AC21]            2021      CHEMBL4297700        Antibody   \n",
       "12           [L04AA54]            2021      CHEMBL4298211         Protein   \n",
       "13           [L04AD03]            2021      CHEMBL5314379         Protein   \n",
       "14           [L04AA57]            2022      CHEMBL2108354        Antibody   \n",
       "15           [L04AA55]            2022      CHEMBL4297832        Antibody   \n",
       "16           [L04AC22]            2022      CHEMBL4297911        Antibody   \n",
       "17           [L04AA56]            2022      CHEMBL4596392  Small molecule   \n",
       "\n",
       "            pref_name  \n",
       "0        TEPROTUMUMAB  \n",
       "1        INEBILIZUMAB  \n",
       "2          FILGOTINIB  \n",
       "3            OZANIMOD  \n",
       "4        SATRALIZUMAB  \n",
       "5          IMLIFIDASE  \n",
       "6           PONESIMOD  \n",
       "7         BELUMOSUDIL  \n",
       "8         ANIFROLUMAB  \n",
       "9            AVACOPAN  \n",
       "10  EFGARTIGIMOD ALFA  \n",
       "11        BIMEKIZUMAB  \n",
       "12      PEGCETACOPLAN  \n",
       "13        VOCLOSPORIN  \n",
       "14        UBLITUXIMAB  \n",
       "15         SUTIMLIMAB  \n",
       "16         SPESOLIMAB  \n",
       "17       CRAVACITINIB  "
      ]
     },
     "execution_count": 25,
     "metadata": {},
     "output_type": "execute_result"
    }
   ],
   "source": [
    "approved_drugs = molecule.filter(max_phase=4,  # approved drugs only\n",
    "                                atc_classifications__level2='L04',  # ATC classification as Immunosupressants\n",
    "                                first_approval__gte=2020,  # first_approval after 2020\n",
    "                                ).order_by('first_approval').only(['atc_classifications', 'first_approval', 'pref_name', 'molecule_type', 'molecule_chembl_id'])\n",
    "pd.DataFrame(approved_drugs)"
   ]
  },
  {
   "cell_type": "markdown",
   "metadata": {},
   "source": [
    "#### 3.2.3. Get Phase 3 clinical candidates for lung cancer, and examine their molecular properties\n",
    "- First, we use the `drug_indication` API endpoint, specifying `max_phase_for_ind` to be 3 (i.e., clinical candidates in Phase 3 progressing through the drug discovery pipeline for lung cancer).\n",
    "- Then, we feed the results into the `molecule` API endpoint to extract their molecular properties.\n",
    "- `efo_term__icontains` means that the value of the key `'efo_term'` in the `efo_info` dictionary should contain a certain substring in a case-insensitive manner. The `efo_info` field is a dictionary containing information about the Experimental Factor Ontology (EFO) term associated with the compound. For more information about EFO, please visit this [page](https://www.ebi.ac.uk/efo/faq.html#queryingefo).\n",
    "- Notably, `max_phase` works with the `molecule` endpoint, while `max_phase_for_ind` works with the `drug_indication` endpoint."
   ]
  },
  {
   "cell_type": "code",
   "execution_count": 26,
   "metadata": {},
   "outputs": [
    {
     "data": {
      "text/html": [
       "<div>\n",
       "<style scoped>\n",
       "    .dataframe tbody tr th:only-of-type {\n",
       "        vertical-align: middle;\n",
       "    }\n",
       "\n",
       "    .dataframe tbody tr th {\n",
       "        vertical-align: top;\n",
       "    }\n",
       "\n",
       "    .dataframe thead th {\n",
       "        text-align: right;\n",
       "    }\n",
       "</style>\n",
       "<table border=\"1\" class=\"dataframe\">\n",
       "  <thead>\n",
       "    <tr style=\"text-align: right;\">\n",
       "      <th></th>\n",
       "      <th>molecule_chembl_id</th>\n",
       "      <th>molecule_properties</th>\n",
       "    </tr>\n",
       "  </thead>\n",
       "  <tbody>\n",
       "    <tr>\n",
       "      <th>0</th>\n",
       "      <td>CHEMBL25</td>\n",
       "      <td>{'alogp': '1.31', 'aromatic_rings': 1, 'cx_log...</td>\n",
       "    </tr>\n",
       "    <tr>\n",
       "      <th>1</th>\n",
       "      <td>CHEMBL38</td>\n",
       "      <td>{'alogp': '5.60', 'aromatic_rings': 0, 'cx_log...</td>\n",
       "    </tr>\n",
       "    <tr>\n",
       "      <th>2</th>\n",
       "      <td>CHEMBL45</td>\n",
       "      <td>{'alogp': '1.86', 'aromatic_rings': 2, 'cx_log...</td>\n",
       "    </tr>\n",
       "    <tr>\n",
       "      <th>3</th>\n",
       "      <td>CHEMBL481</td>\n",
       "      <td>{'alogp': '4.09', 'aromatic_rings': 3, 'cx_log...</td>\n",
       "    </tr>\n",
       "    <tr>\n",
       "      <th>4</th>\n",
       "      <td>CHEMBL84</td>\n",
       "      <td>{'alogp': '1.85', 'aromatic_rings': 3, 'cx_log...</td>\n",
       "    </tr>\n",
       "  </tbody>\n",
       "</table>\n",
       "</div>"
      ],
      "text/plain": [
       "  molecule_chembl_id                                molecule_properties\n",
       "0           CHEMBL25  {'alogp': '1.31', 'aromatic_rings': 1, 'cx_log...\n",
       "1           CHEMBL38  {'alogp': '5.60', 'aromatic_rings': 0, 'cx_log...\n",
       "2           CHEMBL45  {'alogp': '1.86', 'aromatic_rings': 2, 'cx_log...\n",
       "3          CHEMBL481  {'alogp': '4.09', 'aromatic_rings': 3, 'cx_log...\n",
       "4           CHEMBL84  {'alogp': '1.85', 'aromatic_rings': 3, 'cx_log..."
      ]
     },
     "execution_count": 26,
     "metadata": {},
     "output_type": "execute_result"
    }
   ],
   "source": [
    "drug_indication = new_client.drug_indication\n",
    "molecules = new_client.molecule\n",
    "\n",
    "lung_cancer_ind = drug_indication.filter(efo_term__icontains=\"LUNG CARCINOMA\", max_phase_for_ind = 3)\n",
    "lung_cancer_phase3 = molecules.filter(molecule_chembl_id__in=[x['molecule_chembl_id'] for x in lung_cancer_ind]).only(['molecule_chembl_id','molecule_properties'])\n",
    "lung_cancer_phase3 = pd.DataFrame(lung_cancer_phase3)\n",
    "lung_cancer_phase3.head()"
   ]
  },
  {
   "cell_type": "markdown",
   "metadata": {},
   "source": [
    "Here we add a new column `mw_freebase` to `lung_cancer_phase3.head()`, where the data is taken from the nested field `molecule_properties`."
   ]
  },
  {
   "cell_type": "code",
   "execution_count": 27,
   "metadata": {},
   "outputs": [
    {
     "data": {
      "text/html": [
       "<div>\n",
       "<style scoped>\n",
       "    .dataframe tbody tr th:only-of-type {\n",
       "        vertical-align: middle;\n",
       "    }\n",
       "\n",
       "    .dataframe tbody tr th {\n",
       "        vertical-align: top;\n",
       "    }\n",
       "\n",
       "    .dataframe thead th {\n",
       "        text-align: right;\n",
       "    }\n",
       "</style>\n",
       "<table border=\"1\" class=\"dataframe\">\n",
       "  <thead>\n",
       "    <tr style=\"text-align: right;\">\n",
       "      <th></th>\n",
       "      <th>molecule_chembl_id</th>\n",
       "      <th>molecule_properties</th>\n",
       "      <th>mw_freebase</th>\n",
       "    </tr>\n",
       "  </thead>\n",
       "  <tbody>\n",
       "    <tr>\n",
       "      <th>0</th>\n",
       "      <td>CHEMBL25</td>\n",
       "      <td>{'alogp': '1.31', 'aromatic_rings': 1, 'cx_log...</td>\n",
       "      <td>180.16</td>\n",
       "    </tr>\n",
       "    <tr>\n",
       "      <th>1</th>\n",
       "      <td>CHEMBL38</td>\n",
       "      <td>{'alogp': '5.60', 'aromatic_rings': 0, 'cx_log...</td>\n",
       "      <td>300.44</td>\n",
       "    </tr>\n",
       "    <tr>\n",
       "      <th>2</th>\n",
       "      <td>CHEMBL45</td>\n",
       "      <td>{'alogp': '1.86', 'aromatic_rings': 2, 'cx_log...</td>\n",
       "      <td>232.28</td>\n",
       "    </tr>\n",
       "    <tr>\n",
       "      <th>3</th>\n",
       "      <td>CHEMBL481</td>\n",
       "      <td>{'alogp': '4.09', 'aromatic_rings': 3, 'cx_log...</td>\n",
       "      <td>586.69</td>\n",
       "    </tr>\n",
       "    <tr>\n",
       "      <th>4</th>\n",
       "      <td>CHEMBL84</td>\n",
       "      <td>{'alogp': '1.85', 'aromatic_rings': 3, 'cx_log...</td>\n",
       "      <td>421.45</td>\n",
       "    </tr>\n",
       "  </tbody>\n",
       "</table>\n",
       "</div>"
      ],
      "text/plain": [
       "  molecule_chembl_id                                molecule_properties  \\\n",
       "0           CHEMBL25  {'alogp': '1.31', 'aromatic_rings': 1, 'cx_log...   \n",
       "1           CHEMBL38  {'alogp': '5.60', 'aromatic_rings': 0, 'cx_log...   \n",
       "2           CHEMBL45  {'alogp': '1.86', 'aromatic_rings': 2, 'cx_log...   \n",
       "3          CHEMBL481  {'alogp': '4.09', 'aromatic_rings': 3, 'cx_log...   \n",
       "4           CHEMBL84  {'alogp': '1.85', 'aromatic_rings': 3, 'cx_log...   \n",
       "\n",
       "  mw_freebase  \n",
       "0      180.16  \n",
       "1      300.44  \n",
       "2      232.28  \n",
       "3      586.69  \n",
       "4      421.45  "
      ]
     },
     "execution_count": 27,
     "metadata": {},
     "output_type": "execute_result"
    }
   ],
   "source": [
    "lung_cancer_phase3['mw_freebase'] = lung_cancer_phase3.loc[lung_cancer_phase3['molecule_properties'].notnull(), 'molecule_properties'].apply(lambda x: x['mw_freebase']) # This is the mwt of the parent compound\n",
    "lung_cancer_phase3.head()"
   ]
  },
  {
   "cell_type": "markdown",
   "metadata": {},
   "source": [
    "#### 3.2.4. What is the (therapeutic) mechanism of action for Sodium channel protein type V alpha subunit? For which drugs?"
   ]
  },
  {
   "cell_type": "code",
   "execution_count": 28,
   "metadata": {},
   "outputs": [
    {
     "data": {
      "text/html": [
       "<div>\n",
       "<style scoped>\n",
       "    .dataframe tbody tr th:only-of-type {\n",
       "        vertical-align: middle;\n",
       "    }\n",
       "\n",
       "    .dataframe tbody tr th {\n",
       "        vertical-align: top;\n",
       "    }\n",
       "\n",
       "    .dataframe thead th {\n",
       "        text-align: right;\n",
       "    }\n",
       "</style>\n",
       "<table border=\"1\" class=\"dataframe\">\n",
       "  <thead>\n",
       "    <tr style=\"text-align: right;\">\n",
       "      <th></th>\n",
       "      <th>action_type</th>\n",
       "      <th>max_phase</th>\n",
       "      <th>mechanism_comment</th>\n",
       "      <th>mechanism_of_action</th>\n",
       "      <th>molecule_chembl_id</th>\n",
       "      <th>target_chembl_id</th>\n",
       "    </tr>\n",
       "  </thead>\n",
       "  <tbody>\n",
       "    <tr>\n",
       "      <th>0</th>\n",
       "      <td>BLOCKER</td>\n",
       "      <td>4</td>\n",
       "      <td>None</td>\n",
       "      <td>Sodium channel protein type V alpha subunit bl...</td>\n",
       "      <td>CHEMBL1200822</td>\n",
       "      <td>CHEMBL1980</td>\n",
       "    </tr>\n",
       "    <tr>\n",
       "      <th>1</th>\n",
       "      <td>BLOCKER</td>\n",
       "      <td>4</td>\n",
       "      <td>None</td>\n",
       "      <td>Sodium channel protein type V alpha subunit bl...</td>\n",
       "      <td>CHEMBL1200612</td>\n",
       "      <td>CHEMBL1980</td>\n",
       "    </tr>\n",
       "    <tr>\n",
       "      <th>2</th>\n",
       "      <td>BLOCKER</td>\n",
       "      <td>4</td>\n",
       "      <td>None</td>\n",
       "      <td>Sodium channel protein type V alpha subunit bl...</td>\n",
       "      <td>CHEMBL1404</td>\n",
       "      <td>CHEMBL1980</td>\n",
       "    </tr>\n",
       "    <tr>\n",
       "      <th>3</th>\n",
       "      <td>BLOCKER</td>\n",
       "      <td>2</td>\n",
       "      <td>None</td>\n",
       "      <td>Sodium channel protein type V alpha subunit bl...</td>\n",
       "      <td>CHEMBL3545040</td>\n",
       "      <td>CHEMBL1980</td>\n",
       "    </tr>\n",
       "    <tr>\n",
       "      <th>4</th>\n",
       "      <td>BLOCKER</td>\n",
       "      <td>2</td>\n",
       "      <td>L-type calcium channel (CACNA1C, CACNA1D, CACN...</td>\n",
       "      <td>Sodium channel protein type V alpha subunit bl...</td>\n",
       "      <td>CHEMBL3545169</td>\n",
       "      <td>CHEMBL1980</td>\n",
       "    </tr>\n",
       "    <tr>\n",
       "      <th>5</th>\n",
       "      <td>BLOCKER</td>\n",
       "      <td>4</td>\n",
       "      <td>Prenylamine is a potent sodium channel (NaCh) ...</td>\n",
       "      <td>Sodium channel protein type V alpha subunit bl...</td>\n",
       "      <td>CHEMBL24072</td>\n",
       "      <td>CHEMBL1980</td>\n",
       "    </tr>\n",
       "    <tr>\n",
       "      <th>6</th>\n",
       "      <td>BLOCKER</td>\n",
       "      <td>4</td>\n",
       "      <td>Also partially blocks the hERG channel.</td>\n",
       "      <td>Sodium channel protein type V alpha subunit bl...</td>\n",
       "      <td>CHEMBL2107383</td>\n",
       "      <td>CHEMBL1980</td>\n",
       "    </tr>\n",
       "  </tbody>\n",
       "</table>\n",
       "</div>"
      ],
      "text/plain": [
       "  action_type  max_phase                                  mechanism_comment  \\\n",
       "0     BLOCKER          4                                               None   \n",
       "1     BLOCKER          4                                               None   \n",
       "2     BLOCKER          4                                               None   \n",
       "3     BLOCKER          2                                               None   \n",
       "4     BLOCKER          2  L-type calcium channel (CACNA1C, CACNA1D, CACN...   \n",
       "5     BLOCKER          4  Prenylamine is a potent sodium channel (NaCh) ...   \n",
       "6     BLOCKER          4            Also partially blocks the hERG channel.   \n",
       "\n",
       "                                 mechanism_of_action molecule_chembl_id  \\\n",
       "0  Sodium channel protein type V alpha subunit bl...      CHEMBL1200822   \n",
       "1  Sodium channel protein type V alpha subunit bl...      CHEMBL1200612   \n",
       "2  Sodium channel protein type V alpha subunit bl...         CHEMBL1404   \n",
       "3  Sodium channel protein type V alpha subunit bl...      CHEMBL3545040   \n",
       "4  Sodium channel protein type V alpha subunit bl...      CHEMBL3545169   \n",
       "5  Sodium channel protein type V alpha subunit bl...        CHEMBL24072   \n",
       "6  Sodium channel protein type V alpha subunit bl...      CHEMBL2107383   \n",
       "\n",
       "  target_chembl_id  \n",
       "0       CHEMBL1980  \n",
       "1       CHEMBL1980  \n",
       "2       CHEMBL1980  \n",
       "3       CHEMBL1980  \n",
       "4       CHEMBL1980  \n",
       "5       CHEMBL1980  \n",
       "6       CHEMBL1980  "
      ]
     },
     "execution_count": 28,
     "metadata": {},
     "output_type": "execute_result"
    }
   ],
   "source": [
    "mechanism = new_client.mechanism\n",
    "res = mechanism.filter(target_chembl_id='CHEMBL1980' # Sodium channel protein type V alpha subunit target\n",
    "                      ).only(['action_type','max_phase','mechanism_comment','mechanism_of_action','molecule_chembl_id', 'target_chembl_id'])\n",
    "pd.DataFrame(res)"
   ]
  },
  {
   "cell_type": "markdown",
   "metadata": {},
   "source": [
    "#### 3.2.5. Find marketed drugs that have been subsequently withdrawn for concerns in psychiatric toxicity"
   ]
  },
  {
   "cell_type": "code",
   "execution_count": 29,
   "metadata": {},
   "outputs": [
    {
     "data": {
      "text/html": [
       "<div>\n",
       "<style scoped>\n",
       "    .dataframe tbody tr th:only-of-type {\n",
       "        vertical-align: middle;\n",
       "    }\n",
       "\n",
       "    .dataframe tbody tr th {\n",
       "        vertical-align: top;\n",
       "    }\n",
       "\n",
       "    .dataframe thead th {\n",
       "        text-align: right;\n",
       "    }\n",
       "</style>\n",
       "<table border=\"1\" class=\"dataframe\">\n",
       "  <thead>\n",
       "    <tr style=\"text-align: right;\">\n",
       "      <th></th>\n",
       "      <th>efo_id</th>\n",
       "      <th>efo_term</th>\n",
       "      <th>molecule_chembl_id</th>\n",
       "      <th>warning_year</th>\n",
       "    </tr>\n",
       "  </thead>\n",
       "  <tbody>\n",
       "    <tr>\n",
       "      <th>0</th>\n",
       "      <td>EFO:0020909</td>\n",
       "      <td>impaired psychomotor skills</td>\n",
       "      <td>CHEMBL1233</td>\n",
       "      <td>2007</td>\n",
       "    </tr>\n",
       "    <tr>\n",
       "      <th>1</th>\n",
       "      <td>HP:0011446</td>\n",
       "      <td>Abnormality of higher mental function</td>\n",
       "      <td>CHEMBL254857</td>\n",
       "      <td>1990</td>\n",
       "    </tr>\n",
       "    <tr>\n",
       "      <th>2</th>\n",
       "      <td>EFO:0003761</td>\n",
       "      <td>unipolar depression</td>\n",
       "      <td>CHEMBL646</td>\n",
       "      <td>1991</td>\n",
       "    </tr>\n",
       "    <tr>\n",
       "      <th>3</th>\n",
       "      <td>HP:0011446</td>\n",
       "      <td>Abnormality of higher mental function</td>\n",
       "      <td>CHEMBL3188576</td>\n",
       "      <td>1970</td>\n",
       "    </tr>\n",
       "    <tr>\n",
       "      <th>4</th>\n",
       "      <td>EFO:0003761</td>\n",
       "      <td>unipolar depression</td>\n",
       "      <td>CHEMBL111</td>\n",
       "      <td>2008</td>\n",
       "    </tr>\n",
       "  </tbody>\n",
       "</table>\n",
       "</div>"
      ],
      "text/plain": [
       "        efo_id                               efo_term molecule_chembl_id  \\\n",
       "0  EFO:0020909            impaired psychomotor skills         CHEMBL1233   \n",
       "1   HP:0011446  Abnormality of higher mental function       CHEMBL254857   \n",
       "2  EFO:0003761                    unipolar depression          CHEMBL646   \n",
       "3   HP:0011446  Abnormality of higher mental function      CHEMBL3188576   \n",
       "4  EFO:0003761                    unipolar depression          CHEMBL111   \n",
       "\n",
       "   warning_year  \n",
       "0          2007  \n",
       "1          1990  \n",
       "2          1991  \n",
       "3          1970  \n",
       "4          2008  "
      ]
     },
     "execution_count": 29,
     "metadata": {},
     "output_type": "execute_result"
    }
   ],
   "source": [
    "drug_warning = new_client.drug_warning\n",
    "res = drug_warning.filter(warning_type='Withdrawn', warning_class='psychiatric toxicity').only(['efo_id', 'efo_term', 'molecule_chembl_id', 'warning_year'])\n",
    "pd.DataFrame(res).head()"
   ]
  },
  {
   "cell_type": "markdown",
   "metadata": {},
   "source": [
    "#### 3.2.6. Find FDA drugs that carry a black box warning for cardiotoxicity"
   ]
  },
  {
   "cell_type": "code",
   "execution_count": 30,
   "metadata": {},
   "outputs": [
    {
     "data": {
      "text/html": [
       "<div>\n",
       "<style scoped>\n",
       "    .dataframe tbody tr th:only-of-type {\n",
       "        vertical-align: middle;\n",
       "    }\n",
       "\n",
       "    .dataframe tbody tr th {\n",
       "        vertical-align: top;\n",
       "    }\n",
       "\n",
       "    .dataframe thead th {\n",
       "        text-align: right;\n",
       "    }\n",
       "</style>\n",
       "<table border=\"1\" class=\"dataframe\">\n",
       "  <thead>\n",
       "    <tr style=\"text-align: right;\">\n",
       "      <th></th>\n",
       "      <th>molecule_chembl_id</th>\n",
       "    </tr>\n",
       "  </thead>\n",
       "  <tbody>\n",
       "    <tr>\n",
       "      <th>0</th>\n",
       "      <td>CHEMBL270190</td>\n",
       "    </tr>\n",
       "    <tr>\n",
       "      <th>1</th>\n",
       "      <td>CHEMBL1083993</td>\n",
       "    </tr>\n",
       "    <tr>\n",
       "      <th>2</th>\n",
       "      <td>CHEMBL501</td>\n",
       "    </tr>\n",
       "    <tr>\n",
       "      <th>3</th>\n",
       "      <td>CHEMBL1200978</td>\n",
       "    </tr>\n",
       "    <tr>\n",
       "      <th>4</th>\n",
       "      <td>CHEMBL24</td>\n",
       "    </tr>\n",
       "  </tbody>\n",
       "</table>\n",
       "</div>"
      ],
      "text/plain": [
       "  molecule_chembl_id\n",
       "0       CHEMBL270190\n",
       "1      CHEMBL1083993\n",
       "2          CHEMBL501\n",
       "3      CHEMBL1200978\n",
       "4           CHEMBL24"
      ]
     },
     "execution_count": 30,
     "metadata": {},
     "output_type": "execute_result"
    }
   ],
   "source": [
    "drug_warning = new_client.drug_warning\n",
    "res = drug_warning.filter(warning_class__icontains='cardio', warning_type='Black Box Warning').only(['molecule_chembl_id'])\n",
    "pd.DataFrame(res).head()"
   ]
  },
  {
   "cell_type": "markdown",
   "metadata": {},
   "source": [
    "### 3.3. Targets\n",
    "#### 3.3.1. Find a target by gene name"
   ]
  },
  {
   "cell_type": "code",
   "execution_count": 31,
   "metadata": {},
   "outputs": [
    {
     "data": {
      "text/html": [
       "<div>\n",
       "<style scoped>\n",
       "    .dataframe tbody tr th:only-of-type {\n",
       "        vertical-align: middle;\n",
       "    }\n",
       "\n",
       "    .dataframe tbody tr th {\n",
       "        vertical-align: top;\n",
       "    }\n",
       "\n",
       "    .dataframe thead th {\n",
       "        text-align: right;\n",
       "    }\n",
       "</style>\n",
       "<table border=\"1\" class=\"dataframe\">\n",
       "  <thead>\n",
       "    <tr style=\"text-align: right;\">\n",
       "      <th></th>\n",
       "      <th>organism</th>\n",
       "      <th>pref_name</th>\n",
       "      <th>target_type</th>\n",
       "    </tr>\n",
       "  </thead>\n",
       "  <tbody>\n",
       "    <tr>\n",
       "      <th>0</th>\n",
       "      <td>Homo sapiens</td>\n",
       "      <td>Bromodomain-containing protein 4</td>\n",
       "      <td>SINGLE PROTEIN</td>\n",
       "    </tr>\n",
       "    <tr>\n",
       "      <th>1</th>\n",
       "      <td>Mus musculus</td>\n",
       "      <td>Bromodomain-containing protein 4</td>\n",
       "      <td>SINGLE PROTEIN</td>\n",
       "    </tr>\n",
       "    <tr>\n",
       "      <th>2</th>\n",
       "      <td>Homo sapiens</td>\n",
       "      <td>BRD4/HDAC1</td>\n",
       "      <td>PROTEIN COMPLEX</td>\n",
       "    </tr>\n",
       "    <tr>\n",
       "      <th>3</th>\n",
       "      <td>Homo sapiens</td>\n",
       "      <td>Cereblon/Cullin-4A/Bromodomain-containing prot...</td>\n",
       "      <td>PROTEIN-PROTEIN INTERACTION</td>\n",
       "    </tr>\n",
       "    <tr>\n",
       "      <th>4</th>\n",
       "      <td>Homo sapiens</td>\n",
       "      <td>Cereblon/Bromodomain-containing protein 4</td>\n",
       "      <td>PROTEIN-PROTEIN INTERACTION</td>\n",
       "    </tr>\n",
       "    <tr>\n",
       "      <th>5</th>\n",
       "      <td>Homo sapiens</td>\n",
       "      <td>von Hippel-Lindau disease tumor suppressor/Bro...</td>\n",
       "      <td>PROTEIN-PROTEIN INTERACTION</td>\n",
       "    </tr>\n",
       "    <tr>\n",
       "      <th>6</th>\n",
       "      <td>Homo sapiens</td>\n",
       "      <td>Cereblon/DNA damage-binding protein 1/Bromodom...</td>\n",
       "      <td>PROTEIN-PROTEIN INTERACTION</td>\n",
       "    </tr>\n",
       "    <tr>\n",
       "      <th>7</th>\n",
       "      <td>Homo sapiens</td>\n",
       "      <td>von Hippel-Lindau disease tumor suppressor/Elo...</td>\n",
       "      <td>PROTEIN-PROTEIN INTERACTION</td>\n",
       "    </tr>\n",
       "    <tr>\n",
       "      <th>8</th>\n",
       "      <td>Homo sapiens</td>\n",
       "      <td>Bromodomain and extra-terminal motif (BET)</td>\n",
       "      <td>PROTEIN FAMILY</td>\n",
       "    </tr>\n",
       "    <tr>\n",
       "      <th>9</th>\n",
       "      <td>Homo sapiens</td>\n",
       "      <td>BRD4/E3 ubiquitin-protein ligase Mdm2</td>\n",
       "      <td>PROTEIN-PROTEIN INTERACTION</td>\n",
       "    </tr>\n",
       "    <tr>\n",
       "      <th>10</th>\n",
       "      <td>Homo sapiens</td>\n",
       "      <td>BRD4/E3 ubiquitin-protein ligase XIAP</td>\n",
       "      <td>PROTEIN-PROTEIN INTERACTION</td>\n",
       "    </tr>\n",
       "    <tr>\n",
       "      <th>11</th>\n",
       "      <td>Homo sapiens</td>\n",
       "      <td>BRD4/BRD9</td>\n",
       "      <td>SELECTIVITY GROUP</td>\n",
       "    </tr>\n",
       "    <tr>\n",
       "      <th>12</th>\n",
       "      <td>Homo sapiens</td>\n",
       "      <td>Protein fem-1 homolog B/Bromodomain-containing...</td>\n",
       "      <td>PROTEIN-PROTEIN INTERACTION</td>\n",
       "    </tr>\n",
       "  </tbody>\n",
       "</table>\n",
       "</div>"
      ],
      "text/plain": [
       "        organism                                          pref_name  \\\n",
       "0   Homo sapiens                   Bromodomain-containing protein 4   \n",
       "1   Mus musculus                   Bromodomain-containing protein 4   \n",
       "2   Homo sapiens                                         BRD4/HDAC1   \n",
       "3   Homo sapiens  Cereblon/Cullin-4A/Bromodomain-containing prot...   \n",
       "4   Homo sapiens          Cereblon/Bromodomain-containing protein 4   \n",
       "5   Homo sapiens  von Hippel-Lindau disease tumor suppressor/Bro...   \n",
       "6   Homo sapiens  Cereblon/DNA damage-binding protein 1/Bromodom...   \n",
       "7   Homo sapiens  von Hippel-Lindau disease tumor suppressor/Elo...   \n",
       "8   Homo sapiens         Bromodomain and extra-terminal motif (BET)   \n",
       "9   Homo sapiens              BRD4/E3 ubiquitin-protein ligase Mdm2   \n",
       "10  Homo sapiens              BRD4/E3 ubiquitin-protein ligase XIAP   \n",
       "11  Homo sapiens                                          BRD4/BRD9   \n",
       "12  Homo sapiens  Protein fem-1 homolog B/Bromodomain-containing...   \n",
       "\n",
       "                    target_type  \n",
       "0                SINGLE PROTEIN  \n",
       "1                SINGLE PROTEIN  \n",
       "2               PROTEIN COMPLEX  \n",
       "3   PROTEIN-PROTEIN INTERACTION  \n",
       "4   PROTEIN-PROTEIN INTERACTION  \n",
       "5   PROTEIN-PROTEIN INTERACTION  \n",
       "6   PROTEIN-PROTEIN INTERACTION  \n",
       "7   PROTEIN-PROTEIN INTERACTION  \n",
       "8                PROTEIN FAMILY  \n",
       "9   PROTEIN-PROTEIN INTERACTION  \n",
       "10  PROTEIN-PROTEIN INTERACTION  \n",
       "11            SELECTIVITY GROUP  \n",
       "12  PROTEIN-PROTEIN INTERACTION  "
      ]
     },
     "execution_count": 31,
     "metadata": {},
     "output_type": "execute_result"
    }
   ],
   "source": [
    "target = new_client.target\n",
    "gene_name = 'BRD4'\n",
    "res = target.filter(target_synonym__icontains=gene_name).only(['organism', 'pref_name', 'target_type'])\n",
    "pd.DataFrame(res)"
   ]
  },
  {
   "cell_type": "markdown",
   "metadata": {},
   "source": [
    "#### 3.3.2. Find a protein target using its UniProt ID"
   ]
  },
  {
   "cell_type": "code",
   "execution_count": 32,
   "metadata": {},
   "outputs": [
    {
     "data": {
      "text/html": [
       "<div>\n",
       "<style scoped>\n",
       "    .dataframe tbody tr th:only-of-type {\n",
       "        vertical-align: middle;\n",
       "    }\n",
       "\n",
       "    .dataframe tbody tr th {\n",
       "        vertical-align: top;\n",
       "    }\n",
       "\n",
       "    .dataframe thead th {\n",
       "        text-align: right;\n",
       "    }\n",
       "</style>\n",
       "<table border=\"1\" class=\"dataframe\">\n",
       "  <thead>\n",
       "    <tr style=\"text-align: right;\">\n",
       "      <th></th>\n",
       "      <th>cross_references</th>\n",
       "      <th>organism</th>\n",
       "      <th>pref_name</th>\n",
       "      <th>species_group_flag</th>\n",
       "      <th>target_chembl_id</th>\n",
       "      <th>target_components</th>\n",
       "      <th>target_type</th>\n",
       "      <th>tax_id</th>\n",
       "    </tr>\n",
       "  </thead>\n",
       "  <tbody>\n",
       "    <tr>\n",
       "      <th>0</th>\n",
       "      <td>[{'xref_id': 'FLT4', 'xref_name': None, 'xref_...</td>\n",
       "      <td>Homo sapiens</td>\n",
       "      <td>Vascular endothelial growth factor receptor 3</td>\n",
       "      <td>False</td>\n",
       "      <td>CHEMBL1955</td>\n",
       "      <td>[{'accession': 'P35916', 'component_descriptio...</td>\n",
       "      <td>SINGLE PROTEIN</td>\n",
       "      <td>9606</td>\n",
       "    </tr>\n",
       "    <tr>\n",
       "      <th>1</th>\n",
       "      <td>[]</td>\n",
       "      <td>Homo sapiens</td>\n",
       "      <td>Vascular endothelial growth factor receptor</td>\n",
       "      <td>False</td>\n",
       "      <td>CHEMBL2095227</td>\n",
       "      <td>[{'accession': 'P17948', 'component_descriptio...</td>\n",
       "      <td>PROTEIN FAMILY</td>\n",
       "      <td>9606</td>\n",
       "    </tr>\n",
       "    <tr>\n",
       "      <th>2</th>\n",
       "      <td>[]</td>\n",
       "      <td>Homo sapiens</td>\n",
       "      <td>Vascular endothelial growth factor receptor 2 ...</td>\n",
       "      <td>False</td>\n",
       "      <td>CHEMBL2111409</td>\n",
       "      <td>[{'accession': 'P35916', 'component_descriptio...</td>\n",
       "      <td>SELECTIVITY GROUP</td>\n",
       "      <td>9606</td>\n",
       "    </tr>\n",
       "    <tr>\n",
       "      <th>3</th>\n",
       "      <td>[]</td>\n",
       "      <td>Homo sapiens</td>\n",
       "      <td>Focal adhesion kinase 1/vascular endothelial g...</td>\n",
       "      <td>False</td>\n",
       "      <td>CHEMBL3301389</td>\n",
       "      <td>[{'accession': 'P35916', 'component_descriptio...</td>\n",
       "      <td>PROTEIN-PROTEIN INTERACTION</td>\n",
       "      <td>9606</td>\n",
       "    </tr>\n",
       "  </tbody>\n",
       "</table>\n",
       "</div>"
      ],
      "text/plain": [
       "                                    cross_references      organism  \\\n",
       "0  [{'xref_id': 'FLT4', 'xref_name': None, 'xref_...  Homo sapiens   \n",
       "1                                                 []  Homo sapiens   \n",
       "2                                                 []  Homo sapiens   \n",
       "3                                                 []  Homo sapiens   \n",
       "\n",
       "                                           pref_name  species_group_flag  \\\n",
       "0      Vascular endothelial growth factor receptor 3               False   \n",
       "1        Vascular endothelial growth factor receptor               False   \n",
       "2  Vascular endothelial growth factor receptor 2 ...               False   \n",
       "3  Focal adhesion kinase 1/vascular endothelial g...               False   \n",
       "\n",
       "  target_chembl_id                                  target_components  \\\n",
       "0       CHEMBL1955  [{'accession': 'P35916', 'component_descriptio...   \n",
       "1    CHEMBL2095227  [{'accession': 'P17948', 'component_descriptio...   \n",
       "2    CHEMBL2111409  [{'accession': 'P35916', 'component_descriptio...   \n",
       "3    CHEMBL3301389  [{'accession': 'P35916', 'component_descriptio...   \n",
       "\n",
       "                   target_type  tax_id  \n",
       "0               SINGLE PROTEIN    9606  \n",
       "1               PROTEIN FAMILY    9606  \n",
       "2            SELECTIVITY GROUP    9606  \n",
       "3  PROTEIN-PROTEIN INTERACTION    9606  "
      ]
     },
     "execution_count": 32,
     "metadata": {},
     "output_type": "execute_result"
    }
   ],
   "source": [
    "target = new_client.target\n",
    "uniprot_id = 'P35916' # Vascular endothelial growth factor receptor 3; UniProt accession P35916\n",
    "pd.DataFrame(target.filter(target_components__accession=uniprot_id))"
   ]
  },
  {
   "cell_type": "markdown",
   "metadata": {},
   "source": [
    "#### 3.3.3. Which species have available data in ChEMBL for cannabinoid receptor target(s)? What target types are they?"
   ]
  },
  {
   "cell_type": "code",
   "execution_count": 33,
   "metadata": {},
   "outputs": [
    {
     "data": {
      "text/html": [
       "<div>\n",
       "<style scoped>\n",
       "    .dataframe tbody tr th:only-of-type {\n",
       "        vertical-align: middle;\n",
       "    }\n",
       "\n",
       "    .dataframe tbody tr th {\n",
       "        vertical-align: top;\n",
       "    }\n",
       "\n",
       "    .dataframe thead th {\n",
       "        text-align: right;\n",
       "    }\n",
       "</style>\n",
       "<table border=\"1\" class=\"dataframe\">\n",
       "  <thead>\n",
       "    <tr style=\"text-align: right;\">\n",
       "      <th></th>\n",
       "      <th>organism</th>\n",
       "      <th>pref_name</th>\n",
       "      <th>target_chembl_id</th>\n",
       "      <th>target_type</th>\n",
       "    </tr>\n",
       "  </thead>\n",
       "  <tbody>\n",
       "    <tr>\n",
       "      <th>0</th>\n",
       "      <td>Homo sapiens</td>\n",
       "      <td>Cannabinoid CB1 receptor</td>\n",
       "      <td>CHEMBL218</td>\n",
       "      <td>SINGLE PROTEIN</td>\n",
       "    </tr>\n",
       "    <tr>\n",
       "      <th>1</th>\n",
       "      <td>Mus musculus</td>\n",
       "      <td>Cannabinoid CB1 receptor</td>\n",
       "      <td>CHEMBL3037</td>\n",
       "      <td>SINGLE PROTEIN</td>\n",
       "    </tr>\n",
       "    <tr>\n",
       "      <th>2</th>\n",
       "      <td>Rattus norvegicus</td>\n",
       "      <td>Cannabinoid CB1 receptor</td>\n",
       "      <td>CHEMBL3571</td>\n",
       "      <td>SINGLE PROTEIN</td>\n",
       "    </tr>\n",
       "    <tr>\n",
       "      <th>3</th>\n",
       "      <td>Homo sapiens</td>\n",
       "      <td>Cannabinoid CB1 receptor/orexin receptor 1 com...</td>\n",
       "      <td>CHEMBL3301387</td>\n",
       "      <td>PROTEIN COMPLEX</td>\n",
       "    </tr>\n",
       "    <tr>\n",
       "      <th>4</th>\n",
       "      <td>Homo sapiens</td>\n",
       "      <td>Cannabinoid CB2 receptor</td>\n",
       "      <td>CHEMBL253</td>\n",
       "      <td>SINGLE PROTEIN</td>\n",
       "    </tr>\n",
       "    <tr>\n",
       "      <th>5</th>\n",
       "      <td>Mus musculus</td>\n",
       "      <td>Cannabinoid CB2 receptor</td>\n",
       "      <td>CHEMBL5373</td>\n",
       "      <td>SINGLE PROTEIN</td>\n",
       "    </tr>\n",
       "    <tr>\n",
       "      <th>6</th>\n",
       "      <td>Rattus norvegicus</td>\n",
       "      <td>Cannabinoid CB2 receptor</td>\n",
       "      <td>CHEMBL2470</td>\n",
       "      <td>SINGLE PROTEIN</td>\n",
       "    </tr>\n",
       "    <tr>\n",
       "      <th>7</th>\n",
       "      <td>Homo sapiens</td>\n",
       "      <td>Cannabinoid receptor</td>\n",
       "      <td>CHEMBL2096981</td>\n",
       "      <td>PROTEIN FAMILY</td>\n",
       "    </tr>\n",
       "    <tr>\n",
       "      <th>8</th>\n",
       "      <td>Mus musculus</td>\n",
       "      <td>Cannabinoid receptor</td>\n",
       "      <td>CHEMBL2111415</td>\n",
       "      <td>PROTEIN FAMILY</td>\n",
       "    </tr>\n",
       "    <tr>\n",
       "      <th>9</th>\n",
       "      <td>Rattus norvegicus</td>\n",
       "      <td>Cannabinoid receptor</td>\n",
       "      <td>CHEMBL2111385</td>\n",
       "      <td>PROTEIN FAMILY</td>\n",
       "    </tr>\n",
       "    <tr>\n",
       "      <th>10</th>\n",
       "      <td>Homo sapiens</td>\n",
       "      <td>Cannabinoid receptor 1/Mu-type opioid receptor</td>\n",
       "      <td>CHEMBL3885538</td>\n",
       "      <td>PROTEIN COMPLEX</td>\n",
       "    </tr>\n",
       "  </tbody>\n",
       "</table>\n",
       "</div>"
      ],
      "text/plain": [
       "             organism                                          pref_name  \\\n",
       "0        Homo sapiens                           Cannabinoid CB1 receptor   \n",
       "1        Mus musculus                           Cannabinoid CB1 receptor   \n",
       "2   Rattus norvegicus                           Cannabinoid CB1 receptor   \n",
       "3        Homo sapiens  Cannabinoid CB1 receptor/orexin receptor 1 com...   \n",
       "4        Homo sapiens                           Cannabinoid CB2 receptor   \n",
       "5        Mus musculus                           Cannabinoid CB2 receptor   \n",
       "6   Rattus norvegicus                           Cannabinoid CB2 receptor   \n",
       "7        Homo sapiens                               Cannabinoid receptor   \n",
       "8        Mus musculus                               Cannabinoid receptor   \n",
       "9   Rattus norvegicus                               Cannabinoid receptor   \n",
       "10       Homo sapiens     Cannabinoid receptor 1/Mu-type opioid receptor   \n",
       "\n",
       "   target_chembl_id      target_type  \n",
       "0         CHEMBL218   SINGLE PROTEIN  \n",
       "1        CHEMBL3037   SINGLE PROTEIN  \n",
       "2        CHEMBL3571   SINGLE PROTEIN  \n",
       "3     CHEMBL3301387  PROTEIN COMPLEX  \n",
       "4         CHEMBL253   SINGLE PROTEIN  \n",
       "5        CHEMBL5373   SINGLE PROTEIN  \n",
       "6        CHEMBL2470   SINGLE PROTEIN  \n",
       "7     CHEMBL2096981   PROTEIN FAMILY  \n",
       "8     CHEMBL2111415   PROTEIN FAMILY  \n",
       "9     CHEMBL2111385   PROTEIN FAMILY  \n",
       "10    CHEMBL3885538  PROTEIN COMPLEX  "
      ]
     },
     "execution_count": 33,
     "metadata": {},
     "output_type": "execute_result"
    }
   ],
   "source": [
    "target = new_client.target\n",
    "protein_name = 'cannabinoid' \n",
    "res = target.filter(pref_name__icontains=protein_name).only(['organism','pref_name','target_chembl_id','target_type']).order_by(['pref_name','organism'])\n",
    "\n",
    "pd.DataFrame(res)"
   ]
  },
  {
   "cell_type": "markdown",
   "metadata": {},
   "source": [
    "#### 3.3.4. What does the protein classification look like for chemokine receptor targets?"
   ]
  },
  {
   "cell_type": "code",
   "execution_count": 34,
   "metadata": {},
   "outputs": [
    {
     "data": {
      "text/html": [
       "<div>\n",
       "<style scoped>\n",
       "    .dataframe tbody tr th:only-of-type {\n",
       "        vertical-align: middle;\n",
       "    }\n",
       "\n",
       "    .dataframe tbody tr th {\n",
       "        vertical-align: top;\n",
       "    }\n",
       "\n",
       "    .dataframe thead th {\n",
       "        text-align: right;\n",
       "    }\n",
       "</style>\n",
       "<table border=\"1\" class=\"dataframe\">\n",
       "  <thead>\n",
       "    <tr style=\"text-align: right;\">\n",
       "      <th></th>\n",
       "      <th>class_level</th>\n",
       "      <th>definition</th>\n",
       "      <th>parent_id</th>\n",
       "      <th>pref_name</th>\n",
       "      <th>protein_class_desc</th>\n",
       "      <th>protein_class_id</th>\n",
       "      <th>replaced_by</th>\n",
       "      <th>short_name</th>\n",
       "      <th>sort_order</th>\n",
       "    </tr>\n",
       "  </thead>\n",
       "  <tbody>\n",
       "    <tr>\n",
       "      <th>0</th>\n",
       "      <td>0</td>\n",
       "      <td>Root of the ChEMBL protein family classification</td>\n",
       "      <td>NaN</td>\n",
       "      <td>Protein class</td>\n",
       "      <td>protein class</td>\n",
       "      <td>0</td>\n",
       "      <td>None</td>\n",
       "      <td>Protein class</td>\n",
       "      <td>NaN</td>\n",
       "    </tr>\n",
       "    <tr>\n",
       "      <th>1</th>\n",
       "      <td>1</td>\n",
       "      <td>Biological molecules that possess catalytic ac...</td>\n",
       "      <td>0.0</td>\n",
       "      <td>Enzyme</td>\n",
       "      <td>enzyme</td>\n",
       "      <td>1</td>\n",
       "      <td>None</td>\n",
       "      <td>Enzyme</td>\n",
       "      <td>1.0</td>\n",
       "    </tr>\n",
       "    <tr>\n",
       "      <th>2</th>\n",
       "      <td>1</td>\n",
       "      <td>Surface ligands, usually glycoproteins, that m...</td>\n",
       "      <td>0.0</td>\n",
       "      <td>Adhesion</td>\n",
       "      <td>adhesion</td>\n",
       "      <td>2</td>\n",
       "      <td>None</td>\n",
       "      <td>Adhesion</td>\n",
       "      <td>6.0</td>\n",
       "    </tr>\n",
       "    <tr>\n",
       "      <th>3</th>\n",
       "      <td>1</td>\n",
       "      <td>None</td>\n",
       "      <td>0.0</td>\n",
       "      <td>Secreted protein</td>\n",
       "      <td>secreted</td>\n",
       "      <td>3</td>\n",
       "      <td>None</td>\n",
       "      <td>Secreted</td>\n",
       "      <td>9.0</td>\n",
       "    </tr>\n",
       "    <tr>\n",
       "      <th>4</th>\n",
       "      <td>1</td>\n",
       "      <td>None</td>\n",
       "      <td>0.0</td>\n",
       "      <td>Structural protein</td>\n",
       "      <td>structural</td>\n",
       "      <td>4</td>\n",
       "      <td>None</td>\n",
       "      <td>Structural</td>\n",
       "      <td>10.0</td>\n",
       "    </tr>\n",
       "  </tbody>\n",
       "</table>\n",
       "</div>"
      ],
      "text/plain": [
       "   class_level                                         definition  parent_id  \\\n",
       "0            0   Root of the ChEMBL protein family classification        NaN   \n",
       "1            1  Biological molecules that possess catalytic ac...        0.0   \n",
       "2            1  Surface ligands, usually glycoproteins, that m...        0.0   \n",
       "3            1                                               None        0.0   \n",
       "4            1                                               None        0.0   \n",
       "\n",
       "            pref_name protein_class_desc  protein_class_id replaced_by  \\\n",
       "0       Protein class      protein class                 0        None   \n",
       "1              Enzyme             enzyme                 1        None   \n",
       "2            Adhesion           adhesion                 2        None   \n",
       "3    Secreted protein           secreted                 3        None   \n",
       "4  Structural protein         structural                 4        None   \n",
       "\n",
       "      short_name  sort_order  \n",
       "0  Protein class         NaN  \n",
       "1         Enzyme         1.0  \n",
       "2       Adhesion         6.0  \n",
       "3       Secreted         9.0  \n",
       "4     Structural        10.0  "
      ]
     },
     "execution_count": 34,
     "metadata": {},
     "output_type": "execute_result"
    }
   ],
   "source": [
    "protein_class = new_client.protein_classification\n",
    "pd.DataFrame(protein_class.filter(l4__icontains='chemokine receptor')).head()"
   ]
  },
  {
   "cell_type": "markdown",
   "metadata": {},
   "source": [
    "### 3.4. Activities\n",
    "The `activitity` API endpoint provides bioactivity data for compounds that have been measured against target(s) in an assay."
   ]
  },
  {
   "cell_type": "markdown",
   "metadata": {},
   "source": [
    "#### 3.4.1. Get all IC50 activities related to the hERG target"
   ]
  },
  {
   "cell_type": "code",
   "execution_count": 40,
   "metadata": {},
   "outputs": [
    {
     "name": "stdout",
     "output_type": "stream",
     "text": [
      "Result: 15530 activities for hERG target\n",
      "For example, the first activity is as follows:\n"
     ]
    },
    {
     "data": {
      "text/plain": [
       "{'action_type': None,\n",
       " 'activity_comment': None,\n",
       " 'activity_id': 305156,\n",
       " 'activity_properties': [],\n",
       " 'assay_chembl_id': 'CHEMBL841079',\n",
       " 'assay_description': 'Inhibition of hERG currents Kv11.1',\n",
       " 'assay_type': 'T',\n",
       " 'assay_variant_accession': None,\n",
       " 'assay_variant_mutation': None,\n",
       " 'bao_endpoint': 'BAO_0000190',\n",
       " 'bao_format': 'BAO_0000019',\n",
       " 'bao_label': 'assay format',\n",
       " 'canonical_smiles': 'O=C1NCCN1CCN1CCC(c2cn(-c3ccc(F)cc3)c3ccc(Cl)cc23)CC1',\n",
       " 'data_validity_comment': None,\n",
       " 'data_validity_description': None,\n",
       " 'document_chembl_id': 'CHEMBL1134478',\n",
       " 'document_journal': 'J Med Chem',\n",
       " 'document_year': 2001,\n",
       " 'ligand_efficiency': None,\n",
       " 'molecule_chembl_id': 'CHEMBL12713',\n",
       " 'molecule_pref_name': 'SERTINDOLE',\n",
       " 'parent_molecule_chembl_id': 'CHEMBL12713',\n",
       " 'pchembl_value': '7.85',\n",
       " 'potential_duplicate': 0,\n",
       " 'qudt_units': 'http://www.openphacts.org/units/Nanomolar',\n",
       " 'record_id': 71623,\n",
       " 'relation': '=',\n",
       " 'src_id': 1,\n",
       " 'standard_flag': 1,\n",
       " 'standard_relation': '=',\n",
       " 'standard_text_value': None,\n",
       " 'standard_type': 'IC50',\n",
       " 'standard_units': 'nM',\n",
       " 'standard_upper_value': None,\n",
       " 'standard_value': '14.0',\n",
       " 'target_chembl_id': 'CHEMBL240',\n",
       " 'target_organism': 'Homo sapiens',\n",
       " 'target_pref_name': 'HERG',\n",
       " 'target_tax_id': '9606',\n",
       " 'text_value': None,\n",
       " 'toid': None,\n",
       " 'type': 'IC50',\n",
       " 'units': 'nM',\n",
       " 'uo_units': 'UO_0000065',\n",
       " 'upper_value': None,\n",
       " 'value': '14.0'}"
      ]
     },
     "execution_count": 40,
     "metadata": {},
     "output_type": "execute_result"
    }
   ],
   "source": [
    "target = new_client.target\n",
    "activity = new_client.activity\n",
    "herg = target.filter(pref_name__iexact='hERG').only('target_chembl_id')[0]\n",
    "herg_activities = activity.filter(target_chembl_id=herg['target_chembl_id']).filter(standard_type=\"IC50\")\n",
    "print(f'Result: {len(herg_activities)} activities for hERG target')\n",
    "print('For example, the first activity is as follows:')\n",
    "herg_activities[0]"
   ]
  },
  {
   "cell_type": "markdown",
   "metadata": {},
   "source": [
    "#### 3.4.2. Get all activities for a specific target with assay type B (binding)"
   ]
  },
  {
   "cell_type": "code",
   "execution_count": 37,
   "metadata": {},
   "outputs": [
    {
     "name": "stdout",
     "output_type": "stream",
     "text": [
      "Result: 910 activities were found for target CHEMBL3938 with assay type B\n",
      "For example, the first activity has the following properties:\n"
     ]
    },
    {
     "data": {
      "text/plain": [
       "{'action_type': None,\n",
       " 'activity_comment': 'Not Active',\n",
       " 'activity_id': 1650747,\n",
       " 'activity_properties': [],\n",
       " 'assay_chembl_id': 'CHEMBL860783',\n",
       " 'assay_description': 'Average Binding Constant for STK16; NA=Not Active at 10 uM',\n",
       " 'assay_type': 'B',\n",
       " 'assay_variant_accession': None,\n",
       " 'assay_variant_mutation': None,\n",
       " 'bao_endpoint': 'BAO_0000034',\n",
       " 'bao_format': 'BAO_0000357',\n",
       " 'bao_label': 'single protein format',\n",
       " 'canonical_smiles': 'CS(=O)(=O)CCNCc1ccc(-c2ccc3ncnc(Nc4ccc(OCc5cccc(F)c5)c(Cl)c4)c3c2)o1',\n",
       " 'data_validity_comment': None,\n",
       " 'data_validity_description': None,\n",
       " 'document_chembl_id': 'CHEMBL1144455',\n",
       " 'document_journal': 'Nat Biotechnol',\n",
       " 'document_year': 2005,\n",
       " 'ligand_efficiency': None,\n",
       " 'molecule_chembl_id': 'CHEMBL554',\n",
       " 'molecule_pref_name': 'LAPATINIB',\n",
       " 'parent_molecule_chembl_id': 'CHEMBL554',\n",
       " 'pchembl_value': None,\n",
       " 'potential_duplicate': 0,\n",
       " 'qudt_units': None,\n",
       " 'record_id': 405809,\n",
       " 'relation': None,\n",
       " 'src_id': 1,\n",
       " 'standard_flag': 0,\n",
       " 'standard_relation': None,\n",
       " 'standard_text_value': None,\n",
       " 'standard_type': 'Kd',\n",
       " 'standard_units': None,\n",
       " 'standard_upper_value': None,\n",
       " 'standard_value': None,\n",
       " 'target_chembl_id': 'CHEMBL3938',\n",
       " 'target_organism': 'Homo sapiens',\n",
       " 'target_pref_name': 'Serine/threonine-protein kinase 16',\n",
       " 'target_tax_id': '9606',\n",
       " 'text_value': None,\n",
       " 'toid': None,\n",
       " 'type': 'Kd',\n",
       " 'units': None,\n",
       " 'uo_units': None,\n",
       " 'upper_value': None,\n",
       " 'value': None}"
      ]
     },
     "execution_count": 37,
     "metadata": {},
     "output_type": "execute_result"
    }
   ],
   "source": [
    "activity = new_client.activity\n",
    "res = activity.filter(target_chembl_id='CHEMBL3938', assay_type='B')\n",
    "print(f'Result: {len(res)} activities were found for target CHEMBL3938 with assay type B')\n",
    "print('For example, the first activity has the following properties:')\n",
    "res[0]"
   ]
  },
  {
   "cell_type": "markdown",
   "metadata": {},
   "source": [
    "#### 3.4.3. Get all activities with a pChEMBL value for Aspirin\n",
    "The pChEMBL value is a standardized metric used in cheminformatics to compare the potency of different compounds. It is derived from various biological assay measurements such as IC50, EC50, Ki, and Kd values. The pChEMBL value provides a consistent scale for evaluating compound potency, facilitating easier comparison across different datasets and experiments. As an example, an IC50 measurement of 1 nM would have a pChEMBL value of 9. pChEMBL is defined as: -Log(molar IC50, XC50, EC50, AC50, Ki, Kd or Potency)."
   ]
  },
  {
   "cell_type": "code",
   "execution_count": 41,
   "metadata": {},
   "outputs": [
    {
     "name": "stdout",
     "output_type": "stream",
     "text": [
      "Result: 150 activities were found for molecule CHEMBL25 with a pChEMBL value\n"
     ]
    }
   ],
   "source": [
    "activities = new_client.activity\n",
    "res = activities.filter(molecule_chembl_id=\"CHEMBL25\", pchembl_value__isnull=False)\n",
    "\n",
    "print(f'Result: {len(res)} activities were found for molecule CHEMBL25 with a pChEMBL value')"
   ]
  },
  {
   "cell_type": "markdown",
   "metadata": {},
   "source": [
    "### 3.5. Assays\n",
    "#### 3.5.1. Search for ADMET-related inhibitor assays (assay type A) measured in Rat"
   ]
  },
  {
   "cell_type": "code",
   "execution_count": 44,
   "metadata": {},
   "outputs": [
    {
     "data": {
      "text/html": [
       "<div>\n",
       "<style scoped>\n",
       "    .dataframe tbody tr th:only-of-type {\n",
       "        vertical-align: middle;\n",
       "    }\n",
       "\n",
       "    .dataframe tbody tr th {\n",
       "        vertical-align: top;\n",
       "    }\n",
       "\n",
       "    .dataframe thead th {\n",
       "        text-align: right;\n",
       "    }\n",
       "</style>\n",
       "<table border=\"1\" class=\"dataframe\">\n",
       "  <thead>\n",
       "    <tr style=\"text-align: right;\">\n",
       "      <th></th>\n",
       "      <th>assay_chembl_id</th>\n",
       "      <th>assay_organism</th>\n",
       "      <th>description</th>\n",
       "    </tr>\n",
       "  </thead>\n",
       "  <tbody>\n",
       "    <tr>\n",
       "      <th>0</th>\n",
       "      <td>CHEMBL884521</td>\n",
       "      <td>Rattus norvegicus</td>\n",
       "      <td>Inhibition of cytochrome P450 progesterone 15-...</td>\n",
       "    </tr>\n",
       "    <tr>\n",
       "      <th>1</th>\n",
       "      <td>CHEMBL615148</td>\n",
       "      <td>Rattus norvegicus</td>\n",
       "      <td>Inhibition of cytochrome P450 progesterone 16-...</td>\n",
       "    </tr>\n",
       "    <tr>\n",
       "      <th>2</th>\n",
       "      <td>CHEMBL615199</td>\n",
       "      <td>Rattus norvegicus</td>\n",
       "      <td>Inhibition of cytochrome P450 progesterone 2-a...</td>\n",
       "    </tr>\n",
       "    <tr>\n",
       "      <th>3</th>\n",
       "      <td>CHEMBL883800</td>\n",
       "      <td>Rattus norvegicus</td>\n",
       "      <td>Inhibition of progesterone 6-beta-hydroxylase ...</td>\n",
       "    </tr>\n",
       "    <tr>\n",
       "      <th>4</th>\n",
       "      <td>CHEMBL618439</td>\n",
       "      <td>Rattus norvegicus</td>\n",
       "      <td>Inhibition of progesterone 6-beta-hydroxylase ...</td>\n",
       "    </tr>\n",
       "  </tbody>\n",
       "</table>\n",
       "</div>"
      ],
      "text/plain": [
       "  assay_chembl_id     assay_organism  \\\n",
       "0    CHEMBL884521  Rattus norvegicus   \n",
       "1    CHEMBL615148  Rattus norvegicus   \n",
       "2    CHEMBL615199  Rattus norvegicus   \n",
       "3    CHEMBL883800  Rattus norvegicus   \n",
       "4    CHEMBL618439  Rattus norvegicus   \n",
       "\n",
       "                                         description  \n",
       "0  Inhibition of cytochrome P450 progesterone 15-...  \n",
       "1  Inhibition of cytochrome P450 progesterone 16-...  \n",
       "2  Inhibition of cytochrome P450 progesterone 2-a...  \n",
       "3  Inhibition of progesterone 6-beta-hydroxylase ...  \n",
       "4  Inhibition of progesterone 6-beta-hydroxylase ...  "
      ]
     },
     "execution_count": 44,
     "metadata": {},
     "output_type": "execute_result"
    }
   ],
   "source": [
    "assay = new_client.assay\n",
    "res = assay.filter(description__icontains='inhibit', assay_type='A', assay_organism='Rattus norvegicus').only(['assay_chembl_id','assay_organism','description'])\n",
    "pd.DataFrame(res).head()"
   ]
  },
  {
   "cell_type": "markdown",
   "metadata": {},
   "source": [
    "#### 3.5.2 Find assays that assess nephrotoxicity (kidney toxicity)"
   ]
  },
  {
   "cell_type": "code",
   "execution_count": 45,
   "metadata": {},
   "outputs": [
    {
     "data": {
      "text/html": [
       "<div>\n",
       "<style scoped>\n",
       "    .dataframe tbody tr th:only-of-type {\n",
       "        vertical-align: middle;\n",
       "    }\n",
       "\n",
       "    .dataframe tbody tr th {\n",
       "        vertical-align: top;\n",
       "    }\n",
       "\n",
       "    .dataframe thead th {\n",
       "        text-align: right;\n",
       "    }\n",
       "</style>\n",
       "<table border=\"1\" class=\"dataframe\">\n",
       "  <thead>\n",
       "    <tr style=\"text-align: right;\">\n",
       "      <th></th>\n",
       "      <th>assay_chembl_id</th>\n",
       "      <th>assay_organism</th>\n",
       "      <th>description</th>\n",
       "    </tr>\n",
       "  </thead>\n",
       "  <tbody>\n",
       "    <tr>\n",
       "      <th>0</th>\n",
       "      <td>CHEMBL730330</td>\n",
       "      <td>Mus musculus</td>\n",
       "      <td>Nephrotoxicity upon intragastric administratio...</td>\n",
       "    </tr>\n",
       "    <tr>\n",
       "      <th>1</th>\n",
       "      <td>CHEMBL730331</td>\n",
       "      <td>Mus musculus</td>\n",
       "      <td>Nephrotoxicity upon intragastric administratio...</td>\n",
       "    </tr>\n",
       "    <tr>\n",
       "      <th>2</th>\n",
       "      <td>CHEMBL729614</td>\n",
       "      <td>Mus musculus</td>\n",
       "      <td>Nephrotoxicity upon intragastric administratio...</td>\n",
       "    </tr>\n",
       "    <tr>\n",
       "      <th>3</th>\n",
       "      <td>CHEMBL729615</td>\n",
       "      <td>Mus musculus</td>\n",
       "      <td>Nephrotoxicity upon intragastric administratio...</td>\n",
       "    </tr>\n",
       "    <tr>\n",
       "      <th>4</th>\n",
       "      <td>CHEMBL729616</td>\n",
       "      <td>Mus musculus</td>\n",
       "      <td>Nephrotoxicity upon intragastric administratio...</td>\n",
       "    </tr>\n",
       "  </tbody>\n",
       "</table>\n",
       "</div>"
      ],
      "text/plain": [
       "  assay_chembl_id assay_organism  \\\n",
       "0    CHEMBL730330   Mus musculus   \n",
       "1    CHEMBL730331   Mus musculus   \n",
       "2    CHEMBL729614   Mus musculus   \n",
       "3    CHEMBL729615   Mus musculus   \n",
       "4    CHEMBL729616   Mus musculus   \n",
       "\n",
       "                                         description  \n",
       "0  Nephrotoxicity upon intragastric administratio...  \n",
       "1  Nephrotoxicity upon intragastric administratio...  \n",
       "2  Nephrotoxicity upon intragastric administratio...  \n",
       "3  Nephrotoxicity upon intragastric administratio...  \n",
       "4  Nephrotoxicity upon intragastric administratio...  "
      ]
     },
     "execution_count": 45,
     "metadata": {},
     "output_type": "execute_result"
    }
   ],
   "source": [
    "assay = new_client.assay\n",
    "res = assay.filter(description__iregex='nephrotoxicity|renal toxicity').only(['assay_chembl_id','assay_organism','description'])\n",
    "pd.DataFrame(res).head()"
   ]
  },
  {
   "cell_type": "markdown",
   "metadata": {},
   "source": [
    "### 3.6. Tissues\n",
    "#### 3.6.1. Get tissue by UBERON ID \n",
    "Note that UBERON is a cross-species anatomy ontology."
   ]
  },
  {
   "cell_type": "code",
   "execution_count": 46,
   "metadata": {},
   "outputs": [
    {
     "data": {
      "text/plain": [
       "[{'bto_id': 'BTO:0000068', 'caloha_id': 'TS-0034', 'efo_id': None, 'pref_name': 'Amniotic fluid', 'tissue_chembl_id': 'CHEMBL3638177', 'uberon_id': 'UBERON:0000173'}]"
      ]
     },
     "execution_count": 46,
     "metadata": {},
     "output_type": "execute_result"
    }
   ],
   "source": [
    "tissue = new_client.tissue\n",
    "tissue.filter(uberon_id=\"UBERON:0000173\")"
   ]
  },
  {
   "cell_type": "markdown",
   "metadata": {},
   "source": [
    "#### 3.6.2. Get tissue by name"
   ]
  },
  {
   "cell_type": "code",
   "execution_count": 48,
   "metadata": {},
   "outputs": [
    {
     "data": {
      "text/html": [
       "<div>\n",
       "<style scoped>\n",
       "    .dataframe tbody tr th:only-of-type {\n",
       "        vertical-align: middle;\n",
       "    }\n",
       "\n",
       "    .dataframe tbody tr th {\n",
       "        vertical-align: top;\n",
       "    }\n",
       "\n",
       "    .dataframe thead th {\n",
       "        text-align: right;\n",
       "    }\n",
       "</style>\n",
       "<table border=\"1\" class=\"dataframe\">\n",
       "  <thead>\n",
       "    <tr style=\"text-align: right;\">\n",
       "      <th></th>\n",
       "      <th>bto_id</th>\n",
       "      <th>caloha_id</th>\n",
       "      <th>efo_id</th>\n",
       "      <th>pref_name</th>\n",
       "      <th>tissue_chembl_id</th>\n",
       "      <th>uberon_id</th>\n",
       "    </tr>\n",
       "  </thead>\n",
       "  <tbody>\n",
       "    <tr>\n",
       "      <th>0</th>\n",
       "      <td>None</td>\n",
       "      <td>None</td>\n",
       "      <td>None</td>\n",
       "      <td>Blood brain barrier</td>\n",
       "      <td>CHEMBL3987461</td>\n",
       "      <td>UBERON:0000120</td>\n",
       "    </tr>\n",
       "    <tr>\n",
       "      <th>1</th>\n",
       "      <td>BTO:0000089</td>\n",
       "      <td>TS-0079</td>\n",
       "      <td>EFO:0000296</td>\n",
       "      <td>Blood</td>\n",
       "      <td>CHEMBL3638178</td>\n",
       "      <td>UBERON:0000178</td>\n",
       "    </tr>\n",
       "    <tr>\n",
       "      <th>2</th>\n",
       "      <td>BTO:0001102</td>\n",
       "      <td>TS-0080</td>\n",
       "      <td>EFO:0000817</td>\n",
       "      <td>Blood vessel</td>\n",
       "      <td>CHEMBL3987656</td>\n",
       "      <td>UBERON:0001981</td>\n",
       "    </tr>\n",
       "    <tr>\n",
       "      <th>3</th>\n",
       "      <td>BTO:0000102</td>\n",
       "      <td>None</td>\n",
       "      <td>None</td>\n",
       "      <td>Blood clot</td>\n",
       "      <td>CHEMBL3987655</td>\n",
       "      <td>UBERON:0010210</td>\n",
       "    </tr>\n",
       "    <tr>\n",
       "      <th>4</th>\n",
       "      <td>None</td>\n",
       "      <td>None</td>\n",
       "      <td>None</td>\n",
       "      <td>Blood/Brain</td>\n",
       "      <td>CHEMBL3832984</td>\n",
       "      <td>None</td>\n",
       "    </tr>\n",
       "  </tbody>\n",
       "</table>\n",
       "</div>"
      ],
      "text/plain": [
       "        bto_id caloha_id       efo_id            pref_name tissue_chembl_id  \\\n",
       "0         None      None         None  Blood brain barrier    CHEMBL3987461   \n",
       "1  BTO:0000089   TS-0079  EFO:0000296                Blood    CHEMBL3638178   \n",
       "2  BTO:0001102   TS-0080  EFO:0000817         Blood vessel    CHEMBL3987656   \n",
       "3  BTO:0000102      None         None           Blood clot    CHEMBL3987655   \n",
       "4         None      None         None          Blood/Brain    CHEMBL3832984   \n",
       "\n",
       "        uberon_id  \n",
       "0  UBERON:0000120  \n",
       "1  UBERON:0000178  \n",
       "2  UBERON:0001981  \n",
       "3  UBERON:0010210  \n",
       "4            None  "
      ]
     },
     "execution_count": 48,
     "metadata": {},
     "output_type": "execute_result"
    }
   ],
   "source": [
    "tissue = new_client.tissue\n",
    "pd.DataFrame(tissue.filter(pref_name__istartswith='blood')).head()"
   ]
  },
  {
   "cell_type": "markdown",
   "metadata": {},
   "source": [
    "#### 3.6.3. Get tissue by BTO ID \n",
    "Note that BTO stands for Brenda Tissue Ontology."
   ]
  },
  {
   "cell_type": "code",
   "execution_count": 49,
   "metadata": {},
   "outputs": [
    {
     "data": {
      "text/plain": [
       "[{'bto_id': 'BTO:0001073', 'caloha_id': 'TS-0798', 'efo_id': 'EFO:0000857', 'pref_name': 'Pituitary gland', 'tissue_chembl_id': 'CHEMBL3638173', 'uberon_id': 'UBERON:0000007'}]"
      ]
     },
     "execution_count": 49,
     "metadata": {},
     "output_type": "execute_result"
    }
   ],
   "source": [
    "tissue = new_client.tissue\n",
    "tissue.filter(bto_id=\"BTO:0001073\")"
   ]
  },
  {
   "cell_type": "markdown",
   "metadata": {},
   "source": [
    "#### 3.6.4. Get tissue by EFO ID \n",
    "Note that EFO refers to Experimental Factor Ontology."
   ]
  },
  {
   "cell_type": "code",
   "execution_count": 50,
   "metadata": {},
   "outputs": [
    {
     "data": {
      "text/html": [
       "<div>\n",
       "<style scoped>\n",
       "    .dataframe tbody tr th:only-of-type {\n",
       "        vertical-align: middle;\n",
       "    }\n",
       "\n",
       "    .dataframe tbody tr th {\n",
       "        vertical-align: top;\n",
       "    }\n",
       "\n",
       "    .dataframe thead th {\n",
       "        text-align: right;\n",
       "    }\n",
       "</style>\n",
       "<table border=\"1\" class=\"dataframe\">\n",
       "  <thead>\n",
       "    <tr style=\"text-align: right;\">\n",
       "      <th></th>\n",
       "      <th>bto_id</th>\n",
       "      <th>caloha_id</th>\n",
       "      <th>efo_id</th>\n",
       "      <th>pref_name</th>\n",
       "      <th>tissue_chembl_id</th>\n",
       "      <th>uberon_id</th>\n",
       "    </tr>\n",
       "  </thead>\n",
       "  <tbody>\n",
       "    <tr>\n",
       "      <th>0</th>\n",
       "      <td>BTO:0001281</td>\n",
       "      <td>TS-0956</td>\n",
       "      <td>EFO:0000869</td>\n",
       "      <td>Spleen</td>\n",
       "      <td>CHEMBL3559722</td>\n",
       "      <td>UBERON:0002106</td>\n",
       "    </tr>\n",
       "  </tbody>\n",
       "</table>\n",
       "</div>"
      ],
      "text/plain": [
       "        bto_id caloha_id       efo_id pref_name tissue_chembl_id  \\\n",
       "0  BTO:0001281   TS-0956  EFO:0000869    Spleen    CHEMBL3559722   \n",
       "\n",
       "        uberon_id  \n",
       "0  UBERON:0002106  "
      ]
     },
     "execution_count": 50,
     "metadata": {},
     "output_type": "execute_result"
    }
   ],
   "source": [
    "tissue = new_client.tissue\n",
    "res = tissue.filter(efo_id=\"EFO:0000869\")  # spleen\n",
    "pd.DataFrame(res)"
   ]
  },
  {
   "cell_type": "markdown",
   "metadata": {},
   "source": [
    "### 3.7. Cells"
   ]
  },
  {
   "cell_type": "code",
   "execution_count": null,
   "metadata": {},
   "outputs": [],
   "source": []
  },
  {
   "cell_type": "markdown",
   "metadata": {},
   "source": [
    "### 3.8. Retriving references and sources"
   ]
  },
  {
   "cell_type": "markdown",
   "metadata": {},
   "source": [
    "### 3.9. Some other utilities"
   ]
  },
  {
   "cell_type": "markdown",
   "metadata": {},
   "source": []
  }
 ],
 "metadata": {
  "kernelspec": {
   "display_name": "Python 3",
   "language": "python",
   "name": "python3"
  },
  "language_info": {
   "codemirror_mode": {
    "name": "ipython",
    "version": 3
   },
   "file_extension": ".py",
   "mimetype": "text/x-python",
   "name": "python",
   "nbconvert_exporter": "python",
   "pygments_lexer": "ipython3",
   "version": "3.8.12"
  }
 },
 "nbformat": 4,
 "nbformat_minor": 2
}
